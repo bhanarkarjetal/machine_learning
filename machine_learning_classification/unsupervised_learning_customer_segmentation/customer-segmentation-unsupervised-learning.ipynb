{
 "cells": [
  {
   "cell_type": "markdown",
   "id": "c502e3e6",
   "metadata": {
    "papermill": {
     "duration": 0.01146,
     "end_time": "2025-03-19T09:41:06.547102",
     "exception": false,
     "start_time": "2025-03-19T09:41:06.535642",
     "status": "completed"
    },
    "tags": []
   },
   "source": [
    "The main objective of this project is to work on customer segmentation dataset and find labels to identify what proportion of customers belong to which label. Further analyse which label belong to churning and not churning customers.\n",
    "\n",
    "Here, the number of clusters (`n_clusters`) will be 2.\n",
    "\n",
    "The customer segmentation dataset consists of more than 50,000 rows and 8 columns. I will use clustering algorithms of `KMeans`, `KMeans` with `PCA` and `DBSCAN`.\n",
    "\n",
    "The steps involved in this project are:\n",
    "\n",
    "* Importing necessary libraries\n",
    "* Data cleaning\n",
    "* Exploratory data analysis\n",
    "* Visualization of raw data\n",
    "* Performing `KMeans` clustering\n",
    "* Performing `AgglomerativeClustering`\n",
    "* Performing `KMeans` with `PCA`\n",
    "* Performing `DBSCAN`\n",
    "* Visualizing output obtained from above mentioned algorithms\n",
    "* Comparing results\n",
    "* Identifying which label belongs to customer leaving or staying"
   ]
  },
  {
   "cell_type": "markdown",
   "id": "773e8ca5",
   "metadata": {
    "papermill": {
     "duration": 0.010246,
     "end_time": "2025-03-19T09:41:06.568130",
     "exception": false,
     "start_time": "2025-03-19T09:41:06.557884",
     "status": "completed"
    },
    "tags": []
   },
   "source": [
    "## Importing necessary libraries"
   ]
  },
  {
   "cell_type": "code",
   "execution_count": 1,
   "id": "39381b55",
   "metadata": {
    "_cell_guid": "b1076dfc-b9ad-4769-8c92-a6c4dae69d19",
    "_uuid": "8f2839f25d086af736a60e9eeb907d3b93b6e0e5",
    "execution": {
     "iopub.execute_input": "2025-03-19T09:41:06.591268Z",
     "iopub.status.busy": "2025-03-19T09:41:06.590899Z",
     "iopub.status.idle": "2025-03-19T09:41:10.126265Z",
     "shell.execute_reply": "2025-03-19T09:41:10.125071Z"
    },
    "papermill": {
     "duration": 3.54924,
     "end_time": "2025-03-19T09:41:10.128602",
     "exception": false,
     "start_time": "2025-03-19T09:41:06.579362",
     "status": "completed"
    },
    "tags": []
   },
   "outputs": [],
   "source": [
    "import pandas as pd\n",
    "import numpy as np\n",
    "import matplotlib.pyplot as plt\n",
    "import seaborn as sns\n",
    "from sklearn.cluster import KMeans, DBSCAN, AgglomerativeClustering\n",
    "from sklearn.decomposition import PCA\n",
    "from sklearn.preprocessing import StandardScaler, MinMaxScaler\n",
    "from sklearn.preprocessing import LabelEncoder\n",
    "from sklearn.metrics import silhouette_score"
   ]
  },
  {
   "cell_type": "markdown",
   "id": "db77cd07",
   "metadata": {
    "papermill": {
     "duration": 0.010243,
     "end_time": "2025-03-19T09:41:10.149801",
     "exception": false,
     "start_time": "2025-03-19T09:41:10.139558",
     "status": "completed"
    },
    "tags": []
   },
   "source": [
    "## Importing dataset"
   ]
  },
  {
   "cell_type": "code",
   "execution_count": 2,
   "id": "1287c944",
   "metadata": {
    "execution": {
     "iopub.execute_input": "2025-03-19T09:41:10.172058Z",
     "iopub.status.busy": "2025-03-19T09:41:10.171542Z",
     "iopub.status.idle": "2025-03-19T09:41:11.375199Z",
     "shell.execute_reply": "2025-03-19T09:41:11.374078Z"
    },
    "papermill": {
     "duration": 1.216993,
     "end_time": "2025-03-19T09:41:11.377056",
     "exception": false,
     "start_time": "2025-03-19T09:41:10.160063",
     "status": "completed"
    },
    "tags": []
   },
   "outputs": [
    {
     "ename": "FileNotFoundError",
     "evalue": "[Errno 2] No such file or directory: '/kaggle/input/customer-segmentation-csv/customer_segmentation_csv.csv'",
     "output_type": "error",
     "traceback": [
      "\u001b[1;31m---------------------------------------------------------------------------\u001b[0m",
      "\u001b[1;31mFileNotFoundError\u001b[0m                         Traceback (most recent call last)",
      "Cell \u001b[1;32mIn[2], line 1\u001b[0m\n\u001b[1;32m----> 1\u001b[0m initial_df \u001b[38;5;241m=\u001b[39m \u001b[43mpd\u001b[49m\u001b[38;5;241;43m.\u001b[39;49m\u001b[43mread_csv\u001b[49m\u001b[43m(\u001b[49m\u001b[38;5;124;43m'\u001b[39;49m\u001b[38;5;124;43m/kaggle/input/customer-segmentation-csv/customer_segmentation_csv.csv\u001b[39;49m\u001b[38;5;124;43m'\u001b[39;49m\u001b[43m)\u001b[49m\n",
      "File \u001b[1;32m~\\AppData\\Local\\Packages\\PythonSoftwareFoundation.Python.3.11_qbz5n2kfra8p0\\LocalCache\\local-packages\\Python311\\site-packages\\pandas\\io\\parsers\\readers.py:1026\u001b[0m, in \u001b[0;36mread_csv\u001b[1;34m(filepath_or_buffer, sep, delimiter, header, names, index_col, usecols, dtype, engine, converters, true_values, false_values, skipinitialspace, skiprows, skipfooter, nrows, na_values, keep_default_na, na_filter, verbose, skip_blank_lines, parse_dates, infer_datetime_format, keep_date_col, date_parser, date_format, dayfirst, cache_dates, iterator, chunksize, compression, thousands, decimal, lineterminator, quotechar, quoting, doublequote, escapechar, comment, encoding, encoding_errors, dialect, on_bad_lines, delim_whitespace, low_memory, memory_map, float_precision, storage_options, dtype_backend)\u001b[0m\n\u001b[0;32m   1013\u001b[0m kwds_defaults \u001b[38;5;241m=\u001b[39m _refine_defaults_read(\n\u001b[0;32m   1014\u001b[0m     dialect,\n\u001b[0;32m   1015\u001b[0m     delimiter,\n\u001b[1;32m   (...)\u001b[0m\n\u001b[0;32m   1022\u001b[0m     dtype_backend\u001b[38;5;241m=\u001b[39mdtype_backend,\n\u001b[0;32m   1023\u001b[0m )\n\u001b[0;32m   1024\u001b[0m kwds\u001b[38;5;241m.\u001b[39mupdate(kwds_defaults)\n\u001b[1;32m-> 1026\u001b[0m \u001b[38;5;28;01mreturn\u001b[39;00m \u001b[43m_read\u001b[49m\u001b[43m(\u001b[49m\u001b[43mfilepath_or_buffer\u001b[49m\u001b[43m,\u001b[49m\u001b[43m \u001b[49m\u001b[43mkwds\u001b[49m\u001b[43m)\u001b[49m\n",
      "File \u001b[1;32m~\\AppData\\Local\\Packages\\PythonSoftwareFoundation.Python.3.11_qbz5n2kfra8p0\\LocalCache\\local-packages\\Python311\\site-packages\\pandas\\io\\parsers\\readers.py:620\u001b[0m, in \u001b[0;36m_read\u001b[1;34m(filepath_or_buffer, kwds)\u001b[0m\n\u001b[0;32m    617\u001b[0m _validate_names(kwds\u001b[38;5;241m.\u001b[39mget(\u001b[38;5;124m\"\u001b[39m\u001b[38;5;124mnames\u001b[39m\u001b[38;5;124m\"\u001b[39m, \u001b[38;5;28;01mNone\u001b[39;00m))\n\u001b[0;32m    619\u001b[0m \u001b[38;5;66;03m# Create the parser.\u001b[39;00m\n\u001b[1;32m--> 620\u001b[0m parser \u001b[38;5;241m=\u001b[39m \u001b[43mTextFileReader\u001b[49m\u001b[43m(\u001b[49m\u001b[43mfilepath_or_buffer\u001b[49m\u001b[43m,\u001b[49m\u001b[43m \u001b[49m\u001b[38;5;241;43m*\u001b[39;49m\u001b[38;5;241;43m*\u001b[39;49m\u001b[43mkwds\u001b[49m\u001b[43m)\u001b[49m\n\u001b[0;32m    622\u001b[0m \u001b[38;5;28;01mif\u001b[39;00m chunksize \u001b[38;5;129;01mor\u001b[39;00m iterator:\n\u001b[0;32m    623\u001b[0m     \u001b[38;5;28;01mreturn\u001b[39;00m parser\n",
      "File \u001b[1;32m~\\AppData\\Local\\Packages\\PythonSoftwareFoundation.Python.3.11_qbz5n2kfra8p0\\LocalCache\\local-packages\\Python311\\site-packages\\pandas\\io\\parsers\\readers.py:1620\u001b[0m, in \u001b[0;36mTextFileReader.__init__\u001b[1;34m(self, f, engine, **kwds)\u001b[0m\n\u001b[0;32m   1617\u001b[0m     \u001b[38;5;28mself\u001b[39m\u001b[38;5;241m.\u001b[39moptions[\u001b[38;5;124m\"\u001b[39m\u001b[38;5;124mhas_index_names\u001b[39m\u001b[38;5;124m\"\u001b[39m] \u001b[38;5;241m=\u001b[39m kwds[\u001b[38;5;124m\"\u001b[39m\u001b[38;5;124mhas_index_names\u001b[39m\u001b[38;5;124m\"\u001b[39m]\n\u001b[0;32m   1619\u001b[0m \u001b[38;5;28mself\u001b[39m\u001b[38;5;241m.\u001b[39mhandles: IOHandles \u001b[38;5;241m|\u001b[39m \u001b[38;5;28;01mNone\u001b[39;00m \u001b[38;5;241m=\u001b[39m \u001b[38;5;28;01mNone\u001b[39;00m\n\u001b[1;32m-> 1620\u001b[0m \u001b[38;5;28mself\u001b[39m\u001b[38;5;241m.\u001b[39m_engine \u001b[38;5;241m=\u001b[39m \u001b[38;5;28;43mself\u001b[39;49m\u001b[38;5;241;43m.\u001b[39;49m\u001b[43m_make_engine\u001b[49m\u001b[43m(\u001b[49m\u001b[43mf\u001b[49m\u001b[43m,\u001b[49m\u001b[43m \u001b[49m\u001b[38;5;28;43mself\u001b[39;49m\u001b[38;5;241;43m.\u001b[39;49m\u001b[43mengine\u001b[49m\u001b[43m)\u001b[49m\n",
      "File \u001b[1;32m~\\AppData\\Local\\Packages\\PythonSoftwareFoundation.Python.3.11_qbz5n2kfra8p0\\LocalCache\\local-packages\\Python311\\site-packages\\pandas\\io\\parsers\\readers.py:1880\u001b[0m, in \u001b[0;36mTextFileReader._make_engine\u001b[1;34m(self, f, engine)\u001b[0m\n\u001b[0;32m   1878\u001b[0m     \u001b[38;5;28;01mif\u001b[39;00m \u001b[38;5;124m\"\u001b[39m\u001b[38;5;124mb\u001b[39m\u001b[38;5;124m\"\u001b[39m \u001b[38;5;129;01mnot\u001b[39;00m \u001b[38;5;129;01min\u001b[39;00m mode:\n\u001b[0;32m   1879\u001b[0m         mode \u001b[38;5;241m+\u001b[39m\u001b[38;5;241m=\u001b[39m \u001b[38;5;124m\"\u001b[39m\u001b[38;5;124mb\u001b[39m\u001b[38;5;124m\"\u001b[39m\n\u001b[1;32m-> 1880\u001b[0m \u001b[38;5;28mself\u001b[39m\u001b[38;5;241m.\u001b[39mhandles \u001b[38;5;241m=\u001b[39m \u001b[43mget_handle\u001b[49m\u001b[43m(\u001b[49m\n\u001b[0;32m   1881\u001b[0m \u001b[43m    \u001b[49m\u001b[43mf\u001b[49m\u001b[43m,\u001b[49m\n\u001b[0;32m   1882\u001b[0m \u001b[43m    \u001b[49m\u001b[43mmode\u001b[49m\u001b[43m,\u001b[49m\n\u001b[0;32m   1883\u001b[0m \u001b[43m    \u001b[49m\u001b[43mencoding\u001b[49m\u001b[38;5;241;43m=\u001b[39;49m\u001b[38;5;28;43mself\u001b[39;49m\u001b[38;5;241;43m.\u001b[39;49m\u001b[43moptions\u001b[49m\u001b[38;5;241;43m.\u001b[39;49m\u001b[43mget\u001b[49m\u001b[43m(\u001b[49m\u001b[38;5;124;43m\"\u001b[39;49m\u001b[38;5;124;43mencoding\u001b[39;49m\u001b[38;5;124;43m\"\u001b[39;49m\u001b[43m,\u001b[49m\u001b[43m \u001b[49m\u001b[38;5;28;43;01mNone\u001b[39;49;00m\u001b[43m)\u001b[49m\u001b[43m,\u001b[49m\n\u001b[0;32m   1884\u001b[0m \u001b[43m    \u001b[49m\u001b[43mcompression\u001b[49m\u001b[38;5;241;43m=\u001b[39;49m\u001b[38;5;28;43mself\u001b[39;49m\u001b[38;5;241;43m.\u001b[39;49m\u001b[43moptions\u001b[49m\u001b[38;5;241;43m.\u001b[39;49m\u001b[43mget\u001b[49m\u001b[43m(\u001b[49m\u001b[38;5;124;43m\"\u001b[39;49m\u001b[38;5;124;43mcompression\u001b[39;49m\u001b[38;5;124;43m\"\u001b[39;49m\u001b[43m,\u001b[49m\u001b[43m \u001b[49m\u001b[38;5;28;43;01mNone\u001b[39;49;00m\u001b[43m)\u001b[49m\u001b[43m,\u001b[49m\n\u001b[0;32m   1885\u001b[0m \u001b[43m    \u001b[49m\u001b[43mmemory_map\u001b[49m\u001b[38;5;241;43m=\u001b[39;49m\u001b[38;5;28;43mself\u001b[39;49m\u001b[38;5;241;43m.\u001b[39;49m\u001b[43moptions\u001b[49m\u001b[38;5;241;43m.\u001b[39;49m\u001b[43mget\u001b[49m\u001b[43m(\u001b[49m\u001b[38;5;124;43m\"\u001b[39;49m\u001b[38;5;124;43mmemory_map\u001b[39;49m\u001b[38;5;124;43m\"\u001b[39;49m\u001b[43m,\u001b[49m\u001b[43m \u001b[49m\u001b[38;5;28;43;01mFalse\u001b[39;49;00m\u001b[43m)\u001b[49m\u001b[43m,\u001b[49m\n\u001b[0;32m   1886\u001b[0m \u001b[43m    \u001b[49m\u001b[43mis_text\u001b[49m\u001b[38;5;241;43m=\u001b[39;49m\u001b[43mis_text\u001b[49m\u001b[43m,\u001b[49m\n\u001b[0;32m   1887\u001b[0m \u001b[43m    \u001b[49m\u001b[43merrors\u001b[49m\u001b[38;5;241;43m=\u001b[39;49m\u001b[38;5;28;43mself\u001b[39;49m\u001b[38;5;241;43m.\u001b[39;49m\u001b[43moptions\u001b[49m\u001b[38;5;241;43m.\u001b[39;49m\u001b[43mget\u001b[49m\u001b[43m(\u001b[49m\u001b[38;5;124;43m\"\u001b[39;49m\u001b[38;5;124;43mencoding_errors\u001b[39;49m\u001b[38;5;124;43m\"\u001b[39;49m\u001b[43m,\u001b[49m\u001b[43m \u001b[49m\u001b[38;5;124;43m\"\u001b[39;49m\u001b[38;5;124;43mstrict\u001b[39;49m\u001b[38;5;124;43m\"\u001b[39;49m\u001b[43m)\u001b[49m\u001b[43m,\u001b[49m\n\u001b[0;32m   1888\u001b[0m \u001b[43m    \u001b[49m\u001b[43mstorage_options\u001b[49m\u001b[38;5;241;43m=\u001b[39;49m\u001b[38;5;28;43mself\u001b[39;49m\u001b[38;5;241;43m.\u001b[39;49m\u001b[43moptions\u001b[49m\u001b[38;5;241;43m.\u001b[39;49m\u001b[43mget\u001b[49m\u001b[43m(\u001b[49m\u001b[38;5;124;43m\"\u001b[39;49m\u001b[38;5;124;43mstorage_options\u001b[39;49m\u001b[38;5;124;43m\"\u001b[39;49m\u001b[43m,\u001b[49m\u001b[43m \u001b[49m\u001b[38;5;28;43;01mNone\u001b[39;49;00m\u001b[43m)\u001b[49m\u001b[43m,\u001b[49m\n\u001b[0;32m   1889\u001b[0m \u001b[43m\u001b[49m\u001b[43m)\u001b[49m\n\u001b[0;32m   1890\u001b[0m \u001b[38;5;28;01massert\u001b[39;00m \u001b[38;5;28mself\u001b[39m\u001b[38;5;241m.\u001b[39mhandles \u001b[38;5;129;01mis\u001b[39;00m \u001b[38;5;129;01mnot\u001b[39;00m \u001b[38;5;28;01mNone\u001b[39;00m\n\u001b[0;32m   1891\u001b[0m f \u001b[38;5;241m=\u001b[39m \u001b[38;5;28mself\u001b[39m\u001b[38;5;241m.\u001b[39mhandles\u001b[38;5;241m.\u001b[39mhandle\n",
      "File \u001b[1;32m~\\AppData\\Local\\Packages\\PythonSoftwareFoundation.Python.3.11_qbz5n2kfra8p0\\LocalCache\\local-packages\\Python311\\site-packages\\pandas\\io\\common.py:873\u001b[0m, in \u001b[0;36mget_handle\u001b[1;34m(path_or_buf, mode, encoding, compression, memory_map, is_text, errors, storage_options)\u001b[0m\n\u001b[0;32m    868\u001b[0m \u001b[38;5;28;01melif\u001b[39;00m \u001b[38;5;28misinstance\u001b[39m(handle, \u001b[38;5;28mstr\u001b[39m):\n\u001b[0;32m    869\u001b[0m     \u001b[38;5;66;03m# Check whether the filename is to be opened in binary mode.\u001b[39;00m\n\u001b[0;32m    870\u001b[0m     \u001b[38;5;66;03m# Binary mode does not support 'encoding' and 'newline'.\u001b[39;00m\n\u001b[0;32m    871\u001b[0m     \u001b[38;5;28;01mif\u001b[39;00m ioargs\u001b[38;5;241m.\u001b[39mencoding \u001b[38;5;129;01mand\u001b[39;00m \u001b[38;5;124m\"\u001b[39m\u001b[38;5;124mb\u001b[39m\u001b[38;5;124m\"\u001b[39m \u001b[38;5;129;01mnot\u001b[39;00m \u001b[38;5;129;01min\u001b[39;00m ioargs\u001b[38;5;241m.\u001b[39mmode:\n\u001b[0;32m    872\u001b[0m         \u001b[38;5;66;03m# Encoding\u001b[39;00m\n\u001b[1;32m--> 873\u001b[0m         handle \u001b[38;5;241m=\u001b[39m \u001b[38;5;28;43mopen\u001b[39;49m\u001b[43m(\u001b[49m\n\u001b[0;32m    874\u001b[0m \u001b[43m            \u001b[49m\u001b[43mhandle\u001b[49m\u001b[43m,\u001b[49m\n\u001b[0;32m    875\u001b[0m \u001b[43m            \u001b[49m\u001b[43mioargs\u001b[49m\u001b[38;5;241;43m.\u001b[39;49m\u001b[43mmode\u001b[49m\u001b[43m,\u001b[49m\n\u001b[0;32m    876\u001b[0m \u001b[43m            \u001b[49m\u001b[43mencoding\u001b[49m\u001b[38;5;241;43m=\u001b[39;49m\u001b[43mioargs\u001b[49m\u001b[38;5;241;43m.\u001b[39;49m\u001b[43mencoding\u001b[49m\u001b[43m,\u001b[49m\n\u001b[0;32m    877\u001b[0m \u001b[43m            \u001b[49m\u001b[43merrors\u001b[49m\u001b[38;5;241;43m=\u001b[39;49m\u001b[43merrors\u001b[49m\u001b[43m,\u001b[49m\n\u001b[0;32m    878\u001b[0m \u001b[43m            \u001b[49m\u001b[43mnewline\u001b[49m\u001b[38;5;241;43m=\u001b[39;49m\u001b[38;5;124;43m\"\u001b[39;49m\u001b[38;5;124;43m\"\u001b[39;49m\u001b[43m,\u001b[49m\n\u001b[0;32m    879\u001b[0m \u001b[43m        \u001b[49m\u001b[43m)\u001b[49m\n\u001b[0;32m    880\u001b[0m     \u001b[38;5;28;01melse\u001b[39;00m:\n\u001b[0;32m    881\u001b[0m         \u001b[38;5;66;03m# Binary mode\u001b[39;00m\n\u001b[0;32m    882\u001b[0m         handle \u001b[38;5;241m=\u001b[39m \u001b[38;5;28mopen\u001b[39m(handle, ioargs\u001b[38;5;241m.\u001b[39mmode)\n",
      "\u001b[1;31mFileNotFoundError\u001b[0m: [Errno 2] No such file or directory: '/kaggle/input/customer-segmentation-csv/customer_segmentation_csv.csv'"
     ]
    }
   ],
   "source": [
    "initial_df = pd.read_csv('/kaggle/input/customer-segmentation-csv/customer_segmentation_csv.csv')"
   ]
  },
  {
   "cell_type": "code",
   "execution_count": null,
   "id": "51efec0e",
   "metadata": {
    "execution": {
     "iopub.execute_input": "2025-03-19T09:41:11.402515Z",
     "iopub.status.busy": "2025-03-19T09:41:11.402068Z",
     "iopub.status.idle": "2025-03-19T09:41:11.408833Z",
     "shell.execute_reply": "2025-03-19T09:41:11.407740Z"
    },
    "papermill": {
     "duration": 0.020716,
     "end_time": "2025-03-19T09:41:11.410375",
     "exception": false,
     "start_time": "2025-03-19T09:41:11.389659",
     "status": "completed"
    },
    "tags": []
   },
   "outputs": [
    {
     "data": {
      "text/plain": [
       "(541909, 8)"
      ]
     },
     "execution_count": 3,
     "metadata": {},
     "output_type": "execute_result"
    }
   ],
   "source": [
    "initial_df.shape"
   ]
  },
  {
   "cell_type": "code",
   "execution_count": null,
   "id": "568e7b9b",
   "metadata": {
    "execution": {
     "iopub.execute_input": "2025-03-19T09:41:11.433318Z",
     "iopub.status.busy": "2025-03-19T09:41:11.432888Z",
     "iopub.status.idle": "2025-03-19T09:41:11.475981Z",
     "shell.execute_reply": "2025-03-19T09:41:11.474420Z"
    },
    "papermill": {
     "duration": 0.056644,
     "end_time": "2025-03-19T09:41:11.477988",
     "exception": false,
     "start_time": "2025-03-19T09:41:11.421344",
     "status": "completed"
    },
    "tags": []
   },
   "outputs": [],
   "source": [
    "# reducing the size of dataset for faster computation\n",
    "initial_df = initial_df.sample(n = 15000, random_state = 42)"
   ]
  },
  {
   "cell_type": "code",
   "execution_count": null,
   "id": "56468053",
   "metadata": {
    "execution": {
     "iopub.execute_input": "2025-03-19T09:41:11.501349Z",
     "iopub.status.busy": "2025-03-19T09:41:11.500886Z",
     "iopub.status.idle": "2025-03-19T09:41:11.529875Z",
     "shell.execute_reply": "2025-03-19T09:41:11.528783Z"
    },
    "papermill": {
     "duration": 0.042627,
     "end_time": "2025-03-19T09:41:11.531900",
     "exception": false,
     "start_time": "2025-03-19T09:41:11.489273",
     "status": "completed"
    },
    "tags": []
   },
   "outputs": [
    {
     "data": {
      "text/html": [
       "<div>\n",
       "<style scoped>\n",
       "    .dataframe tbody tr th:only-of-type {\n",
       "        vertical-align: middle;\n",
       "    }\n",
       "\n",
       "    .dataframe tbody tr th {\n",
       "        vertical-align: top;\n",
       "    }\n",
       "\n",
       "    .dataframe thead th {\n",
       "        text-align: right;\n",
       "    }\n",
       "</style>\n",
       "<table border=\"1\" class=\"dataframe\">\n",
       "  <thead>\n",
       "    <tr style=\"text-align: right;\">\n",
       "      <th></th>\n",
       "      <th>InvoiceNo</th>\n",
       "      <th>StockCode</th>\n",
       "      <th>Description</th>\n",
       "      <th>Quantity</th>\n",
       "      <th>InvoiceDate</th>\n",
       "      <th>UnitPrice</th>\n",
       "      <th>CustomerID</th>\n",
       "      <th>Country</th>\n",
       "    </tr>\n",
       "  </thead>\n",
       "  <tbody>\n",
       "    <tr>\n",
       "      <th>209268</th>\n",
       "      <td>555200</td>\n",
       "      <td>71459</td>\n",
       "      <td>HANGING JAM JAR T-LIGHT HOLDER</td>\n",
       "      <td>24</td>\n",
       "      <td>6/1/11 12:05</td>\n",
       "      <td>0.85</td>\n",
       "      <td>17315.0</td>\n",
       "      <td>United Kingdom</td>\n",
       "    </tr>\n",
       "    <tr>\n",
       "      <th>207108</th>\n",
       "      <td>554974</td>\n",
       "      <td>21128</td>\n",
       "      <td>GOLD FISHING GNOME</td>\n",
       "      <td>4</td>\n",
       "      <td>5/27/11 17:14</td>\n",
       "      <td>6.95</td>\n",
       "      <td>14031.0</td>\n",
       "      <td>United Kingdom</td>\n",
       "    </tr>\n",
       "    <tr>\n",
       "      <th>167085</th>\n",
       "      <td>550972</td>\n",
       "      <td>21086</td>\n",
       "      <td>SET/6 RED SPOTTY PAPER CUPS</td>\n",
       "      <td>4</td>\n",
       "      <td>4/21/11 17:05</td>\n",
       "      <td>0.65</td>\n",
       "      <td>14031.0</td>\n",
       "      <td>United Kingdom</td>\n",
       "    </tr>\n",
       "    <tr>\n",
       "      <th>471836</th>\n",
       "      <td>576652</td>\n",
       "      <td>22812</td>\n",
       "      <td>PACK 3 BOXES CHRISTMAS PANETTONE</td>\n",
       "      <td>3</td>\n",
       "      <td>11/16/11 10:39</td>\n",
       "      <td>1.95</td>\n",
       "      <td>17198.0</td>\n",
       "      <td>United Kingdom</td>\n",
       "    </tr>\n",
       "    <tr>\n",
       "      <th>115865</th>\n",
       "      <td>546157</td>\n",
       "      <td>22180</td>\n",
       "      <td>RETROSPOT LAMP</td>\n",
       "      <td>2</td>\n",
       "      <td>3/10/11 8:40</td>\n",
       "      <td>9.95</td>\n",
       "      <td>13502.0</td>\n",
       "      <td>United Kingdom</td>\n",
       "    </tr>\n",
       "  </tbody>\n",
       "</table>\n",
       "</div>"
      ],
      "text/plain": [
       "       InvoiceNo StockCode                       Description  Quantity  \\\n",
       "209268    555200     71459    HANGING JAM JAR T-LIGHT HOLDER        24   \n",
       "207108    554974     21128                GOLD FISHING GNOME         4   \n",
       "167085    550972     21086       SET/6 RED SPOTTY PAPER CUPS         4   \n",
       "471836    576652     22812  PACK 3 BOXES CHRISTMAS PANETTONE         3   \n",
       "115865    546157     22180                    RETROSPOT LAMP         2   \n",
       "\n",
       "           InvoiceDate  UnitPrice  CustomerID         Country  \n",
       "209268    6/1/11 12:05       0.85     17315.0  United Kingdom  \n",
       "207108   5/27/11 17:14       6.95     14031.0  United Kingdom  \n",
       "167085   4/21/11 17:05       0.65     14031.0  United Kingdom  \n",
       "471836  11/16/11 10:39       1.95     17198.0  United Kingdom  \n",
       "115865    3/10/11 8:40       9.95     13502.0  United Kingdom  "
      ]
     },
     "execution_count": 5,
     "metadata": {},
     "output_type": "execute_result"
    }
   ],
   "source": [
    "initial_df.head()"
   ]
  },
  {
   "cell_type": "code",
   "execution_count": null,
   "id": "c8109cba",
   "metadata": {
    "execution": {
     "iopub.execute_input": "2025-03-19T09:41:11.555191Z",
     "iopub.status.busy": "2025-03-19T09:41:11.554821Z",
     "iopub.status.idle": "2025-03-19T09:41:11.561222Z",
     "shell.execute_reply": "2025-03-19T09:41:11.559940Z"
    },
    "papermill": {
     "duration": 0.019901,
     "end_time": "2025-03-19T09:41:11.562967",
     "exception": false,
     "start_time": "2025-03-19T09:41:11.543066",
     "status": "completed"
    },
    "tags": []
   },
   "outputs": [
    {
     "data": {
      "text/plain": [
       "(15000, 8)"
      ]
     },
     "execution_count": 6,
     "metadata": {},
     "output_type": "execute_result"
    }
   ],
   "source": [
    "initial_df.shape"
   ]
  },
  {
   "cell_type": "markdown",
   "id": "9b6f4171",
   "metadata": {
    "papermill": {
     "duration": 0.010929,
     "end_time": "2025-03-19T09:41:11.584883",
     "exception": false,
     "start_time": "2025-03-19T09:41:11.573954",
     "status": "completed"
    },
    "tags": []
   },
   "source": [
    "## Data cleaning and manipulation"
   ]
  },
  {
   "cell_type": "code",
   "execution_count": null,
   "id": "fd9490f1",
   "metadata": {
    "execution": {
     "iopub.execute_input": "2025-03-19T09:41:11.607928Z",
     "iopub.status.busy": "2025-03-19T09:41:11.607590Z",
     "iopub.status.idle": "2025-03-19T09:41:11.611964Z",
     "shell.execute_reply": "2025-03-19T09:41:11.611074Z"
    },
    "papermill": {
     "duration": 0.017888,
     "end_time": "2025-03-19T09:41:11.613640",
     "exception": false,
     "start_time": "2025-03-19T09:41:11.595752",
     "status": "completed"
    },
    "tags": []
   },
   "outputs": [],
   "source": [
    "# making column names standard\n",
    "col_names = ['invoice_no', 'stock_code', 'description', 'quantity', 'invoice_date', 'unit_price', 'customer_id', 'country']\n",
    "initial_df.columns = col_names"
   ]
  },
  {
   "cell_type": "code",
   "execution_count": null,
   "id": "07e8cabb",
   "metadata": {
    "execution": {
     "iopub.execute_input": "2025-03-19T09:41:11.638768Z",
     "iopub.status.busy": "2025-03-19T09:41:11.638401Z",
     "iopub.status.idle": "2025-03-19T09:41:11.643939Z",
     "shell.execute_reply": "2025-03-19T09:41:11.642944Z"
    },
    "papermill": {
     "duration": 0.020481,
     "end_time": "2025-03-19T09:41:11.645798",
     "exception": false,
     "start_time": "2025-03-19T09:41:11.625317",
     "status": "completed"
    },
    "tags": []
   },
   "outputs": [
    {
     "data": {
      "text/plain": [
       "(15000, 8)"
      ]
     },
     "execution_count": 8,
     "metadata": {},
     "output_type": "execute_result"
    }
   ],
   "source": [
    "initial_df.shape"
   ]
  },
  {
   "cell_type": "code",
   "execution_count": null,
   "id": "84b1c933",
   "metadata": {
    "execution": {
     "iopub.execute_input": "2025-03-19T09:41:11.669651Z",
     "iopub.status.busy": "2025-03-19T09:41:11.669246Z",
     "iopub.status.idle": "2025-03-19T09:41:11.700079Z",
     "shell.execute_reply": "2025-03-19T09:41:11.698531Z"
    },
    "papermill": {
     "duration": 0.045052,
     "end_time": "2025-03-19T09:41:11.701949",
     "exception": false,
     "start_time": "2025-03-19T09:41:11.656897",
     "status": "completed"
    },
    "tags": []
   },
   "outputs": [
    {
     "name": "stdout",
     "output_type": "stream",
     "text": [
      "<class 'pandas.core.frame.DataFrame'>\n",
      "Index: 15000 entries, 209268 to 273817\n",
      "Data columns (total 8 columns):\n",
      " #   Column        Non-Null Count  Dtype  \n",
      "---  ------        --------------  -----  \n",
      " 0   invoice_no    15000 non-null  object \n",
      " 1   stock_code    15000 non-null  object \n",
      " 2   description   14953 non-null  object \n",
      " 3   quantity      15000 non-null  int64  \n",
      " 4   invoice_date  15000 non-null  object \n",
      " 5   unit_price    15000 non-null  float64\n",
      " 6   customer_id   11179 non-null  float64\n",
      " 7   country       15000 non-null  object \n",
      "dtypes: float64(2), int64(1), object(5)\n",
      "memory usage: 1.0+ MB\n"
     ]
    }
   ],
   "source": [
    "initial_df.info()"
   ]
  },
  {
   "cell_type": "code",
   "execution_count": null,
   "id": "9c6575c9",
   "metadata": {
    "execution": {
     "iopub.execute_input": "2025-03-19T09:41:11.726486Z",
     "iopub.status.busy": "2025-03-19T09:41:11.726016Z",
     "iopub.status.idle": "2025-03-19T09:41:11.740145Z",
     "shell.execute_reply": "2025-03-19T09:41:11.739123Z"
    },
    "papermill": {
     "duration": 0.029162,
     "end_time": "2025-03-19T09:41:11.742260",
     "exception": false,
     "start_time": "2025-03-19T09:41:11.713098",
     "status": "completed"
    },
    "tags": []
   },
   "outputs": [
    {
     "data": {
      "text/plain": [
       "invoice_no         0\n",
       "stock_code         0\n",
       "description       47\n",
       "quantity           0\n",
       "invoice_date       0\n",
       "unit_price         0\n",
       "customer_id     3821\n",
       "country            0\n",
       "dtype: int64"
      ]
     },
     "execution_count": 10,
     "metadata": {},
     "output_type": "execute_result"
    }
   ],
   "source": [
    "# finding null values\n",
    "initial_df.isna().sum()"
   ]
  },
  {
   "cell_type": "code",
   "execution_count": null,
   "id": "2db2d8da",
   "metadata": {
    "execution": {
     "iopub.execute_input": "2025-03-19T09:41:11.765902Z",
     "iopub.status.busy": "2025-03-19T09:41:11.765523Z",
     "iopub.status.idle": "2025-03-19T09:41:11.782453Z",
     "shell.execute_reply": "2025-03-19T09:41:11.781252Z"
    },
    "papermill": {
     "duration": 0.030778,
     "end_time": "2025-03-19T09:41:11.784323",
     "exception": false,
     "start_time": "2025-03-19T09:41:11.753545",
     "status": "completed"
    },
    "tags": []
   },
   "outputs": [
    {
     "data": {
      "text/plain": [
       "invoice_no      0\n",
       "stock_code      0\n",
       "description     0\n",
       "quantity        0\n",
       "invoice_date    0\n",
       "unit_price      0\n",
       "customer_id     0\n",
       "country         0\n",
       "dtype: int64"
      ]
     },
     "execution_count": 11,
     "metadata": {},
     "output_type": "execute_result"
    }
   ],
   "source": [
    "# removing null values\n",
    "initial_df.dropna(subset = ['customer_id'], inplace = True)\n",
    "initial_df.isna().sum()"
   ]
  },
  {
   "cell_type": "code",
   "execution_count": null,
   "id": "c89c6296",
   "metadata": {
    "execution": {
     "iopub.execute_input": "2025-03-19T09:41:11.808297Z",
     "iopub.status.busy": "2025-03-19T09:41:11.807910Z",
     "iopub.status.idle": "2025-03-19T09:41:11.827396Z",
     "shell.execute_reply": "2025-03-19T09:41:11.826200Z"
    },
    "papermill": {
     "duration": 0.033175,
     "end_time": "2025-03-19T09:41:11.829006",
     "exception": false,
     "start_time": "2025-03-19T09:41:11.795831",
     "status": "completed"
    },
    "tags": []
   },
   "outputs": [
    {
     "name": "stdout",
     "output_type": "stream",
     "text": [
      "invoice_no: 7087\n",
      "stock_code: 2333\n",
      "description: 2383\n",
      "quantity: 107\n",
      "invoice_date: 6932\n",
      "unit_price: 166\n",
      "customer_id: 2830\n",
      "country: 34\n"
     ]
    }
   ],
   "source": [
    "# finding number of unique values in each column\n",
    "for col in initial_df.columns:\n",
    "  print(f'{col}: {initial_df[col].nunique()}')"
   ]
  },
  {
   "cell_type": "code",
   "execution_count": null,
   "id": "b672647a",
   "metadata": {
    "execution": {
     "iopub.execute_input": "2025-03-19T09:41:11.853423Z",
     "iopub.status.busy": "2025-03-19T09:41:11.853004Z",
     "iopub.status.idle": "2025-03-19T09:41:11.871782Z",
     "shell.execute_reply": "2025-03-19T09:41:11.870510Z"
    },
    "papermill": {
     "duration": 0.032851,
     "end_time": "2025-03-19T09:41:11.873675",
     "exception": false,
     "start_time": "2025-03-19T09:41:11.840824",
     "status": "completed"
    },
    "tags": []
   },
   "outputs": [
    {
     "name": "stdout",
     "output_type": "stream",
     "text": [
      "Number of rows in new_df: 11176\n",
      "Number of rows in initial_df: 11179\n",
      "Number of duplicate rows: 3\n"
     ]
    }
   ],
   "source": [
    "# removing duplicates while keeping first occurence\n",
    "new_df = initial_df.drop_duplicates(keep = 'first')\n",
    "print(f'Number of rows in new_df: {new_df.shape[0]}')\n",
    "print(f'Number of rows in initial_df: {initial_df.shape[0]}')\n",
    "print(f'Number of duplicate rows: {initial_df.shape[0] - new_df.shape[0]}')"
   ]
  },
  {
   "cell_type": "code",
   "execution_count": null,
   "id": "79470dc9",
   "metadata": {
    "execution": {
     "iopub.execute_input": "2025-03-19T09:41:11.898193Z",
     "iopub.status.busy": "2025-03-19T09:41:11.897782Z",
     "iopub.status.idle": "2025-03-19T09:41:11.908026Z",
     "shell.execute_reply": "2025-03-19T09:41:11.906916Z"
    },
    "papermill": {
     "duration": 0.024376,
     "end_time": "2025-03-19T09:41:11.909887",
     "exception": false,
     "start_time": "2025-03-19T09:41:11.885511",
     "status": "completed"
    },
    "tags": []
   },
   "outputs": [],
   "source": [
    "# dropping invoice_no column as it is not needed for further analysis\n",
    "new_df = new_df.copy()\n",
    "new_df.drop('invoice_no', inplace = True, axis = 1)"
   ]
  },
  {
   "cell_type": "code",
   "execution_count": null,
   "id": "0e8b8224",
   "metadata": {
    "execution": {
     "iopub.execute_input": "2025-03-19T09:41:11.934288Z",
     "iopub.status.busy": "2025-03-19T09:41:11.933748Z",
     "iopub.status.idle": "2025-03-19T09:41:11.949899Z",
     "shell.execute_reply": "2025-03-19T09:41:11.948855Z"
    },
    "papermill": {
     "duration": 0.030371,
     "end_time": "2025-03-19T09:41:11.951804",
     "exception": false,
     "start_time": "2025-03-19T09:41:11.921433",
     "status": "completed"
    },
    "tags": []
   },
   "outputs": [
    {
     "data": {
      "text/html": [
       "<div>\n",
       "<style scoped>\n",
       "    .dataframe tbody tr th:only-of-type {\n",
       "        vertical-align: middle;\n",
       "    }\n",
       "\n",
       "    .dataframe tbody tr th {\n",
       "        vertical-align: top;\n",
       "    }\n",
       "\n",
       "    .dataframe thead th {\n",
       "        text-align: right;\n",
       "    }\n",
       "</style>\n",
       "<table border=\"1\" class=\"dataframe\">\n",
       "  <thead>\n",
       "    <tr style=\"text-align: right;\">\n",
       "      <th></th>\n",
       "      <th>stock_code</th>\n",
       "      <th>description</th>\n",
       "      <th>quantity</th>\n",
       "      <th>invoice_date</th>\n",
       "      <th>unit_price</th>\n",
       "      <th>customer_id</th>\n",
       "      <th>country</th>\n",
       "      <th>total_price</th>\n",
       "    </tr>\n",
       "  </thead>\n",
       "  <tbody>\n",
       "    <tr>\n",
       "      <th>209268</th>\n",
       "      <td>71459</td>\n",
       "      <td>HANGING JAM JAR T-LIGHT HOLDER</td>\n",
       "      <td>24</td>\n",
       "      <td>6/1/11 12:05</td>\n",
       "      <td>0.85</td>\n",
       "      <td>17315.0</td>\n",
       "      <td>United Kingdom</td>\n",
       "      <td>20.40</td>\n",
       "    </tr>\n",
       "    <tr>\n",
       "      <th>207108</th>\n",
       "      <td>21128</td>\n",
       "      <td>GOLD FISHING GNOME</td>\n",
       "      <td>4</td>\n",
       "      <td>5/27/11 17:14</td>\n",
       "      <td>6.95</td>\n",
       "      <td>14031.0</td>\n",
       "      <td>United Kingdom</td>\n",
       "      <td>27.80</td>\n",
       "    </tr>\n",
       "    <tr>\n",
       "      <th>167085</th>\n",
       "      <td>21086</td>\n",
       "      <td>SET/6 RED SPOTTY PAPER CUPS</td>\n",
       "      <td>4</td>\n",
       "      <td>4/21/11 17:05</td>\n",
       "      <td>0.65</td>\n",
       "      <td>14031.0</td>\n",
       "      <td>United Kingdom</td>\n",
       "      <td>2.60</td>\n",
       "    </tr>\n",
       "    <tr>\n",
       "      <th>471836</th>\n",
       "      <td>22812</td>\n",
       "      <td>PACK 3 BOXES CHRISTMAS PANETTONE</td>\n",
       "      <td>3</td>\n",
       "      <td>11/16/11 10:39</td>\n",
       "      <td>1.95</td>\n",
       "      <td>17198.0</td>\n",
       "      <td>United Kingdom</td>\n",
       "      <td>5.85</td>\n",
       "    </tr>\n",
       "    <tr>\n",
       "      <th>115865</th>\n",
       "      <td>22180</td>\n",
       "      <td>RETROSPOT LAMP</td>\n",
       "      <td>2</td>\n",
       "      <td>3/10/11 8:40</td>\n",
       "      <td>9.95</td>\n",
       "      <td>13502.0</td>\n",
       "      <td>United Kingdom</td>\n",
       "      <td>19.90</td>\n",
       "    </tr>\n",
       "  </tbody>\n",
       "</table>\n",
       "</div>"
      ],
      "text/plain": [
       "       stock_code                       description  quantity    invoice_date  \\\n",
       "209268      71459    HANGING JAM JAR T-LIGHT HOLDER        24    6/1/11 12:05   \n",
       "207108      21128                GOLD FISHING GNOME         4   5/27/11 17:14   \n",
       "167085      21086       SET/6 RED SPOTTY PAPER CUPS         4   4/21/11 17:05   \n",
       "471836      22812  PACK 3 BOXES CHRISTMAS PANETTONE         3  11/16/11 10:39   \n",
       "115865      22180                    RETROSPOT LAMP         2    3/10/11 8:40   \n",
       "\n",
       "        unit_price  customer_id         country  total_price  \n",
       "209268        0.85      17315.0  United Kingdom        20.40  \n",
       "207108        6.95      14031.0  United Kingdom        27.80  \n",
       "167085        0.65      14031.0  United Kingdom         2.60  \n",
       "471836        1.95      17198.0  United Kingdom         5.85  \n",
       "115865        9.95      13502.0  United Kingdom        19.90  "
      ]
     },
     "execution_count": 15,
     "metadata": {},
     "output_type": "execute_result"
    }
   ],
   "source": [
    "# creating a new column 'total_price'\n",
    "new_df = new_df.copy()\n",
    "new_df['total_price'] = new_df['quantity'] * new_df['unit_price']\n",
    "new_df.head()"
   ]
  },
  {
   "cell_type": "code",
   "execution_count": null,
   "id": "ec51b9cb",
   "metadata": {
    "execution": {
     "iopub.execute_input": "2025-03-19T09:41:11.976240Z",
     "iopub.status.busy": "2025-03-19T09:41:11.975784Z",
     "iopub.status.idle": "2025-03-19T09:41:11.991388Z",
     "shell.execute_reply": "2025-03-19T09:41:11.990386Z"
    },
    "papermill": {
     "duration": 0.029774,
     "end_time": "2025-03-19T09:41:11.993100",
     "exception": false,
     "start_time": "2025-03-19T09:41:11.963326",
     "status": "completed"
    },
    "tags": []
   },
   "outputs": [
    {
     "data": {
      "text/html": [
       "<div>\n",
       "<style scoped>\n",
       "    .dataframe tbody tr th:only-of-type {\n",
       "        vertical-align: middle;\n",
       "    }\n",
       "\n",
       "    .dataframe tbody tr th {\n",
       "        vertical-align: top;\n",
       "    }\n",
       "\n",
       "    .dataframe thead th {\n",
       "        text-align: right;\n",
       "    }\n",
       "</style>\n",
       "<table border=\"1\" class=\"dataframe\">\n",
       "  <thead>\n",
       "    <tr style=\"text-align: right;\">\n",
       "      <th></th>\n",
       "      <th>stock_code</th>\n",
       "      <th>description</th>\n",
       "      <th>quantity</th>\n",
       "      <th>invoice_date</th>\n",
       "      <th>unit_price</th>\n",
       "      <th>customer_id</th>\n",
       "      <th>country</th>\n",
       "      <th>total_price</th>\n",
       "    </tr>\n",
       "  </thead>\n",
       "  <tbody>\n",
       "    <tr>\n",
       "      <th>414833</th>\n",
       "      <td>22465</td>\n",
       "      <td>HANGING METAL STAR LANTERN</td>\n",
       "      <td>-5</td>\n",
       "      <td>10/24/11 13:59</td>\n",
       "      <td>1.65</td>\n",
       "      <td>17119.0</td>\n",
       "      <td>United Kingdom</td>\n",
       "      <td>-8.25</td>\n",
       "    </tr>\n",
       "    <tr>\n",
       "      <th>121072</th>\n",
       "      <td>22720</td>\n",
       "      <td>SET OF 3 CAKE TINS PANTRY DESIGN</td>\n",
       "      <td>-1</td>\n",
       "      <td>3/16/11 11:39</td>\n",
       "      <td>4.95</td>\n",
       "      <td>18183.0</td>\n",
       "      <td>United Kingdom</td>\n",
       "      <td>-4.95</td>\n",
       "    </tr>\n",
       "    <tr>\n",
       "      <th>250423</th>\n",
       "      <td>84857C</td>\n",
       "      <td>PINK MONTE CARLO HANDBAG</td>\n",
       "      <td>-1</td>\n",
       "      <td>7/5/11 14:51</td>\n",
       "      <td>1.95</td>\n",
       "      <td>16571.0</td>\n",
       "      <td>United Kingdom</td>\n",
       "      <td>-1.95</td>\n",
       "    </tr>\n",
       "    <tr>\n",
       "      <th>492655</th>\n",
       "      <td>22697</td>\n",
       "      <td>GREEN REGENCY TEACUP AND SAUCER</td>\n",
       "      <td>-3</td>\n",
       "      <td>11/23/11 11:06</td>\n",
       "      <td>2.95</td>\n",
       "      <td>16201.0</td>\n",
       "      <td>United Kingdom</td>\n",
       "      <td>-8.85</td>\n",
       "    </tr>\n",
       "    <tr>\n",
       "      <th>159710</th>\n",
       "      <td>M</td>\n",
       "      <td>Manual</td>\n",
       "      <td>-1</td>\n",
       "      <td>4/18/11 10:29</td>\n",
       "      <td>222.75</td>\n",
       "      <td>13811.0</td>\n",
       "      <td>Germany</td>\n",
       "      <td>-222.75</td>\n",
       "    </tr>\n",
       "  </tbody>\n",
       "</table>\n",
       "</div>"
      ],
      "text/plain": [
       "       stock_code                        description  quantity  \\\n",
       "414833      22465         HANGING METAL STAR LANTERN        -5   \n",
       "121072      22720  SET OF 3 CAKE TINS PANTRY DESIGN         -1   \n",
       "250423     84857C           PINK MONTE CARLO HANDBAG        -1   \n",
       "492655      22697    GREEN REGENCY TEACUP AND SAUCER        -3   \n",
       "159710          M                             Manual        -1   \n",
       "\n",
       "          invoice_date  unit_price  customer_id         country  total_price  \n",
       "414833  10/24/11 13:59        1.65      17119.0  United Kingdom        -8.25  \n",
       "121072   3/16/11 11:39        4.95      18183.0  United Kingdom        -4.95  \n",
       "250423    7/5/11 14:51        1.95      16571.0  United Kingdom        -1.95  \n",
       "492655  11/23/11 11:06        2.95      16201.0  United Kingdom        -8.85  \n",
       "159710   4/18/11 10:29      222.75      13811.0         Germany      -222.75  "
      ]
     },
     "execution_count": 16,
     "metadata": {},
     "output_type": "execute_result"
    }
   ],
   "source": [
    "# checking for negative values in 'quantity' and 'unit_price'\n",
    "remove_df = new_df.loc[(new_df['quantity'] < 0) | (new_df['unit_price'] < 0)]\n",
    "remove_df.head()"
   ]
  },
  {
   "cell_type": "code",
   "execution_count": null,
   "id": "6a3a0146",
   "metadata": {
    "execution": {
     "iopub.execute_input": "2025-03-19T09:41:12.018649Z",
     "iopub.status.busy": "2025-03-19T09:41:12.018264Z",
     "iopub.status.idle": "2025-03-19T09:41:12.028348Z",
     "shell.execute_reply": "2025-03-19T09:41:12.027078Z"
    },
    "papermill": {
     "duration": 0.02463,
     "end_time": "2025-03-19T09:41:12.030037",
     "exception": false,
     "start_time": "2025-03-19T09:41:12.005407",
     "status": "completed"
    },
    "tags": []
   },
   "outputs": [
    {
     "data": {
      "text/plain": [
       "(10926, 8)"
      ]
     },
     "execution_count": 17,
     "metadata": {},
     "output_type": "execute_result"
    }
   ],
   "source": [
    "# removing rows with negative values in 'quantity' or 'unit_price'\n",
    "new_df = new_df.copy()\n",
    "new_df.drop(remove_df.index, inplace = True)\n",
    "new_df.reset_index(drop = True, inplace = True)\n",
    "new_df.shape"
   ]
  },
  {
   "cell_type": "code",
   "execution_count": null,
   "id": "a4893fab",
   "metadata": {
    "execution": {
     "iopub.execute_input": "2025-03-19T09:41:12.055636Z",
     "iopub.status.busy": "2025-03-19T09:41:12.055285Z",
     "iopub.status.idle": "2025-03-19T09:41:12.060544Z",
     "shell.execute_reply": "2025-03-19T09:41:12.059201Z"
    },
    "papermill": {
     "duration": 0.02046,
     "end_time": "2025-03-19T09:41:12.062353",
     "exception": false,
     "start_time": "2025-03-19T09:41:12.041893",
     "status": "completed"
    },
    "tags": []
   },
   "outputs": [
    {
     "name": "stdout",
     "output_type": "stream",
     "text": [
      "object\n"
     ]
    }
   ],
   "source": [
    "print(new_df['invoice_date'].dtype)"
   ]
  },
  {
   "cell_type": "code",
   "execution_count": null,
   "id": "a12b7827",
   "metadata": {
    "execution": {
     "iopub.execute_input": "2025-03-19T09:41:12.087336Z",
     "iopub.status.busy": "2025-03-19T09:41:12.086871Z",
     "iopub.status.idle": "2025-03-19T09:41:12.951810Z",
     "shell.execute_reply": "2025-03-19T09:41:12.950515Z"
    },
    "papermill": {
     "duration": 0.879439,
     "end_time": "2025-03-19T09:41:12.953655",
     "exception": false,
     "start_time": "2025-03-19T09:41:12.074216",
     "status": "completed"
    },
    "tags": []
   },
   "outputs": [
    {
     "name": "stderr",
     "output_type": "stream",
     "text": [
      "<ipython-input-19-2d61707c0fdb>:3: UserWarning: Could not infer format, so each element will be parsed individually, falling back to `dateutil`. To ensure parsing is consistent and as-expected, please specify a format.\n",
      "  new_df['invoice_date'] = pd.to_datetime(new_df['invoice_date'], errors = 'coerce')\n"
     ]
    },
    {
     "name": "stdout",
     "output_type": "stream",
     "text": [
      "datetime64[ns]\n"
     ]
    }
   ],
   "source": [
    "# changing datatype of 'invoice_date' to create new columns of day_name, month and year\n",
    "new_df = new_df.copy()\n",
    "new_df['invoice_date'] = pd.to_datetime(new_df['invoice_date'], errors = 'coerce')\n",
    "print(new_df['invoice_date'].dtype)"
   ]
  },
  {
   "cell_type": "code",
   "execution_count": null,
   "id": "1c9cf530",
   "metadata": {
    "execution": {
     "iopub.execute_input": "2025-03-19T09:41:12.978837Z",
     "iopub.status.busy": "2025-03-19T09:41:12.978494Z",
     "iopub.status.idle": "2025-03-19T09:41:12.993491Z",
     "shell.execute_reply": "2025-03-19T09:41:12.992323Z"
    },
    "papermill": {
     "duration": 0.029671,
     "end_time": "2025-03-19T09:41:12.995383",
     "exception": false,
     "start_time": "2025-03-19T09:41:12.965712",
     "status": "completed"
    },
    "tags": []
   },
   "outputs": [],
   "source": [
    "new_df['weekday'] = new_df['invoice_date'].dt.day_name()\n",
    "new_df['month'] = new_df['invoice_date'].dt.month_name()\n",
    "new_df['year'] = new_df['invoice_date'].dt.year\n",
    "new_df['hour'] = new_df['invoice_date'].dt.hour"
   ]
  },
  {
   "cell_type": "code",
   "execution_count": null,
   "id": "08543be7",
   "metadata": {
    "execution": {
     "iopub.execute_input": "2025-03-19T09:41:13.021772Z",
     "iopub.status.busy": "2025-03-19T09:41:13.021440Z",
     "iopub.status.idle": "2025-03-19T09:41:13.037178Z",
     "shell.execute_reply": "2025-03-19T09:41:13.035976Z"
    },
    "papermill": {
     "duration": 0.030745,
     "end_time": "2025-03-19T09:41:13.039012",
     "exception": false,
     "start_time": "2025-03-19T09:41:13.008267",
     "status": "completed"
    },
    "tags": []
   },
   "outputs": [
    {
     "data": {
      "text/html": [
       "<div>\n",
       "<style scoped>\n",
       "    .dataframe tbody tr th:only-of-type {\n",
       "        vertical-align: middle;\n",
       "    }\n",
       "\n",
       "    .dataframe tbody tr th {\n",
       "        vertical-align: top;\n",
       "    }\n",
       "\n",
       "    .dataframe thead th {\n",
       "        text-align: right;\n",
       "    }\n",
       "</style>\n",
       "<table border=\"1\" class=\"dataframe\">\n",
       "  <thead>\n",
       "    <tr style=\"text-align: right;\">\n",
       "      <th></th>\n",
       "      <th>stock_code</th>\n",
       "      <th>description</th>\n",
       "      <th>quantity</th>\n",
       "      <th>invoice_date</th>\n",
       "      <th>unit_price</th>\n",
       "      <th>customer_id</th>\n",
       "      <th>country</th>\n",
       "      <th>total_price</th>\n",
       "      <th>weekday</th>\n",
       "      <th>month</th>\n",
       "      <th>year</th>\n",
       "      <th>hour</th>\n",
       "    </tr>\n",
       "  </thead>\n",
       "  <tbody>\n",
       "    <tr>\n",
       "      <th>0</th>\n",
       "      <td>71459</td>\n",
       "      <td>HANGING JAM JAR T-LIGHT HOLDER</td>\n",
       "      <td>24</td>\n",
       "      <td>2011-06-01 12:05:00</td>\n",
       "      <td>0.85</td>\n",
       "      <td>17315.0</td>\n",
       "      <td>United Kingdom</td>\n",
       "      <td>20.40</td>\n",
       "      <td>Wednesday</td>\n",
       "      <td>June</td>\n",
       "      <td>2011</td>\n",
       "      <td>12</td>\n",
       "    </tr>\n",
       "    <tr>\n",
       "      <th>1</th>\n",
       "      <td>21128</td>\n",
       "      <td>GOLD FISHING GNOME</td>\n",
       "      <td>4</td>\n",
       "      <td>2011-05-27 17:14:00</td>\n",
       "      <td>6.95</td>\n",
       "      <td>14031.0</td>\n",
       "      <td>United Kingdom</td>\n",
       "      <td>27.80</td>\n",
       "      <td>Friday</td>\n",
       "      <td>May</td>\n",
       "      <td>2011</td>\n",
       "      <td>17</td>\n",
       "    </tr>\n",
       "    <tr>\n",
       "      <th>2</th>\n",
       "      <td>21086</td>\n",
       "      <td>SET/6 RED SPOTTY PAPER CUPS</td>\n",
       "      <td>4</td>\n",
       "      <td>2011-04-21 17:05:00</td>\n",
       "      <td>0.65</td>\n",
       "      <td>14031.0</td>\n",
       "      <td>United Kingdom</td>\n",
       "      <td>2.60</td>\n",
       "      <td>Thursday</td>\n",
       "      <td>April</td>\n",
       "      <td>2011</td>\n",
       "      <td>17</td>\n",
       "    </tr>\n",
       "    <tr>\n",
       "      <th>3</th>\n",
       "      <td>22812</td>\n",
       "      <td>PACK 3 BOXES CHRISTMAS PANETTONE</td>\n",
       "      <td>3</td>\n",
       "      <td>2011-11-16 10:39:00</td>\n",
       "      <td>1.95</td>\n",
       "      <td>17198.0</td>\n",
       "      <td>United Kingdom</td>\n",
       "      <td>5.85</td>\n",
       "      <td>Wednesday</td>\n",
       "      <td>November</td>\n",
       "      <td>2011</td>\n",
       "      <td>10</td>\n",
       "    </tr>\n",
       "    <tr>\n",
       "      <th>4</th>\n",
       "      <td>22180</td>\n",
       "      <td>RETROSPOT LAMP</td>\n",
       "      <td>2</td>\n",
       "      <td>2011-03-10 08:40:00</td>\n",
       "      <td>9.95</td>\n",
       "      <td>13502.0</td>\n",
       "      <td>United Kingdom</td>\n",
       "      <td>19.90</td>\n",
       "      <td>Thursday</td>\n",
       "      <td>March</td>\n",
       "      <td>2011</td>\n",
       "      <td>8</td>\n",
       "    </tr>\n",
       "  </tbody>\n",
       "</table>\n",
       "</div>"
      ],
      "text/plain": [
       "  stock_code                       description  quantity        invoice_date  \\\n",
       "0      71459    HANGING JAM JAR T-LIGHT HOLDER        24 2011-06-01 12:05:00   \n",
       "1      21128                GOLD FISHING GNOME         4 2011-05-27 17:14:00   \n",
       "2      21086       SET/6 RED SPOTTY PAPER CUPS         4 2011-04-21 17:05:00   \n",
       "3      22812  PACK 3 BOXES CHRISTMAS PANETTONE         3 2011-11-16 10:39:00   \n",
       "4      22180                    RETROSPOT LAMP         2 2011-03-10 08:40:00   \n",
       "\n",
       "   unit_price  customer_id         country  total_price    weekday     month  \\\n",
       "0        0.85      17315.0  United Kingdom        20.40  Wednesday      June   \n",
       "1        6.95      14031.0  United Kingdom        27.80     Friday       May   \n",
       "2        0.65      14031.0  United Kingdom         2.60   Thursday     April   \n",
       "3        1.95      17198.0  United Kingdom         5.85  Wednesday  November   \n",
       "4        9.95      13502.0  United Kingdom        19.90   Thursday     March   \n",
       "\n",
       "   year  hour  \n",
       "0  2011    12  \n",
       "1  2011    17  \n",
       "2  2011    17  \n",
       "3  2011    10  \n",
       "4  2011     8  "
      ]
     },
     "execution_count": 21,
     "metadata": {},
     "output_type": "execute_result"
    }
   ],
   "source": [
    "new_df.head()"
   ]
  },
  {
   "cell_type": "code",
   "execution_count": null,
   "id": "443bc76b",
   "metadata": {
    "execution": {
     "iopub.execute_input": "2025-03-19T09:41:13.064881Z",
     "iopub.status.busy": "2025-03-19T09:41:13.064541Z",
     "iopub.status.idle": "2025-03-19T09:41:13.071264Z",
     "shell.execute_reply": "2025-03-19T09:41:13.070076Z"
    },
    "papermill": {
     "duration": 0.021404,
     "end_time": "2025-03-19T09:41:13.072808",
     "exception": false,
     "start_time": "2025-03-19T09:41:13.051404",
     "status": "completed"
    },
    "tags": []
   },
   "outputs": [
    {
     "data": {
      "text/plain": [
       "array([12, 17, 10,  8, 15, 13, 16,  9, 14, 11, 18, 19, 20,  7],\n",
       "      dtype=int32)"
      ]
     },
     "execution_count": 22,
     "metadata": {},
     "output_type": "execute_result"
    }
   ],
   "source": [
    "new_df['hour'].unique()"
   ]
  },
  {
   "cell_type": "code",
   "execution_count": null,
   "id": "0f37c921",
   "metadata": {
    "execution": {
     "iopub.execute_input": "2025-03-19T09:41:13.098923Z",
     "iopub.status.busy": "2025-03-19T09:41:13.098578Z",
     "iopub.status.idle": "2025-03-19T09:41:13.103441Z",
     "shell.execute_reply": "2025-03-19T09:41:13.102456Z"
    },
    "papermill": {
     "duration": 0.019975,
     "end_time": "2025-03-19T09:41:13.105042",
     "exception": false,
     "start_time": "2025-03-19T09:41:13.085067",
     "status": "completed"
    },
    "tags": []
   },
   "outputs": [],
   "source": [
    "new_df['hour'] = new_df['hour'].astype('int')"
   ]
  },
  {
   "cell_type": "code",
   "execution_count": null,
   "id": "98d5e9f0",
   "metadata": {
    "execution": {
     "iopub.execute_input": "2025-03-19T09:41:13.131357Z",
     "iopub.status.busy": "2025-03-19T09:41:13.130913Z",
     "iopub.status.idle": "2025-03-19T09:41:13.140437Z",
     "shell.execute_reply": "2025-03-19T09:41:13.139363Z"
    },
    "papermill": {
     "duration": 0.025137,
     "end_time": "2025-03-19T09:41:13.142550",
     "exception": false,
     "start_time": "2025-03-19T09:41:13.117413",
     "status": "completed"
    },
    "tags": []
   },
   "outputs": [],
   "source": [
    "# creating new column 'day_time' based on time of purchasing\n",
    "new_df.loc[new_df['hour'] < 12, 'day_time'] = 'morning'\n",
    "new_df.loc[(new_df['hour'] >= 12) & (new_df['hour'] < 17), 'day_time'] = 'afternoon'\n",
    "new_df.loc[new_df['hour'] >= 17, 'day_time'] = 'evening'"
   ]
  },
  {
   "cell_type": "code",
   "execution_count": null,
   "id": "3ba8e852",
   "metadata": {
    "execution": {
     "iopub.execute_input": "2025-03-19T09:41:13.169322Z",
     "iopub.status.busy": "2025-03-19T09:41:13.168844Z",
     "iopub.status.idle": "2025-03-19T09:41:13.187809Z",
     "shell.execute_reply": "2025-03-19T09:41:13.186594Z"
    },
    "papermill": {
     "duration": 0.034287,
     "end_time": "2025-03-19T09:41:13.189704",
     "exception": false,
     "start_time": "2025-03-19T09:41:13.155417",
     "status": "completed"
    },
    "tags": []
   },
   "outputs": [
    {
     "data": {
      "text/html": [
       "<div>\n",
       "<style scoped>\n",
       "    .dataframe tbody tr th:only-of-type {\n",
       "        vertical-align: middle;\n",
       "    }\n",
       "\n",
       "    .dataframe tbody tr th {\n",
       "        vertical-align: top;\n",
       "    }\n",
       "\n",
       "    .dataframe thead th {\n",
       "        text-align: right;\n",
       "    }\n",
       "</style>\n",
       "<table border=\"1\" class=\"dataframe\">\n",
       "  <thead>\n",
       "    <tr style=\"text-align: right;\">\n",
       "      <th></th>\n",
       "      <th>stock_code</th>\n",
       "      <th>description</th>\n",
       "      <th>quantity</th>\n",
       "      <th>unit_price</th>\n",
       "      <th>customer_id</th>\n",
       "      <th>country</th>\n",
       "      <th>total_price</th>\n",
       "      <th>weekday</th>\n",
       "      <th>month</th>\n",
       "      <th>year</th>\n",
       "      <th>day_time</th>\n",
       "    </tr>\n",
       "  </thead>\n",
       "  <tbody>\n",
       "    <tr>\n",
       "      <th>0</th>\n",
       "      <td>71459</td>\n",
       "      <td>HANGING JAM JAR T-LIGHT HOLDER</td>\n",
       "      <td>24</td>\n",
       "      <td>0.85</td>\n",
       "      <td>17315.0</td>\n",
       "      <td>United Kingdom</td>\n",
       "      <td>20.40</td>\n",
       "      <td>Wednesday</td>\n",
       "      <td>June</td>\n",
       "      <td>2011</td>\n",
       "      <td>afternoon</td>\n",
       "    </tr>\n",
       "    <tr>\n",
       "      <th>1</th>\n",
       "      <td>21128</td>\n",
       "      <td>GOLD FISHING GNOME</td>\n",
       "      <td>4</td>\n",
       "      <td>6.95</td>\n",
       "      <td>14031.0</td>\n",
       "      <td>United Kingdom</td>\n",
       "      <td>27.80</td>\n",
       "      <td>Friday</td>\n",
       "      <td>May</td>\n",
       "      <td>2011</td>\n",
       "      <td>evening</td>\n",
       "    </tr>\n",
       "    <tr>\n",
       "      <th>2</th>\n",
       "      <td>21086</td>\n",
       "      <td>SET/6 RED SPOTTY PAPER CUPS</td>\n",
       "      <td>4</td>\n",
       "      <td>0.65</td>\n",
       "      <td>14031.0</td>\n",
       "      <td>United Kingdom</td>\n",
       "      <td>2.60</td>\n",
       "      <td>Thursday</td>\n",
       "      <td>April</td>\n",
       "      <td>2011</td>\n",
       "      <td>evening</td>\n",
       "    </tr>\n",
       "    <tr>\n",
       "      <th>3</th>\n",
       "      <td>22812</td>\n",
       "      <td>PACK 3 BOXES CHRISTMAS PANETTONE</td>\n",
       "      <td>3</td>\n",
       "      <td>1.95</td>\n",
       "      <td>17198.0</td>\n",
       "      <td>United Kingdom</td>\n",
       "      <td>5.85</td>\n",
       "      <td>Wednesday</td>\n",
       "      <td>November</td>\n",
       "      <td>2011</td>\n",
       "      <td>morning</td>\n",
       "    </tr>\n",
       "    <tr>\n",
       "      <th>4</th>\n",
       "      <td>22180</td>\n",
       "      <td>RETROSPOT LAMP</td>\n",
       "      <td>2</td>\n",
       "      <td>9.95</td>\n",
       "      <td>13502.0</td>\n",
       "      <td>United Kingdom</td>\n",
       "      <td>19.90</td>\n",
       "      <td>Thursday</td>\n",
       "      <td>March</td>\n",
       "      <td>2011</td>\n",
       "      <td>morning</td>\n",
       "    </tr>\n",
       "  </tbody>\n",
       "</table>\n",
       "</div>"
      ],
      "text/plain": [
       "  stock_code                       description  quantity  unit_price  \\\n",
       "0      71459    HANGING JAM JAR T-LIGHT HOLDER        24        0.85   \n",
       "1      21128                GOLD FISHING GNOME         4        6.95   \n",
       "2      21086       SET/6 RED SPOTTY PAPER CUPS         4        0.65   \n",
       "3      22812  PACK 3 BOXES CHRISTMAS PANETTONE         3        1.95   \n",
       "4      22180                    RETROSPOT LAMP         2        9.95   \n",
       "\n",
       "   customer_id         country  total_price    weekday     month  year  \\\n",
       "0      17315.0  United Kingdom        20.40  Wednesday      June  2011   \n",
       "1      14031.0  United Kingdom        27.80     Friday       May  2011   \n",
       "2      14031.0  United Kingdom         2.60   Thursday     April  2011   \n",
       "3      17198.0  United Kingdom         5.85  Wednesday  November  2011   \n",
       "4      13502.0  United Kingdom        19.90   Thursday     March  2011   \n",
       "\n",
       "    day_time  \n",
       "0  afternoon  \n",
       "1    evening  \n",
       "2    evening  \n",
       "3    morning  \n",
       "4    morning  "
      ]
     },
     "execution_count": 25,
     "metadata": {},
     "output_type": "execute_result"
    }
   ],
   "source": [
    "# removing unwanted columns\n",
    "new_df.drop(['invoice_date', 'hour'], inplace = True, axis = 1)\n",
    "new_df.head()"
   ]
  },
  {
   "cell_type": "code",
   "execution_count": null,
   "id": "4dbbe25d",
   "metadata": {
    "execution": {
     "iopub.execute_input": "2025-03-19T09:41:13.217656Z",
     "iopub.status.busy": "2025-03-19T09:41:13.217216Z",
     "iopub.status.idle": "2025-03-19T09:41:13.235838Z",
     "shell.execute_reply": "2025-03-19T09:41:13.234809Z"
    },
    "papermill": {
     "duration": 0.033911,
     "end_time": "2025-03-19T09:41:13.237607",
     "exception": false,
     "start_time": "2025-03-19T09:41:13.203696",
     "status": "completed"
    },
    "tags": []
   },
   "outputs": [
    {
     "data": {
      "text/html": [
       "<div>\n",
       "<style scoped>\n",
       "    .dataframe tbody tr th:only-of-type {\n",
       "        vertical-align: middle;\n",
       "    }\n",
       "\n",
       "    .dataframe tbody tr th {\n",
       "        vertical-align: top;\n",
       "    }\n",
       "\n",
       "    .dataframe thead th {\n",
       "        text-align: right;\n",
       "    }\n",
       "</style>\n",
       "<table border=\"1\" class=\"dataframe\">\n",
       "  <thead>\n",
       "    <tr style=\"text-align: right;\">\n",
       "      <th></th>\n",
       "      <th>stock_code</th>\n",
       "      <th>description</th>\n",
       "      <th>quantity</th>\n",
       "      <th>unit_price</th>\n",
       "      <th>country</th>\n",
       "      <th>total_price</th>\n",
       "      <th>weekday</th>\n",
       "      <th>month</th>\n",
       "      <th>year</th>\n",
       "      <th>day_time</th>\n",
       "    </tr>\n",
       "  </thead>\n",
       "  <tbody>\n",
       "    <tr>\n",
       "      <th>0</th>\n",
       "      <td>71459</td>\n",
       "      <td>HANGING JAM JAR T-LIGHT HOLDER</td>\n",
       "      <td>24</td>\n",
       "      <td>0.85</td>\n",
       "      <td>United Kingdom</td>\n",
       "      <td>20.40</td>\n",
       "      <td>Wednesday</td>\n",
       "      <td>June</td>\n",
       "      <td>2011</td>\n",
       "      <td>afternoon</td>\n",
       "    </tr>\n",
       "    <tr>\n",
       "      <th>1</th>\n",
       "      <td>21128</td>\n",
       "      <td>GOLD FISHING GNOME</td>\n",
       "      <td>4</td>\n",
       "      <td>6.95</td>\n",
       "      <td>United Kingdom</td>\n",
       "      <td>27.80</td>\n",
       "      <td>Friday</td>\n",
       "      <td>May</td>\n",
       "      <td>2011</td>\n",
       "      <td>evening</td>\n",
       "    </tr>\n",
       "    <tr>\n",
       "      <th>2</th>\n",
       "      <td>21086</td>\n",
       "      <td>SET/6 RED SPOTTY PAPER CUPS</td>\n",
       "      <td>4</td>\n",
       "      <td>0.65</td>\n",
       "      <td>United Kingdom</td>\n",
       "      <td>2.60</td>\n",
       "      <td>Thursday</td>\n",
       "      <td>April</td>\n",
       "      <td>2011</td>\n",
       "      <td>evening</td>\n",
       "    </tr>\n",
       "    <tr>\n",
       "      <th>3</th>\n",
       "      <td>22812</td>\n",
       "      <td>PACK 3 BOXES CHRISTMAS PANETTONE</td>\n",
       "      <td>3</td>\n",
       "      <td>1.95</td>\n",
       "      <td>United Kingdom</td>\n",
       "      <td>5.85</td>\n",
       "      <td>Wednesday</td>\n",
       "      <td>November</td>\n",
       "      <td>2011</td>\n",
       "      <td>morning</td>\n",
       "    </tr>\n",
       "    <tr>\n",
       "      <th>4</th>\n",
       "      <td>22180</td>\n",
       "      <td>RETROSPOT LAMP</td>\n",
       "      <td>2</td>\n",
       "      <td>9.95</td>\n",
       "      <td>United Kingdom</td>\n",
       "      <td>19.90</td>\n",
       "      <td>Thursday</td>\n",
       "      <td>March</td>\n",
       "      <td>2011</td>\n",
       "      <td>morning</td>\n",
       "    </tr>\n",
       "  </tbody>\n",
       "</table>\n",
       "</div>"
      ],
      "text/plain": [
       "  stock_code                       description  quantity  unit_price  \\\n",
       "0      71459    HANGING JAM JAR T-LIGHT HOLDER        24        0.85   \n",
       "1      21128                GOLD FISHING GNOME         4        6.95   \n",
       "2      21086       SET/6 RED SPOTTY PAPER CUPS         4        0.65   \n",
       "3      22812  PACK 3 BOXES CHRISTMAS PANETTONE         3        1.95   \n",
       "4      22180                    RETROSPOT LAMP         2        9.95   \n",
       "\n",
       "          country  total_price    weekday     month  year   day_time  \n",
       "0  United Kingdom        20.40  Wednesday      June  2011  afternoon  \n",
       "1  United Kingdom        27.80     Friday       May  2011    evening  \n",
       "2  United Kingdom         2.60   Thursday     April  2011    evening  \n",
       "3  United Kingdom         5.85  Wednesday  November  2011    morning  \n",
       "4  United Kingdom        19.90   Thursday     March  2011    morning  "
      ]
     },
     "execution_count": 26,
     "metadata": {},
     "output_type": "execute_result"
    }
   ],
   "source": [
    "# dropping 'customer_id' \n",
    "final_df = new_df.copy()\n",
    "final_df.drop('customer_id', inplace = True, axis = 1)\n",
    "final_df.head()"
   ]
  },
  {
   "cell_type": "code",
   "execution_count": null,
   "id": "616bff23",
   "metadata": {
    "execution": {
     "iopub.execute_input": "2025-03-19T09:41:13.264214Z",
     "iopub.status.busy": "2025-03-19T09:41:13.263829Z",
     "iopub.status.idle": "2025-03-19T09:41:13.271220Z",
     "shell.execute_reply": "2025-03-19T09:41:13.270129Z"
    },
    "papermill": {
     "duration": 0.022469,
     "end_time": "2025-03-19T09:41:13.272924",
     "exception": false,
     "start_time": "2025-03-19T09:41:13.250455",
     "status": "completed"
    },
    "tags": []
   },
   "outputs": [
    {
     "data": {
      "text/plain": [
       "stock_code      object\n",
       "description     object\n",
       "quantity         int64\n",
       "unit_price     float64\n",
       "country         object\n",
       "total_price    float64\n",
       "weekday         object\n",
       "month           object\n",
       "year             int32\n",
       "day_time        object\n",
       "dtype: object"
      ]
     },
     "execution_count": 27,
     "metadata": {},
     "output_type": "execute_result"
    }
   ],
   "source": [
    "final_df.dtypes"
   ]
  },
  {
   "cell_type": "code",
   "execution_count": null,
   "id": "1689cb13",
   "metadata": {
    "execution": {
     "iopub.execute_input": "2025-03-19T09:41:13.300590Z",
     "iopub.status.busy": "2025-03-19T09:41:13.300219Z",
     "iopub.status.idle": "2025-03-19T09:41:13.308661Z",
     "shell.execute_reply": "2025-03-19T09:41:13.307490Z"
    },
    "papermill": {
     "duration": 0.024473,
     "end_time": "2025-03-19T09:41:13.310331",
     "exception": false,
     "start_time": "2025-03-19T09:41:13.285858",
     "status": "completed"
    },
    "tags": []
   },
   "outputs": [
    {
     "data": {
      "text/plain": [
       "stock_code      object\n",
       "description     object\n",
       "quantity         int64\n",
       "unit_price     float64\n",
       "country         object\n",
       "total_price    float64\n",
       "weekday         object\n",
       "month           object\n",
       "year            object\n",
       "day_time        object\n",
       "dtype: object"
      ]
     },
     "execution_count": 28,
     "metadata": {},
     "output_type": "execute_result"
    }
   ],
   "source": [
    "final_df.year = final_df.year.astype('object')\n",
    "final_df.dtypes"
   ]
  },
  {
   "cell_type": "markdown",
   "id": "613ea160",
   "metadata": {
    "papermill": {
     "duration": 0.012673,
     "end_time": "2025-03-19T09:41:13.336442",
     "exception": false,
     "start_time": "2025-03-19T09:41:13.323769",
     "status": "completed"
    },
    "tags": []
   },
   "source": [
    "## Exploratory Data Analysis"
   ]
  },
  {
   "cell_type": "code",
   "execution_count": null,
   "id": "af3d399c",
   "metadata": {
    "execution": {
     "iopub.execute_input": "2025-03-19T09:41:13.364116Z",
     "iopub.status.busy": "2025-03-19T09:41:13.363752Z",
     "iopub.status.idle": "2025-03-19T09:41:15.030341Z",
     "shell.execute_reply": "2025-03-19T09:41:15.029194Z"
    },
    "papermill": {
     "duration": 1.682836,
     "end_time": "2025-03-19T09:41:15.032372",
     "exception": false,
     "start_time": "2025-03-19T09:41:13.349536",
     "status": "completed"
    },
    "tags": []
   },
   "outputs": [
    {
     "data": {
      "image/png": "[encoded data removed]",
      "text/plain": [
       "<Figure size 1200x1000 with 4 Axes>"
      ]
     },
     "metadata": {},
     "output_type": "display_data"
    }
   ],
   "source": [
    "# total price spending per weekday, month, year and day time\n",
    "fig, ax = plt.subplots(2,2, figsize = (12,10))\n",
    "daytime = ['morning', 'afternoon', 'evening']\n",
    "wkday = ['Monday', 'Tuesday', 'Wednesday', 'Thursday', 'Friday', 'Saturday', 'Sunday']\n",
    "month = ['January', 'February', 'March', 'April', 'May', 'June', 'July', 'August', 'September', 'October', 'November', 'December']\n",
    "year = [2010, 2011]\n",
    "\n",
    "sns.barplot(x = 'day_time', y = 'total_price', data = final_df, order = daytime, ax = ax[0,0])\n",
    "\n",
    "sns.barplot(x = 'weekday', y = 'total_price', data = final_df, order = wkday, ax = ax[0,1])\n",
    "\n",
    "sns.barplot(x = 'month', y = 'total_price', data = final_df, order = month, ax = ax[1,0])\n",
    "\n",
    "sns.barplot(x = 'year', y = 'total_price', data = final_df, order = year, ax = ax[1,1])\n",
    "\n",
    "ax[0,0].set_xticks(range(len(daytime)))\n",
    "ax[0,0].set_xticklabels(daytime, rotation=30)\n",
    "\n",
    "ax[0,1].set_xticks(range(len(wkday)))\n",
    "ax[0,1].set_xticklabels(wkday, rotation=30)\n",
    "\n",
    "ax[1,0].set_xticks(range(len(month)))\n",
    "ax[1,0].set_xticklabels(month, rotation=30)\n",
    "\n",
    "ax[1,1].set_xticks(range(len(year)))\n",
    "ax[1,1].set_xticklabels(year, rotation=30)\n",
    "\n",
    "plt.tight_layout()\n",
    "plt.show()"
   ]
  },
  {
   "cell_type": "markdown",
   "id": "04d8c637",
   "metadata": {
    "papermill": {
     "duration": 0.014992,
     "end_time": "2025-03-19T09:41:15.061775",
     "exception": false,
     "start_time": "2025-03-19T09:41:15.046783",
     "status": "completed"
    },
    "tags": []
   },
   "source": [
    "Based on the graphs above, we can conclude:\n",
    "\n",
    "* The majority of high-value purchases occurred in the morning.\n",
    "* Tuesdays and Thursdays had nearly identical high-price purchase patterns.\n",
    "* In terms of months, January showed hightest purchasing.\n",
    "* There was little difference in total spending between 2010 and 2011."
   ]
  },
  {
   "cell_type": "code",
   "execution_count": null,
   "id": "ead02c02",
   "metadata": {
    "execution": {
     "iopub.execute_input": "2025-03-19T09:41:15.147024Z",
     "iopub.status.busy": "2025-03-19T09:41:15.146682Z",
     "iopub.status.idle": "2025-03-19T09:41:16.218259Z",
     "shell.execute_reply": "2025-03-19T09:41:16.217009Z"
    },
    "papermill": {
     "duration": 1.144152,
     "end_time": "2025-03-19T09:41:16.220146",
     "exception": false,
     "start_time": "2025-03-19T09:41:15.075994",
     "status": "completed"
    },
    "tags": []
   },
   "outputs": [
    {
     "data": {
      "image/png": "[encoded data removed]",
      "text/plain": [
       "<Figure size 1200x1000 with 1 Axes>"
      ]
     },
     "metadata": {},
     "output_type": "display_data"
    }
   ],
   "source": [
    "# let us now check how the total price is distributed over different countries\n",
    "fig, ax = plt.subplots(figsize = (12,10))\n",
    "sns.barplot(x = 'country', y = 'total_price', data = final_df, ax = ax)\n",
    "plt.xticks(rotation = 90)\n",
    "plt.tight_layout()\n",
    "plt.show()"
   ]
  },
  {
   "cell_type": "markdown",
   "id": "43270560",
   "metadata": {
    "papermill": {
     "duration": 0.016275,
     "end_time": "2025-03-19T09:41:16.253098",
     "exception": false,
     "start_time": "2025-03-19T09:41:16.236823",
     "status": "completed"
    },
    "tags": []
   },
   "source": [
    "Among the countries with the highest total spending, the Netherlands and Australia stand out, with the Netherlands being the top spender."
   ]
  },
  {
   "cell_type": "code",
   "execution_count": null,
   "id": "fbaaaa96",
   "metadata": {
    "execution": {
     "iopub.execute_input": "2025-03-19T09:41:16.286678Z",
     "iopub.status.busy": "2025-03-19T09:41:16.286289Z",
     "iopub.status.idle": "2025-03-19T09:41:17.706619Z",
     "shell.execute_reply": "2025-03-19T09:41:17.705452Z"
    },
    "papermill": {
     "duration": 1.439554,
     "end_time": "2025-03-19T09:41:17.708907",
     "exception": false,
     "start_time": "2025-03-19T09:41:16.269353",
     "status": "completed"
    },
    "tags": []
   },
   "outputs": [
    {
     "data": {
      "image/png": "[encoded data removed]",
      "text/plain": [
       "<Figure size 1200x1000 with 4 Axes>"
      ]
     },
     "metadata": {},
     "output_type": "display_data"
    }
   ],
   "source": [
    "# let us now visualize the number of units sold in day_time, weekday, month and year\n",
    "fig, ax = plt.subplots(2,2, figsize = (12,10))\n",
    "sns.barplot(x = 'day_time', y = 'unit_price', data = final_df, order = daytime, ax = ax[0,0])\n",
    "sns.barplot(x = 'weekday', y = 'unit_price', data = final_df, order = wkday, ax = ax[0,1])\n",
    "sns.barplot(x = 'month', y = 'unit_price', data = final_df, order = month, ax = ax[1,0])\n",
    "sns.barplot(x = 'year', y = 'unit_price', data = final_df, order = year, ax = ax[1,1])\n",
    "\n",
    "ax[0,0].set_xticks(range(len(daytime)))\n",
    "ax[0,0].set_xticklabels(daytime, rotation=30)\n",
    "\n",
    "ax[0,1].set_xticks(range(len(wkday)))\n",
    "ax[0,1].set_xticklabels(wkday, rotation=30)\n",
    "\n",
    "ax[1,0].set_xticks(range(len(month)))\n",
    "ax[1,0].set_xticklabels(month, rotation=30)\n",
    "\n",
    "ax[1,1].set_xticks(range(len(year)))\n",
    "ax[1,1].set_xticklabels(year, rotation=30)\n",
    "\n",
    "plt.tight_layout()\n",
    "plt.show()"
   ]
  },
  {
   "cell_type": "markdown",
   "id": "01bfcf94",
   "metadata": {
    "papermill": {
     "duration": 0.016915,
     "end_time": "2025-03-19T09:41:17.743403",
     "exception": false,
     "start_time": "2025-03-19T09:41:17.726488",
     "status": "completed"
    },
    "tags": []
   },
   "source": [
    "Based on the total number of units sold, there was no significant difference between time of the day, weekdays and year. However, sales in March showed slightly higher compared to other months."
   ]
  },
  {
   "cell_type": "code",
   "execution_count": null,
   "id": "5a25f80c",
   "metadata": {
    "execution": {
     "iopub.execute_input": "2025-03-19T09:41:17.779495Z",
     "iopub.status.busy": "2025-03-19T09:41:17.779100Z",
     "iopub.status.idle": "2025-03-19T09:41:18.898282Z",
     "shell.execute_reply": "2025-03-19T09:41:18.896991Z"
    },
    "papermill": {
     "duration": 1.139715,
     "end_time": "2025-03-19T09:41:18.900286",
     "exception": false,
     "start_time": "2025-03-19T09:41:17.760571",
     "status": "completed"
    },
    "tags": []
   },
   "outputs": [
    {
     "data": {
      "image/png": "[encoded data removed]",
      "text/plain": [
       "<Figure size 1200x1000 with 1 Axes>"
      ]
     },
     "metadata": {},
     "output_type": "display_data"
    }
   ],
   "source": [
    "# let us now visualize total number of units sold as per different countries\n",
    "fig, ax = plt.subplots(figsize = (12,10))\n",
    "sns.barplot(x = 'country', y = 'unit_price', data = final_df, ax = ax)\n",
    "plt.xticks(rotation = 90)\n",
    "plt.tight_layout()\n",
    "plt.show()"
   ]
  },
  {
   "cell_type": "markdown",
   "id": "74ec8a35",
   "metadata": {
    "papermill": {
     "duration": 0.018238,
     "end_time": "2025-03-19T09:41:18.937150",
     "exception": false,
     "start_time": "2025-03-19T09:41:18.918912",
     "status": "completed"
    },
    "tags": []
   },
   "source": [
    "## Unsupervised learning algorithms"
   ]
  },
  {
   "cell_type": "code",
   "execution_count": null,
   "id": "caedbab5",
   "metadata": {
    "execution": {
     "iopub.execute_input": "2025-03-19T09:41:18.975675Z",
     "iopub.status.busy": "2025-03-19T09:41:18.975325Z",
     "iopub.status.idle": "2025-03-19T09:41:18.985379Z",
     "shell.execute_reply": "2025-03-19T09:41:18.984198Z"
    },
    "papermill": {
     "duration": 0.03092,
     "end_time": "2025-03-19T09:41:18.986998",
     "exception": false,
     "start_time": "2025-03-19T09:41:18.956078",
     "status": "completed"
    },
    "tags": []
   },
   "outputs": [
    {
     "data": {
      "text/plain": [
       "Index(['stock_code', 'description', 'country', 'weekday', 'month', 'year',\n",
       "       'day_time'],\n",
       "      dtype='object')"
      ]
     },
     "execution_count": 33,
     "metadata": {},
     "output_type": "execute_result"
    }
   ],
   "source": [
    "# we use label encoding to convert categorical data into numerical.\n",
    "cat_features = final_df.select_dtypes(include = 'object').columns\n",
    "cat_features"
   ]
  },
  {
   "cell_type": "code",
   "execution_count": null,
   "id": "92548330",
   "metadata": {
    "execution": {
     "iopub.execute_input": "2025-03-19T09:41:19.025388Z",
     "iopub.status.busy": "2025-03-19T09:41:19.024912Z",
     "iopub.status.idle": "2025-03-19T09:41:19.070144Z",
     "shell.execute_reply": "2025-03-19T09:41:19.069031Z"
    },
    "papermill": {
     "duration": 0.066501,
     "end_time": "2025-03-19T09:41:19.072110",
     "exception": false,
     "start_time": "2025-03-19T09:41:19.005609",
     "status": "completed"
    },
    "tags": []
   },
   "outputs": [
    {
     "data": {
      "text/html": [
       "<div>\n",
       "<style scoped>\n",
       "    .dataframe tbody tr th:only-of-type {\n",
       "        vertical-align: middle;\n",
       "    }\n",
       "\n",
       "    .dataframe tbody tr th {\n",
       "        vertical-align: top;\n",
       "    }\n",
       "\n",
       "    .dataframe thead th {\n",
       "        text-align: right;\n",
       "    }\n",
       "</style>\n",
       "<table border=\"1\" class=\"dataframe\">\n",
       "  <thead>\n",
       "    <tr style=\"text-align: right;\">\n",
       "      <th></th>\n",
       "      <th>stock_code</th>\n",
       "      <th>description</th>\n",
       "      <th>quantity</th>\n",
       "      <th>unit_price</th>\n",
       "      <th>country</th>\n",
       "      <th>total_price</th>\n",
       "      <th>weekday</th>\n",
       "      <th>month</th>\n",
       "      <th>year</th>\n",
       "      <th>day_time</th>\n",
       "    </tr>\n",
       "  </thead>\n",
       "  <tbody>\n",
       "    <tr>\n",
       "      <th>0</th>\n",
       "      <td>1940</td>\n",
       "      <td>945</td>\n",
       "      <td>24</td>\n",
       "      <td>0.85</td>\n",
       "      <td>32</td>\n",
       "      <td>20.40</td>\n",
       "      <td>5</td>\n",
       "      <td>6</td>\n",
       "      <td>1</td>\n",
       "      <td>0</td>\n",
       "    </tr>\n",
       "    <tr>\n",
       "      <th>1</th>\n",
       "      <td>214</td>\n",
       "      <td>881</td>\n",
       "      <td>4</td>\n",
       "      <td>6.95</td>\n",
       "      <td>32</td>\n",
       "      <td>27.80</td>\n",
       "      <td>0</td>\n",
       "      <td>8</td>\n",
       "      <td>1</td>\n",
       "      <td>1</td>\n",
       "    </tr>\n",
       "    <tr>\n",
       "      <th>2</th>\n",
       "      <td>192</td>\n",
       "      <td>1931</td>\n",
       "      <td>4</td>\n",
       "      <td>0.65</td>\n",
       "      <td>32</td>\n",
       "      <td>2.60</td>\n",
       "      <td>3</td>\n",
       "      <td>0</td>\n",
       "      <td>1</td>\n",
       "      <td>1</td>\n",
       "    </tr>\n",
       "    <tr>\n",
       "      <th>3</th>\n",
       "      <td>1238</td>\n",
       "      <td>1330</td>\n",
       "      <td>3</td>\n",
       "      <td>1.95</td>\n",
       "      <td>32</td>\n",
       "      <td>5.85</td>\n",
       "      <td>5</td>\n",
       "      <td>9</td>\n",
       "      <td>1</td>\n",
       "      <td>2</td>\n",
       "    </tr>\n",
       "    <tr>\n",
       "      <th>4</th>\n",
       "      <td>731</td>\n",
       "      <td>1688</td>\n",
       "      <td>2</td>\n",
       "      <td>9.95</td>\n",
       "      <td>32</td>\n",
       "      <td>19.90</td>\n",
       "      <td>3</td>\n",
       "      <td>7</td>\n",
       "      <td>1</td>\n",
       "      <td>2</td>\n",
       "    </tr>\n",
       "  </tbody>\n",
       "</table>\n",
       "</div>"
      ],
      "text/plain": [
       "   stock_code  description  quantity  unit_price  country  total_price  \\\n",
       "0        1940          945        24        0.85       32        20.40   \n",
       "1         214          881         4        6.95       32        27.80   \n",
       "2         192         1931         4        0.65       32         2.60   \n",
       "3        1238         1330         3        1.95       32         5.85   \n",
       "4         731         1688         2        9.95       32        19.90   \n",
       "\n",
       "   weekday  month  year  day_time  \n",
       "0        5      6     1         0  \n",
       "1        0      8     1         1  \n",
       "2        3      0     1         1  \n",
       "3        5      9     1         2  \n",
       "4        3      7     1         2  "
      ]
     },
     "execution_count": 34,
     "metadata": {},
     "output_type": "execute_result"
    }
   ],
   "source": [
    "le = LabelEncoder()\n",
    "\n",
    "for col in cat_features:\n",
    "  final_df[col] = le.fit_transform(final_df[col])\n",
    "\n",
    "final_df.head()"
   ]
  },
  {
   "cell_type": "code",
   "execution_count": null,
   "id": "4ba84fce",
   "metadata": {
    "execution": {
     "iopub.execute_input": "2025-03-19T09:41:19.110964Z",
     "iopub.status.busy": "2025-03-19T09:41:19.110577Z",
     "iopub.status.idle": "2025-03-19T09:41:19.158851Z",
     "shell.execute_reply": "2025-03-19T09:41:19.157734Z"
    },
    "papermill": {
     "duration": 0.069695,
     "end_time": "2025-03-19T09:41:19.160608",
     "exception": false,
     "start_time": "2025-03-19T09:41:19.090913",
     "status": "completed"
    },
    "tags": []
   },
   "outputs": [
    {
     "data": {
      "text/html": [
       "<div>\n",
       "<style scoped>\n",
       "    .dataframe tbody tr th:only-of-type {\n",
       "        vertical-align: middle;\n",
       "    }\n",
       "\n",
       "    .dataframe tbody tr th {\n",
       "        vertical-align: top;\n",
       "    }\n",
       "\n",
       "    .dataframe thead th {\n",
       "        text-align: right;\n",
       "    }\n",
       "</style>\n",
       "<table border=\"1\" class=\"dataframe\">\n",
       "  <thead>\n",
       "    <tr style=\"text-align: right;\">\n",
       "      <th></th>\n",
       "      <th>stock_code</th>\n",
       "      <th>description</th>\n",
       "      <th>quantity</th>\n",
       "      <th>unit_price</th>\n",
       "      <th>country</th>\n",
       "      <th>total_price</th>\n",
       "      <th>weekday</th>\n",
       "      <th>month</th>\n",
       "      <th>year</th>\n",
       "      <th>day_time</th>\n",
       "    </tr>\n",
       "  </thead>\n",
       "  <tbody>\n",
       "    <tr>\n",
       "      <th>count</th>\n",
       "      <td>10926.000000</td>\n",
       "      <td>10926.000000</td>\n",
       "      <td>10926.000000</td>\n",
       "      <td>10926.000000</td>\n",
       "      <td>10926.000000</td>\n",
       "      <td>10926.000000</td>\n",
       "      <td>10926.000000</td>\n",
       "      <td>10926.000000</td>\n",
       "      <td>10926.000000</td>\n",
       "      <td>10926.000000</td>\n",
       "    </tr>\n",
       "    <tr>\n",
       "      <th>mean</th>\n",
       "      <td>0.489806</td>\n",
       "      <td>0.512147</td>\n",
       "      <td>0.004072</td>\n",
       "      <td>0.009482</td>\n",
       "      <td>0.906417</td>\n",
       "      <td>0.006136</td>\n",
       "      <td>0.523321</td>\n",
       "      <td>0.567212</td>\n",
       "      <td>0.933553</td>\n",
       "      <td>0.328528</td>\n",
       "    </tr>\n",
       "    <tr>\n",
       "      <th>std</th>\n",
       "      <td>0.270124</td>\n",
       "      <td>0.280454</td>\n",
       "      <td>0.016773</td>\n",
       "      <td>0.016476</td>\n",
       "      <td>0.193001</td>\n",
       "      <td>0.019240</td>\n",
       "      <td>0.332110</td>\n",
       "      <td>0.321836</td>\n",
       "      <td>0.249073</td>\n",
       "      <td>0.454623</td>\n",
       "    </tr>\n",
       "    <tr>\n",
       "      <th>min</th>\n",
       "      <td>0.000000</td>\n",
       "      <td>0.000000</td>\n",
       "      <td>0.000000</td>\n",
       "      <td>0.000000</td>\n",
       "      <td>0.000000</td>\n",
       "      <td>0.000000</td>\n",
       "      <td>0.000000</td>\n",
       "      <td>0.000000</td>\n",
       "      <td>0.000000</td>\n",
       "      <td>0.000000</td>\n",
       "    </tr>\n",
       "    <tr>\n",
       "      <th>25%</th>\n",
       "      <td>0.266839</td>\n",
       "      <td>0.281910</td>\n",
       "      <td>0.000347</td>\n",
       "      <td>0.004048</td>\n",
       "      <td>0.969697</td>\n",
       "      <td>0.001464</td>\n",
       "      <td>0.200000</td>\n",
       "      <td>0.272727</td>\n",
       "      <td>1.000000</td>\n",
       "      <td>0.000000</td>\n",
       "    </tr>\n",
       "    <tr>\n",
       "      <th>50%</th>\n",
       "      <td>0.485967</td>\n",
       "      <td>0.502113</td>\n",
       "      <td>0.001737</td>\n",
       "      <td>0.006314</td>\n",
       "      <td>0.969697</td>\n",
       "      <td>0.003683</td>\n",
       "      <td>0.600000</td>\n",
       "      <td>0.636364</td>\n",
       "      <td>1.000000</td>\n",
       "      <td>0.000000</td>\n",
       "    </tr>\n",
       "    <tr>\n",
       "      <th>75%</th>\n",
       "      <td>0.700777</td>\n",
       "      <td>0.745139</td>\n",
       "      <td>0.003821</td>\n",
       "      <td>0.012143</td>\n",
       "      <td>0.969697</td>\n",
       "      <td>0.005858</td>\n",
       "      <td>0.800000</td>\n",
       "      <td>0.818182</td>\n",
       "      <td>1.000000</td>\n",
       "      <td>1.000000</td>\n",
       "    </tr>\n",
       "    <tr>\n",
       "      <th>max</th>\n",
       "      <td>1.000000</td>\n",
       "      <td>1.000000</td>\n",
       "      <td>1.000000</td>\n",
       "      <td>1.000000</td>\n",
       "      <td>1.000000</td>\n",
       "      <td>1.000000</td>\n",
       "      <td>1.000000</td>\n",
       "      <td>1.000000</td>\n",
       "      <td>1.000000</td>\n",
       "      <td>1.000000</td>\n",
       "    </tr>\n",
       "  </tbody>\n",
       "</table>\n",
       "</div>"
      ],
      "text/plain": [
       "         stock_code   description      quantity    unit_price       country  \\\n",
       "count  10926.000000  10926.000000  10926.000000  10926.000000  10926.000000   \n",
       "mean       0.489806      0.512147      0.004072      0.009482      0.906417   \n",
       "std        0.270124      0.280454      0.016773      0.016476      0.193001   \n",
       "min        0.000000      0.000000      0.000000      0.000000      0.000000   \n",
       "25%        0.266839      0.281910      0.000347      0.004048      0.969697   \n",
       "50%        0.485967      0.502113      0.001737      0.006314      0.969697   \n",
       "75%        0.700777      0.745139      0.003821      0.012143      0.969697   \n",
       "max        1.000000      1.000000      1.000000      1.000000      1.000000   \n",
       "\n",
       "        total_price       weekday         month          year      day_time  \n",
       "count  10926.000000  10926.000000  10926.000000  10926.000000  10926.000000  \n",
       "mean       0.006136      0.523321      0.567212      0.933553      0.328528  \n",
       "std        0.019240      0.332110      0.321836      0.249073      0.454623  \n",
       "min        0.000000      0.000000      0.000000      0.000000      0.000000  \n",
       "25%        0.001464      0.200000      0.272727      1.000000      0.000000  \n",
       "50%        0.003683      0.600000      0.636364      1.000000      0.000000  \n",
       "75%        0.005858      0.800000      0.818182      1.000000      1.000000  \n",
       "max        1.000000      1.000000      1.000000      1.000000      1.000000  "
      ]
     },
     "execution_count": 35,
     "metadata": {},
     "output_type": "execute_result"
    }
   ],
   "source": [
    "scale = MinMaxScaler()\n",
    "scaled_df = scale.fit_transform(final_df)\n",
    "\n",
    "scaled_df = pd.DataFrame(scaled_df, columns = final_df.columns)\n",
    "scaled_df.describe()"
   ]
  },
  {
   "cell_type": "markdown",
   "id": "fb323049",
   "metadata": {
    "papermill": {
     "duration": 0.018627,
     "end_time": "2025-03-19T09:41:19.198145",
     "exception": false,
     "start_time": "2025-03-19T09:41:19.179518",
     "status": "completed"
    },
    "tags": []
   },
   "source": [
    "## KMeans clustering"
   ]
  },
  {
   "cell_type": "code",
   "execution_count": null,
   "id": "2e9a42e0",
   "metadata": {
    "execution": {
     "iopub.execute_input": "2025-03-19T09:41:19.238022Z",
     "iopub.status.busy": "2025-03-19T09:41:19.237674Z",
     "iopub.status.idle": "2025-03-19T09:41:19.355195Z",
     "shell.execute_reply": "2025-03-19T09:41:19.354278Z"
    },
    "papermill": {
     "duration": 0.141416,
     "end_time": "2025-03-19T09:41:19.359252",
     "exception": false,
     "start_time": "2025-03-19T09:41:19.217836",
     "status": "completed"
    },
    "tags": []
   },
   "outputs": [
    {
     "name": "stderr",
     "output_type": "stream",
     "text": [
      "/usr/local/lib/python3.10/dist-packages/sklearn/cluster/_kmeans.py:870: FutureWarning: The default value of `n_init` will change from 10 to 'auto' in 1.4. Set the value of `n_init` explicitly to suppress the warning\n",
      "  warnings.warn(\n"
     ]
    }
   ],
   "source": [
    "kmeans = KMeans(n_clusters = 3, init = 'k-means++')\n",
    "kmeans.fit(scaled_df)\n",
    "\n",
    "centroids = kmeans.cluster_centers_\n",
    "label_kmeans = kmeans.labels_"
   ]
  },
  {
   "cell_type": "code",
   "execution_count": null,
   "id": "97b2eb40",
   "metadata": {
    "execution": {
     "iopub.execute_input": "2025-03-19T09:41:19.399425Z",
     "iopub.status.busy": "2025-03-19T09:41:19.399041Z",
     "iopub.status.idle": "2025-03-19T09:41:19.567514Z",
     "shell.execute_reply": "2025-03-19T09:41:19.565870Z"
    },
    "papermill": {
     "duration": 0.190718,
     "end_time": "2025-03-19T09:41:19.569317",
     "exception": true,
     "start_time": "2025-03-19T09:41:19.378599",
     "status": "failed"
    },
    "tags": []
   },
   "outputs": [
    {
     "ename": "NameError",
     "evalue": "name 'label' is not defined",
     "output_type": "error",
     "traceback": [
      "\u001b[0;31m---------------------------------------------------------------------------\u001b[0m",
      "\u001b[0;31mNameError\u001b[0m                                 Traceback (most recent call last)",
      "\u001b[0;32m<ipython-input-37-85ab3435b4c6>\u001b[0m in \u001b[0;36m<cell line: 3>\u001b[0;34m()\u001b[0m\n\u001b[1;32m      1\u001b[0m \u001b[0;31m# creating new dataframe to see clusters for different models\u001b[0m\u001b[0;34m\u001b[0m\u001b[0;34m\u001b[0m\u001b[0m\n\u001b[1;32m      2\u001b[0m \u001b[0mdf\u001b[0m \u001b[0;34m=\u001b[0m \u001b[0mnew_df\u001b[0m\u001b[0;34m[\u001b[0m\u001b[0;34m'customer_id'\u001b[0m\u001b[0;34m]\u001b[0m\u001b[0;34m.\u001b[0m\u001b[0mcopy\u001b[0m\u001b[0;34m(\u001b[0m\u001b[0;34m)\u001b[0m\u001b[0;34m.\u001b[0m\u001b[0mto_frame\u001b[0m\u001b[0;34m(\u001b[0m\u001b[0;34m)\u001b[0m\u001b[0;34m\u001b[0m\u001b[0;34m\u001b[0m\u001b[0m\n\u001b[0;32m----> 3\u001b[0;31m \u001b[0mdf\u001b[0m\u001b[0;34m[\u001b[0m\u001b[0;34m'cluster_kmeans'\u001b[0m\u001b[0;34m]\u001b[0m \u001b[0;34m=\u001b[0m \u001b[0mlabel\u001b[0m\u001b[0;34m\u001b[0m\u001b[0;34m\u001b[0m\u001b[0m\n\u001b[0m\u001b[1;32m      4\u001b[0m \u001b[0mdf\u001b[0m\u001b[0;34m.\u001b[0m\u001b[0mgroupby\u001b[0m\u001b[0;34m(\u001b[0m\u001b[0;34m'customer_id'\u001b[0m\u001b[0;34m)\u001b[0m\u001b[0;34m.\u001b[0m\u001b[0mfirst\u001b[0m\u001b[0;34m(\u001b[0m\u001b[0;34m)\u001b[0m\u001b[0;34m\u001b[0m\u001b[0;34m\u001b[0m\u001b[0m\n",
      "\u001b[0;31mNameError\u001b[0m: name 'label' is not defined"
     ]
    }
   ],
   "source": [
    "# creating new dataframe to see clusters for different models\n",
    "df = new_df['customer_id'].copy().to_frame()\n",
    "df['cluster_kmeans'] = label\n",
    "df.groupby('customer_id').first()"
   ]
  },
  {
   "cell_type": "markdown",
   "id": "68834417",
   "metadata": {
    "papermill": {
     "duration": null,
     "end_time": null,
     "exception": null,
     "start_time": null,
     "status": "pending"
    },
    "tags": []
   },
   "source": [
    "## Hierarchical Clustering"
   ]
  },
  {
   "cell_type": "code",
   "execution_count": null,
   "id": "f9dc88d7",
   "metadata": {
    "execution": {
     "iopub.execute_input": "2025-03-19T09:16:21.523315Z",
     "iopub.status.busy": "2025-03-19T09:16:21.522944Z",
     "iopub.status.idle": "2025-03-19T09:16:27.173395Z",
     "shell.execute_reply": "2025-03-19T09:16:27.172298Z",
     "shell.execute_reply.started": "2025-03-19T09:16:21.523285Z"
    },
    "papermill": {
     "duration": null,
     "end_time": null,
     "exception": null,
     "start_time": null,
     "status": "pending"
    },
    "tags": []
   },
   "outputs": [],
   "source": [
    "agg = AgglomerativeClustering(n_clusters = 3, linkage = 'ward')\n",
    "\n",
    "agg.fit(scaled_df)\n",
    "label_agg = agg.labels_"
   ]
  },
  {
   "cell_type": "code",
   "execution_count": null,
   "id": "ec8a424e",
   "metadata": {
    "execution": {
     "iopub.execute_input": "2025-03-19T09:16:47.593889Z",
     "iopub.status.busy": "2025-03-19T09:16:47.593406Z",
     "iopub.status.idle": "2025-03-19T09:16:47.604220Z",
     "shell.execute_reply": "2025-03-19T09:16:47.603117Z",
     "shell.execute_reply.started": "2025-03-19T09:16:47.593859Z"
    },
    "papermill": {
     "duration": null,
     "end_time": null,
     "exception": null,
     "start_time": null,
     "status": "pending"
    },
    "tags": []
   },
   "outputs": [],
   "source": [
    "df['cluster_agg'] = label_agg\n",
    "df.head()"
   ]
  },
  {
   "cell_type": "markdown",
   "id": "e5e45f58",
   "metadata": {
    "papermill": {
     "duration": null,
     "end_time": null,
     "exception": null,
     "start_time": null,
     "status": "pending"
    },
    "tags": []
   },
   "source": [
    "## KMeans with PCA"
   ]
  },
  {
   "cell_type": "code",
   "execution_count": null,
   "id": "babb2ebc",
   "metadata": {
    "execution": {
     "iopub.execute_input": "2025-03-19T09:16:58.726459Z",
     "iopub.status.busy": "2025-03-19T09:16:58.726129Z",
     "iopub.status.idle": "2025-03-19T09:16:58.801299Z",
     "shell.execute_reply": "2025-03-19T09:16:58.800195Z",
     "shell.execute_reply.started": "2025-03-19T09:16:58.726433Z"
    },
    "papermill": {
     "duration": null,
     "end_time": null,
     "exception": null,
     "start_time": null,
     "status": "pending"
    },
    "tags": []
   },
   "outputs": [],
   "source": [
    "# since we have too many features, we can apply PCA before applying KMeans\n",
    "pca = PCA(n_components = 3)\n",
    "pca.fit_transform(scaled_df)\n",
    "\n",
    "pca_df = pd.DataFrame(pca.transform(scaled_df), columns = ['PC1', 'PC2', 'PC3'])\n",
    "pca.explained_variance_ratio_"
   ]
  },
  {
   "cell_type": "code",
   "execution_count": null,
   "id": "51381ca9",
   "metadata": {
    "execution": {
     "iopub.execute_input": "2025-03-19T09:17:03.585044Z",
     "iopub.status.busy": "2025-03-19T09:17:03.584672Z",
     "iopub.status.idle": "2025-03-19T09:17:03.641939Z",
     "shell.execute_reply": "2025-03-19T09:17:03.640770Z",
     "shell.execute_reply.started": "2025-03-19T09:17:03.585016Z"
    },
    "papermill": {
     "duration": null,
     "end_time": null,
     "exception": null,
     "start_time": null,
     "status": "pending"
    },
    "tags": []
   },
   "outputs": [],
   "source": [
    "kmeans.fit_transform(pca_df)\n",
    "\n",
    "centroid_pca_kmeans = kmeans.cluster_centers_\n",
    "label_pca_kmeans = kmeans.labels_"
   ]
  },
  {
   "cell_type": "code",
   "execution_count": null,
   "id": "e46f337f",
   "metadata": {
    "execution": {
     "iopub.execute_input": "2025-03-19T09:17:23.636437Z",
     "iopub.status.busy": "2025-03-19T09:17:23.636102Z",
     "iopub.status.idle": "2025-03-19T09:17:23.654471Z",
     "shell.execute_reply": "2025-03-19T09:17:23.653344Z",
     "shell.execute_reply.started": "2025-03-19T09:17:23.636412Z"
    },
    "papermill": {
     "duration": null,
     "end_time": null,
     "exception": null,
     "start_time": null,
     "status": "pending"
    },
    "tags": []
   },
   "outputs": [],
   "source": [
    "df = df.copy()\n",
    "df['cluster_pca_kmeans'] = label_pca_kmeans\n",
    "df.groupby('customer_id').first()"
   ]
  },
  {
   "cell_type": "markdown",
   "id": "0de54455",
   "metadata": {
    "papermill": {
     "duration": null,
     "end_time": null,
     "exception": null,
     "start_time": null,
     "status": "pending"
    },
    "tags": []
   },
   "source": [
    "## DBSCAN clustering"
   ]
  },
  {
   "cell_type": "code",
   "execution_count": null,
   "id": "9759046e",
   "metadata": {
    "execution": {
     "iopub.execute_input": "2025-03-19T09:17:33.308669Z",
     "iopub.status.busy": "2025-03-19T09:17:33.308259Z",
     "iopub.status.idle": "2025-03-19T09:17:35.916598Z",
     "shell.execute_reply": "2025-03-19T09:17:35.915455Z",
     "shell.execute_reply.started": "2025-03-19T09:17:33.308634Z"
    },
    "papermill": {
     "duration": null,
     "end_time": null,
     "exception": null,
     "start_time": null,
     "status": "pending"
    },
    "tags": []
   },
   "outputs": [],
   "source": [
    "dbscan = DBSCAN(eps = 0.5, min_samples = 5)\n",
    "dbscan.fit(scaled_df)\n",
    "\n",
    "label_dbscan = dbscan.labels_"
   ]
  },
  {
   "cell_type": "code",
   "execution_count": null,
   "id": "3bed3af9",
   "metadata": {
    "execution": {
     "iopub.execute_input": "2025-03-19T09:17:38.538840Z",
     "iopub.status.busy": "2025-03-19T09:17:38.538406Z",
     "iopub.status.idle": "2025-03-19T09:17:38.556715Z",
     "shell.execute_reply": "2025-03-19T09:17:38.555328Z",
     "shell.execute_reply.started": "2025-03-19T09:17:38.538810Z"
    },
    "papermill": {
     "duration": null,
     "end_time": null,
     "exception": null,
     "start_time": null,
     "status": "pending"
    },
    "tags": []
   },
   "outputs": [],
   "source": [
    "df = df.copy()\n",
    "df['cluster_dbscan'] = label_dbscan\n",
    "df.groupby('customer_id').first()"
   ]
  },
  {
   "cell_type": "code",
   "execution_count": null,
   "id": "834152ef",
   "metadata": {
    "execution": {
     "iopub.execute_input": "2025-03-19T09:17:41.795225Z",
     "iopub.status.busy": "2025-03-19T09:17:41.794906Z",
     "iopub.status.idle": "2025-03-19T09:17:41.801935Z",
     "shell.execute_reply": "2025-03-19T09:17:41.800896Z",
     "shell.execute_reply.started": "2025-03-19T09:17:41.795201Z"
    },
    "papermill": {
     "duration": null,
     "end_time": null,
     "exception": null,
     "start_time": null,
     "status": "pending"
    },
    "tags": []
   },
   "outputs": [],
   "source": [
    "# number of clusters formed in DBSCAN\n",
    "df['cluster_dbscan'].nunique()"
   ]
  },
  {
   "cell_type": "code",
   "execution_count": null,
   "id": "76b72d20",
   "metadata": {
    "execution": {
     "iopub.execute_input": "2025-03-19T09:29:25.200875Z",
     "iopub.status.busy": "2025-03-19T09:29:25.200439Z",
     "iopub.status.idle": "2025-03-19T09:29:25.205847Z",
     "shell.execute_reply": "2025-03-19T09:29:25.204717Z",
     "shell.execute_reply.started": "2025-03-19T09:29:25.200843Z"
    },
    "papermill": {
     "duration": null,
     "end_time": null,
     "exception": null,
     "start_time": null,
     "status": "pending"
    },
    "tags": []
   },
   "outputs": [],
   "source": [
    "noise = df['cluster_dbscan'] != -1"
   ]
  },
  {
   "cell_type": "code",
   "execution_count": null,
   "id": "8130089a",
   "metadata": {
    "execution": {
     "iopub.execute_input": "2025-03-19T09:29:48.503890Z",
     "iopub.status.busy": "2025-03-19T09:29:48.503539Z",
     "iopub.status.idle": "2025-03-19T09:29:54.474829Z",
     "shell.execute_reply": "2025-03-19T09:29:54.473663Z",
     "shell.execute_reply.started": "2025-03-19T09:29:48.503862Z"
    },
    "papermill": {
     "duration": null,
     "end_time": null,
     "exception": null,
     "start_time": null,
     "status": "pending"
    },
    "tags": []
   },
   "outputs": [],
   "source": [
    "# checking the quality of clustering\n",
    "score_kmeans = silhouette_score(scaled_df, label_kmeans)\n",
    "score_agg = silhouette_score(scaled_df, label_agg)\n",
    "score_kmeans_pca = silhouette_score(pca_df, label_pca_kmeans)\n",
    "score_dbscan = silhouette_score(scaled_df[noise], label_dbscan[noise])"
   ]
  },
  {
   "cell_type": "code",
   "execution_count": null,
   "id": "88af1b7e",
   "metadata": {
    "execution": {
     "iopub.execute_input": "2025-03-19T09:29:57.966829Z",
     "iopub.status.busy": "2025-03-19T09:29:57.966431Z",
     "iopub.status.idle": "2025-03-19T09:29:57.972976Z",
     "shell.execute_reply": "2025-03-19T09:29:57.971706Z",
     "shell.execute_reply.started": "2025-03-19T09:29:57.966796Z"
    },
    "papermill": {
     "duration": null,
     "end_time": null,
     "exception": null,
     "start_time": null,
     "status": "pending"
    },
    "tags": []
   },
   "outputs": [],
   "source": [
    "score_dbscan"
   ]
  },
  {
   "cell_type": "code",
   "execution_count": null,
   "id": "84351dac",
   "metadata": {
    "execution": {
     "iopub.execute_input": "2025-03-19T09:30:01.347906Z",
     "iopub.status.busy": "2025-03-19T09:30:01.347430Z",
     "iopub.status.idle": "2025-03-19T09:30:01.358950Z",
     "shell.execute_reply": "2025-03-19T09:30:01.357891Z",
     "shell.execute_reply.started": "2025-03-19T09:30:01.347877Z"
    },
    "papermill": {
     "duration": null,
     "end_time": null,
     "exception": null,
     "start_time": null,
     "status": "pending"
    },
    "tags": []
   },
   "outputs": [],
   "source": [
    "score_df = pd.DataFrame([{\n",
    "    'kmeans': score_kmeans,\n",
    "    'agg': score_agg,\n",
    "    'kmeans_pca': score_kmeans_pca,\n",
    "    'dbscan': score_dbscan\n",
    "}])\n",
    "\n",
    "score_df"
   ]
  },
  {
   "cell_type": "markdown",
   "id": "7a7e4e7c",
   "metadata": {
    "papermill": {
     "duration": null,
     "end_time": null,
     "exception": null,
     "start_time": null,
     "status": "pending"
    },
    "tags": []
   },
   "source": [
    "From the above data, we can see that all the clustering algorithms give medium score, which means that the clustering is somewhat meaningful. \n",
    "\n",
    "When comparing with all the models, we `KMeans` with `PCA` gives better results followed by `AgglomerativeClustering`.\n",
    "\n",
    "We can increase the efficiency of clustering by identifying optimal value of `n_clusters` in all the models.\n",
    "\n",
    "We can also use `pca_df` for `AgglomerativeClustering` and `DBSCAN` to check for better clustering."
   ]
  }
 ],
 "metadata": {
  "kaggle": {
   "accelerator": "none",
   "dataSources": [
    {
     "datasetId": 6903799,
     "sourceId": 11077132,
     "sourceType": "datasetVersion"
    }
   ],
   "dockerImageVersionId": 30918,
   "isGpuEnabled": false,
   "isInternetEnabled": false,
   "language": "python",
   "sourceType": "notebook"
  },
  "kernelspec": {
   "display_name": "Python 3",
   "language": "python",
   "name": "python3"
  },
  "language_info": {
   "codemirror_mode": {
    "name": "ipython",
    "version": 3
   },
   "file_extension": ".py",
   "mimetype": "text/x-python",
   "name": "python",
   "nbconvert_exporter": "python",
   "pygments_lexer": "ipython3",
   "version": "3.11.9"
  },
  "papermill": {
   "default_parameters": {},
   "duration": 16.728567,
   "end_time": "2025-03-19T09:41:20.409546",
   "environment_variables": {},
   "exception": true,
   "input_path": "__notebook__.ipynb",
   "output_path": "__notebook__.ipynb",
   "parameters": {},
   "start_time": "2025-03-19T09:41:03.680979",
   "version": "2.6.0"
  }
 },
 "nbformat": 4,
 "nbformat_minor": 5
}
