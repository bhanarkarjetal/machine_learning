{
  "cells": [
    {
      "cell_type": "markdown",
      "metadata": {
        "id": "GyxK_TNtbJfu"
      },
      "source": [
        "## Importing necessary libraries\n"
      ]
    },
    {
      "cell_type": "code",
      "execution_count": 2,
      "metadata": {
        "id": "CXb3TNkNSw2l"
      },
      "outputs": [],
      "source": [
        "import pandas as pd\n",
        "import numpy as np\n",
        "import matplotlib.pyplot as plt\n",
        "import seaborn as sns\n",
        "import warnings\n",
        "warnings.filterwarnings('ignore')"
      ]
    },
    {
      "cell_type": "code",
      "execution_count": 4,
      "metadata": {
        "id": "MSOMbrmDTQR0"
      },
      "outputs": [],
      "source": [
        "from sklearn.linear_model import LinearRegression, Lasso, Ridge\n",
        "from sklearn.model_selection import train_test_split\n",
        "from sklearn.preprocessing import StandardScaler, PolynomialFeatures\n",
        "from sklearn.metrics import mean_squared_error, r2_score\n",
        "from sklearn.model_selection import GridSearchCV\n",
        "from scipy.stats import boxcox"
      ]
    },
    {
      "cell_type": "markdown",
      "metadata": {
        "id": "VqB4iIHZbUh3"
      },
      "source": [
        "## Data gathering"
      ]
    },
    {
      "cell_type": "code",
      "execution_count": 6,
      "metadata": {
        "id": "XBzosymXTzyi"
      },
      "outputs": [],
      "source": [
        "data = pd.read_excel('stock_market_dataset.xlsx')"
      ]
    },
    {
      "cell_type": "code",
      "execution_count": 7,
      "metadata": {
        "colab": {
          "base_uri": "https://localhost:8080/",
          "height": 206
        },
        "id": "erxEYhl0UELg",
        "outputId": "f593fb00-12ad-409c-b965-e0971a08cd72"
      },
      "outputs": [
        {
          "data": {
            "text/html": [
              "<div>\n",
              "<style scoped>\n",
              "    .dataframe tbody tr th:only-of-type {\n",
              "        vertical-align: middle;\n",
              "    }\n",
              "\n",
              "    .dataframe tbody tr th {\n",
              "        vertical-align: top;\n",
              "    }\n",
              "\n",
              "    .dataframe thead th {\n",
              "        text-align: right;\n",
              "    }\n",
              "</style>\n",
              "<table border=\"1\" class=\"dataframe\">\n",
              "  <thead>\n",
              "    <tr style=\"text-align: right;\">\n",
              "      <th></th>\n",
              "      <th>Date</th>\n",
              "      <th>Open</th>\n",
              "      <th>High</th>\n",
              "      <th>Low</th>\n",
              "      <th>Close*</th>\n",
              "      <th>Adj Close**</th>\n",
              "      <th>Volume</th>\n",
              "    </tr>\n",
              "  </thead>\n",
              "  <tbody>\n",
              "    <tr>\n",
              "      <th>0</th>\n",
              "      <td>Apr 28, 2023</td>\n",
              "      <td>33797.43</td>\n",
              "      <td>34104.56</td>\n",
              "      <td>33728.40</td>\n",
              "      <td>34098.16</td>\n",
              "      <td>34098.16</td>\n",
              "      <td>354310000</td>\n",
              "    </tr>\n",
              "    <tr>\n",
              "      <th>1</th>\n",
              "      <td>Apr 27, 2023</td>\n",
              "      <td>33381.66</td>\n",
              "      <td>33859.75</td>\n",
              "      <td>33374.65</td>\n",
              "      <td>33826.16</td>\n",
              "      <td>33826.16</td>\n",
              "      <td>343240000</td>\n",
              "    </tr>\n",
              "    <tr>\n",
              "      <th>2</th>\n",
              "      <td>Apr 26, 2023</td>\n",
              "      <td>33596.34</td>\n",
              "      <td>33645.83</td>\n",
              "      <td>33235.85</td>\n",
              "      <td>33301.87</td>\n",
              "      <td>33301.87</td>\n",
              "      <td>321170000</td>\n",
              "    </tr>\n",
              "    <tr>\n",
              "      <th>3</th>\n",
              "      <td>Apr 25, 2023</td>\n",
              "      <td>33828.34</td>\n",
              "      <td>33875.49</td>\n",
              "      <td>33525.39</td>\n",
              "      <td>33530.83</td>\n",
              "      <td>33530.83</td>\n",
              "      <td>297880000</td>\n",
              "    </tr>\n",
              "    <tr>\n",
              "      <th>4</th>\n",
              "      <td>Apr 24, 2023</td>\n",
              "      <td>33805.04</td>\n",
              "      <td>33891.15</td>\n",
              "      <td>33726.09</td>\n",
              "      <td>33875.40</td>\n",
              "      <td>33875.40</td>\n",
              "      <td>252020000</td>\n",
              "    </tr>\n",
              "  </tbody>\n",
              "</table>\n",
              "</div>"
            ],
            "text/plain": [
              "           Date      Open      High       Low    Close*  Adj Close**  \\\n",
              "0  Apr 28, 2023  33797.43  34104.56  33728.40  34098.16     34098.16   \n",
              "1  Apr 27, 2023  33381.66  33859.75  33374.65  33826.16     33826.16   \n",
              "2  Apr 26, 2023  33596.34  33645.83  33235.85  33301.87     33301.87   \n",
              "3  Apr 25, 2023  33828.34  33875.49  33525.39  33530.83     33530.83   \n",
              "4  Apr 24, 2023  33805.04  33891.15  33726.09  33875.40     33875.40   \n",
              "\n",
              "      Volume  \n",
              "0  354310000  \n",
              "1  343240000  \n",
              "2  321170000  \n",
              "3  297880000  \n",
              "4  252020000  "
            ]
          },
          "execution_count": 7,
          "metadata": {},
          "output_type": "execute_result"
        }
      ],
      "source": [
        "data.head()"
      ]
    },
    {
      "cell_type": "code",
      "execution_count": 8,
      "metadata": {
        "colab": {
          "base_uri": "https://localhost:8080/"
        },
        "id": "RqvIZZNlUFhU",
        "outputId": "422ea68c-1702-43d2-e2b9-0e8898becc75"
      },
      "outputs": [
        {
          "data": {
            "text/plain": [
              "Index(['Date', 'Open', 'High', 'Low', 'Close*', 'Adj Close**', 'Volume'], dtype='object')"
            ]
          },
          "execution_count": 8,
          "metadata": {},
          "output_type": "execute_result"
        }
      ],
      "source": [
        "data.columns"
      ]
    },
    {
      "cell_type": "markdown",
      "metadata": {
        "id": "Z5y0a8yjbcHD"
      },
      "source": [
        "## Data preprocessing"
      ]
    },
    {
      "cell_type": "code",
      "execution_count": 9,
      "metadata": {
        "id": "lXHNFlB7UL8U"
      },
      "outputs": [],
      "source": [
        "# changing column name format for uniformity\n",
        "data.columns = data.columns.str.lower().str.replace('*','').str.replace(' ','_')"
      ]
    },
    {
      "cell_type": "code",
      "execution_count": 10,
      "metadata": {
        "colab": {
          "base_uri": "https://localhost:8080/"
        },
        "id": "H7Ga2imWUmNM",
        "outputId": "a3a548ef-789a-4f70-847e-6aff336c439a"
      },
      "outputs": [
        {
          "data": {
            "text/plain": [
              "Index(['date', 'open', 'high', 'low', 'close', 'adj_close', 'volume'], dtype='object')"
            ]
          },
          "execution_count": 10,
          "metadata": {},
          "output_type": "execute_result"
        }
      ],
      "source": [
        "data.columns"
      ]
    },
    {
      "cell_type": "code",
      "execution_count": 11,
      "metadata": {
        "id": "3IT4bKooUsb5"
      },
      "outputs": [],
      "source": [
        "# changing datatype of 'date' column for further calculation\n",
        "data['date'] = pd.to_datetime(data['date'])"
      ]
    },
    {
      "cell_type": "code",
      "execution_count": 12,
      "metadata": {
        "id": "ySffihCTU9--"
      },
      "outputs": [],
      "source": [
        "# getting 'weekday name', 'month name' and 'year' from 'date' columns\n",
        "data['wkday'] = data['date'].dt.day_name()\n",
        "data['month'] = data['date'].dt.month_name()\n",
        "data['year'] = data['date'].dt.year"
      ]
    },
    {
      "cell_type": "code",
      "execution_count": 13,
      "metadata": {
        "colab": {
          "base_uri": "https://localhost:8080/",
          "height": 206
        },
        "id": "32IT2sDsVaWB",
        "outputId": "bb1f516b-faeb-4c05-cffe-fb6827b06a1a"
      },
      "outputs": [
        {
          "data": {
            "text/html": [
              "<div>\n",
              "<style scoped>\n",
              "    .dataframe tbody tr th:only-of-type {\n",
              "        vertical-align: middle;\n",
              "    }\n",
              "\n",
              "    .dataframe tbody tr th {\n",
              "        vertical-align: top;\n",
              "    }\n",
              "\n",
              "    .dataframe thead th {\n",
              "        text-align: right;\n",
              "    }\n",
              "</style>\n",
              "<table border=\"1\" class=\"dataframe\">\n",
              "  <thead>\n",
              "    <tr style=\"text-align: right;\">\n",
              "      <th></th>\n",
              "      <th>date</th>\n",
              "      <th>open</th>\n",
              "      <th>high</th>\n",
              "      <th>low</th>\n",
              "      <th>close</th>\n",
              "      <th>adj_close</th>\n",
              "      <th>volume</th>\n",
              "      <th>wkday</th>\n",
              "      <th>month</th>\n",
              "      <th>year</th>\n",
              "    </tr>\n",
              "  </thead>\n",
              "  <tbody>\n",
              "    <tr>\n",
              "      <th>0</th>\n",
              "      <td>2023-04-28</td>\n",
              "      <td>33797.43</td>\n",
              "      <td>34104.56</td>\n",
              "      <td>33728.40</td>\n",
              "      <td>34098.16</td>\n",
              "      <td>34098.16</td>\n",
              "      <td>354310000</td>\n",
              "      <td>Friday</td>\n",
              "      <td>April</td>\n",
              "      <td>2023</td>\n",
              "    </tr>\n",
              "    <tr>\n",
              "      <th>1</th>\n",
              "      <td>2023-04-27</td>\n",
              "      <td>33381.66</td>\n",
              "      <td>33859.75</td>\n",
              "      <td>33374.65</td>\n",
              "      <td>33826.16</td>\n",
              "      <td>33826.16</td>\n",
              "      <td>343240000</td>\n",
              "      <td>Thursday</td>\n",
              "      <td>April</td>\n",
              "      <td>2023</td>\n",
              "    </tr>\n",
              "    <tr>\n",
              "      <th>2</th>\n",
              "      <td>2023-04-26</td>\n",
              "      <td>33596.34</td>\n",
              "      <td>33645.83</td>\n",
              "      <td>33235.85</td>\n",
              "      <td>33301.87</td>\n",
              "      <td>33301.87</td>\n",
              "      <td>321170000</td>\n",
              "      <td>Wednesday</td>\n",
              "      <td>April</td>\n",
              "      <td>2023</td>\n",
              "    </tr>\n",
              "    <tr>\n",
              "      <th>3</th>\n",
              "      <td>2023-04-25</td>\n",
              "      <td>33828.34</td>\n",
              "      <td>33875.49</td>\n",
              "      <td>33525.39</td>\n",
              "      <td>33530.83</td>\n",
              "      <td>33530.83</td>\n",
              "      <td>297880000</td>\n",
              "      <td>Tuesday</td>\n",
              "      <td>April</td>\n",
              "      <td>2023</td>\n",
              "    </tr>\n",
              "    <tr>\n",
              "      <th>4</th>\n",
              "      <td>2023-04-24</td>\n",
              "      <td>33805.04</td>\n",
              "      <td>33891.15</td>\n",
              "      <td>33726.09</td>\n",
              "      <td>33875.40</td>\n",
              "      <td>33875.40</td>\n",
              "      <td>252020000</td>\n",
              "      <td>Monday</td>\n",
              "      <td>April</td>\n",
              "      <td>2023</td>\n",
              "    </tr>\n",
              "  </tbody>\n",
              "</table>\n",
              "</div>"
            ],
            "text/plain": [
              "        date      open      high       low     close  adj_close     volume  \\\n",
              "0 2023-04-28  33797.43  34104.56  33728.40  34098.16   34098.16  354310000   \n",
              "1 2023-04-27  33381.66  33859.75  33374.65  33826.16   33826.16  343240000   \n",
              "2 2023-04-26  33596.34  33645.83  33235.85  33301.87   33301.87  321170000   \n",
              "3 2023-04-25  33828.34  33875.49  33525.39  33530.83   33530.83  297880000   \n",
              "4 2023-04-24  33805.04  33891.15  33726.09  33875.40   33875.40  252020000   \n",
              "\n",
              "       wkday  month  year  \n",
              "0     Friday  April  2023  \n",
              "1   Thursday  April  2023  \n",
              "2  Wednesday  April  2023  \n",
              "3    Tuesday  April  2023  \n",
              "4     Monday  April  2023  "
            ]
          },
          "execution_count": 13,
          "metadata": {},
          "output_type": "execute_result"
        }
      ],
      "source": [
        "data.head()"
      ]
    },
    {
      "cell_type": "code",
      "execution_count": 14,
      "metadata": {
        "colab": {
          "base_uri": "https://localhost:8080/",
          "height": 206
        },
        "id": "mGZvwLZgVboT",
        "outputId": "6f63b129-29be-4f5d-b4d8-f399c7b28734"
      },
      "outputs": [
        {
          "data": {
            "text/html": [
              "<div>\n",
              "<style scoped>\n",
              "    .dataframe tbody tr th:only-of-type {\n",
              "        vertical-align: middle;\n",
              "    }\n",
              "\n",
              "    .dataframe tbody tr th {\n",
              "        vertical-align: top;\n",
              "    }\n",
              "\n",
              "    .dataframe thead th {\n",
              "        text-align: right;\n",
              "    }\n",
              "</style>\n",
              "<table border=\"1\" class=\"dataframe\">\n",
              "  <thead>\n",
              "    <tr style=\"text-align: right;\">\n",
              "      <th></th>\n",
              "      <th>open</th>\n",
              "      <th>high</th>\n",
              "      <th>low</th>\n",
              "      <th>close</th>\n",
              "      <th>adj_close</th>\n",
              "      <th>volume</th>\n",
              "      <th>wkday</th>\n",
              "      <th>month</th>\n",
              "      <th>year</th>\n",
              "    </tr>\n",
              "  </thead>\n",
              "  <tbody>\n",
              "    <tr>\n",
              "      <th>0</th>\n",
              "      <td>33797.43</td>\n",
              "      <td>34104.56</td>\n",
              "      <td>33728.40</td>\n",
              "      <td>34098.16</td>\n",
              "      <td>34098.16</td>\n",
              "      <td>354310000</td>\n",
              "      <td>Friday</td>\n",
              "      <td>April</td>\n",
              "      <td>2023</td>\n",
              "    </tr>\n",
              "    <tr>\n",
              "      <th>1</th>\n",
              "      <td>33381.66</td>\n",
              "      <td>33859.75</td>\n",
              "      <td>33374.65</td>\n",
              "      <td>33826.16</td>\n",
              "      <td>33826.16</td>\n",
              "      <td>343240000</td>\n",
              "      <td>Thursday</td>\n",
              "      <td>April</td>\n",
              "      <td>2023</td>\n",
              "    </tr>\n",
              "    <tr>\n",
              "      <th>2</th>\n",
              "      <td>33596.34</td>\n",
              "      <td>33645.83</td>\n",
              "      <td>33235.85</td>\n",
              "      <td>33301.87</td>\n",
              "      <td>33301.87</td>\n",
              "      <td>321170000</td>\n",
              "      <td>Wednesday</td>\n",
              "      <td>April</td>\n",
              "      <td>2023</td>\n",
              "    </tr>\n",
              "    <tr>\n",
              "      <th>3</th>\n",
              "      <td>33828.34</td>\n",
              "      <td>33875.49</td>\n",
              "      <td>33525.39</td>\n",
              "      <td>33530.83</td>\n",
              "      <td>33530.83</td>\n",
              "      <td>297880000</td>\n",
              "      <td>Tuesday</td>\n",
              "      <td>April</td>\n",
              "      <td>2023</td>\n",
              "    </tr>\n",
              "    <tr>\n",
              "      <th>4</th>\n",
              "      <td>33805.04</td>\n",
              "      <td>33891.15</td>\n",
              "      <td>33726.09</td>\n",
              "      <td>33875.40</td>\n",
              "      <td>33875.40</td>\n",
              "      <td>252020000</td>\n",
              "      <td>Monday</td>\n",
              "      <td>April</td>\n",
              "      <td>2023</td>\n",
              "    </tr>\n",
              "  </tbody>\n",
              "</table>\n",
              "</div>"
            ],
            "text/plain": [
              "       open      high       low     close  adj_close     volume      wkday  \\\n",
              "0  33797.43  34104.56  33728.40  34098.16   34098.16  354310000     Friday   \n",
              "1  33381.66  33859.75  33374.65  33826.16   33826.16  343240000   Thursday   \n",
              "2  33596.34  33645.83  33235.85  33301.87   33301.87  321170000  Wednesday   \n",
              "3  33828.34  33875.49  33525.39  33530.83   33530.83  297880000    Tuesday   \n",
              "4  33805.04  33891.15  33726.09  33875.40   33875.40  252020000     Monday   \n",
              "\n",
              "   month  year  \n",
              "0  April  2023  \n",
              "1  April  2023  \n",
              "2  April  2023  \n",
              "3  April  2023  \n",
              "4  April  2023  "
            ]
          },
          "execution_count": 14,
          "metadata": {},
          "output_type": "execute_result"
        }
      ],
      "source": [
        "data.drop(['date'], axis=1, inplace=True)\n",
        "data.head()"
      ]
    },
    {
      "cell_type": "code",
      "execution_count": 15,
      "metadata": {
        "colab": {
          "base_uri": "https://localhost:8080/",
          "height": 366
        },
        "id": "V_YNU6Z-Vk9Z",
        "outputId": "5d6271f3-8e62-4b8d-ea05-9f4bbe203371"
      },
      "outputs": [
        {
          "data": {
            "text/plain": [
              "open         float64\n",
              "high         float64\n",
              "low          float64\n",
              "close        float64\n",
              "adj_close    float64\n",
              "volume         int64\n",
              "wkday         object\n",
              "month         object\n",
              "year           int32\n",
              "dtype: object"
            ]
          },
          "execution_count": 15,
          "metadata": {},
          "output_type": "execute_result"
        }
      ],
      "source": [
        "data.dtypes"
      ]
    },
    {
      "cell_type": "code",
      "execution_count": 16,
      "metadata": {
        "colab": {
          "base_uri": "https://localhost:8080/"
        },
        "id": "--yhASASWL31",
        "outputId": "e3d0afd2-904a-4d34-b1a5-04546410b97c"
      },
      "outputs": [
        {
          "data": {
            "text/plain": [
              "(1258, 9)"
            ]
          },
          "execution_count": 16,
          "metadata": {},
          "output_type": "execute_result"
        }
      ],
      "source": [
        "data.shape"
      ]
    },
    {
      "cell_type": "markdown",
      "metadata": {
        "id": "PDwRoTSIbyad"
      },
      "source": [
        "## Statistical analysis"
      ]
    },
    {
      "cell_type": "code",
      "execution_count": 18,
      "metadata": {
        "colab": {
          "base_uri": "https://localhost:8080/",
          "height": 269
        },
        "id": "dKwCVUoUfz5Q",
        "outputId": "fcab885f-4aa1-41f4-e5b8-f524806ebcdc"
      },
      "outputs": [
        {
          "data": {
            "text/html": [
              "<div>\n",
              "<style scoped>\n",
              "    .dataframe tbody tr th:only-of-type {\n",
              "        vertical-align: middle;\n",
              "    }\n",
              "\n",
              "    .dataframe tbody tr th {\n",
              "        vertical-align: top;\n",
              "    }\n",
              "\n",
              "    .dataframe thead th {\n",
              "        text-align: right;\n",
              "    }\n",
              "</style>\n",
              "<table border=\"1\" class=\"dataframe\">\n",
              "  <thead>\n",
              "    <tr style=\"text-align: right;\">\n",
              "      <th></th>\n",
              "      <th>open</th>\n",
              "      <th>high</th>\n",
              "      <th>low</th>\n",
              "      <th>close</th>\n",
              "      <th>adj_close</th>\n",
              "      <th>volume</th>\n",
              "      <th>year</th>\n",
              "    </tr>\n",
              "  </thead>\n",
              "  <tbody>\n",
              "    <tr>\n",
              "      <th>open</th>\n",
              "      <td>1.000000</td>\n",
              "      <td>0.999043</td>\n",
              "      <td>0.998626</td>\n",
              "      <td>0.997592</td>\n",
              "      <td>0.997592</td>\n",
              "      <td>-0.088002</td>\n",
              "      <td>0.802391</td>\n",
              "    </tr>\n",
              "    <tr>\n",
              "      <th>high</th>\n",
              "      <td>0.999043</td>\n",
              "      <td>1.000000</td>\n",
              "      <td>0.998198</td>\n",
              "      <td>0.998682</td>\n",
              "      <td>0.998682</td>\n",
              "      <td>-0.073388</td>\n",
              "      <td>0.810497</td>\n",
              "    </tr>\n",
              "    <tr>\n",
              "      <th>low</th>\n",
              "      <td>0.998626</td>\n",
              "      <td>0.998198</td>\n",
              "      <td>1.000000</td>\n",
              "      <td>0.998839</td>\n",
              "      <td>0.998839</td>\n",
              "      <td>-0.115077</td>\n",
              "      <td>0.793203</td>\n",
              "    </tr>\n",
              "    <tr>\n",
              "      <th>close</th>\n",
              "      <td>0.997592</td>\n",
              "      <td>0.998682</td>\n",
              "      <td>0.998839</td>\n",
              "      <td>1.000000</td>\n",
              "      <td>1.000000</td>\n",
              "      <td>-0.096766</td>\n",
              "      <td>0.802385</td>\n",
              "    </tr>\n",
              "    <tr>\n",
              "      <th>adj_close</th>\n",
              "      <td>0.997592</td>\n",
              "      <td>0.998682</td>\n",
              "      <td>0.998839</td>\n",
              "      <td>1.000000</td>\n",
              "      <td>1.000000</td>\n",
              "      <td>-0.096766</td>\n",
              "      <td>0.802385</td>\n",
              "    </tr>\n",
              "    <tr>\n",
              "      <th>volume</th>\n",
              "      <td>-0.088002</td>\n",
              "      <td>-0.073388</td>\n",
              "      <td>-0.115077</td>\n",
              "      <td>-0.096766</td>\n",
              "      <td>-0.096766</td>\n",
              "      <td>1.000000</td>\n",
              "      <td>0.148537</td>\n",
              "    </tr>\n",
              "    <tr>\n",
              "      <th>year</th>\n",
              "      <td>0.802391</td>\n",
              "      <td>0.810497</td>\n",
              "      <td>0.793203</td>\n",
              "      <td>0.802385</td>\n",
              "      <td>0.802385</td>\n",
              "      <td>0.148537</td>\n",
              "      <td>1.000000</td>\n",
              "    </tr>\n",
              "  </tbody>\n",
              "</table>\n",
              "</div>"
            ],
            "text/plain": [
              "               open      high       low     close  adj_close    volume  \\\n",
              "open       1.000000  0.999043  0.998626  0.997592   0.997592 -0.088002   \n",
              "high       0.999043  1.000000  0.998198  0.998682   0.998682 -0.073388   \n",
              "low        0.998626  0.998198  1.000000  0.998839   0.998839 -0.115077   \n",
              "close      0.997592  0.998682  0.998839  1.000000   1.000000 -0.096766   \n",
              "adj_close  0.997592  0.998682  0.998839  1.000000   1.000000 -0.096766   \n",
              "volume    -0.088002 -0.073388 -0.115077 -0.096766  -0.096766  1.000000   \n",
              "year       0.802391  0.810497  0.793203  0.802385   0.802385  0.148537   \n",
              "\n",
              "               year  \n",
              "open       0.802391  \n",
              "high       0.810497  \n",
              "low        0.793203  \n",
              "close      0.802385  \n",
              "adj_close  0.802385  \n",
              "volume     0.148537  \n",
              "year       1.000000  "
            ]
          },
          "execution_count": 18,
          "metadata": {},
          "output_type": "execute_result"
        }
      ],
      "source": [
        "# finding correlation between all the features and target variables\n",
        "data_corr = data.select_dtypes(include = np.number).corr()\n",
        "data_corr "
      ]
    },
    {
      "cell_type": "code",
      "execution_count": 19,
      "metadata": {
        "colab": {
          "base_uri": "https://localhost:8080/"
        },
        "id": "DDP6f1hCg0q4",
        "outputId": "f327edd2-6aa9-48a8-b0c7-2952b0458876"
      },
      "outputs": [
        {
          "data": {
            "text/plain": [
              "['open', 'high', 'low', 'adj_close', 'year']"
            ]
          },
          "execution_count": 19,
          "metadata": {},
          "output_type": "execute_result"
        }
      ],
      "source": [
        "# fetching relevant data for analysis based on correlation values\n",
        "corr_threshold = 0.7\n",
        "new_cols = []\n",
        "close_corr = data_corr['close']\n",
        "close_corr.drop(['close'],inplace = True)\n",
        "for i in close_corr.index:\n",
        "    if close_corr[i] > corr_threshold:\n",
        "        new_cols.append(i)\n",
        "new_cols"
      ]
    },
    {
      "cell_type": "code",
      "execution_count": 25,
      "metadata": {},
      "outputs": [
        {
          "data": {
            "text/plain": [
              "['open', 'high', 'low', 'year']"
            ]
          },
          "execution_count": 25,
          "metadata": {},
          "output_type": "execute_result"
        }
      ],
      "source": [
        "# removing 'adj_close' column as it has correlation close to one\n",
        "new_cols.remove('adj_close')\n",
        "new_cols"
      ]
    },
    {
      "cell_type": "code",
      "execution_count": 26,
      "metadata": {
        "colab": {
          "base_uri": "https://localhost:8080/",
          "height": 300
        },
        "id": "i9FSuxsygX0p",
        "outputId": "eaa4aab6-1f41-45bc-c8f0-35e393fb339c"
      },
      "outputs": [
        {
          "data": {
            "text/html": [
              "<div>\n",
              "<style scoped>\n",
              "    .dataframe tbody tr th:only-of-type {\n",
              "        vertical-align: middle;\n",
              "    }\n",
              "\n",
              "    .dataframe tbody tr th {\n",
              "        vertical-align: top;\n",
              "    }\n",
              "\n",
              "    .dataframe thead th {\n",
              "        text-align: right;\n",
              "    }\n",
              "</style>\n",
              "<table border=\"1\" class=\"dataframe\">\n",
              "  <thead>\n",
              "    <tr style=\"text-align: right;\">\n",
              "      <th></th>\n",
              "      <th>open</th>\n",
              "      <th>high</th>\n",
              "      <th>low</th>\n",
              "      <th>year</th>\n",
              "    </tr>\n",
              "  </thead>\n",
              "  <tbody>\n",
              "    <tr>\n",
              "      <th>count</th>\n",
              "      <td>1258.000000</td>\n",
              "      <td>1258.000000</td>\n",
              "      <td>1258.000000</td>\n",
              "      <td>1258.000000</td>\n",
              "    </tr>\n",
              "    <tr>\n",
              "      <th>mean</th>\n",
              "      <td>29595.823045</td>\n",
              "      <td>29776.945739</td>\n",
              "      <td>29402.432226</td>\n",
              "      <td>2020.323529</td>\n",
              "    </tr>\n",
              "    <tr>\n",
              "      <th>std</th>\n",
              "      <td>4006.078299</td>\n",
              "      <td>4009.007573</td>\n",
              "      <td>4004.949066</td>\n",
              "      <td>1.487504</td>\n",
              "    </tr>\n",
              "    <tr>\n",
              "      <th>min</th>\n",
              "      <td>19028.360000</td>\n",
              "      <td>19121.010000</td>\n",
              "      <td>18213.650000</td>\n",
              "      <td>2018.000000</td>\n",
              "    </tr>\n",
              "    <tr>\n",
              "      <th>25%</th>\n",
              "      <td>26041.267500</td>\n",
              "      <td>26163.155000</td>\n",
              "      <td>25877.872500</td>\n",
              "      <td>2019.000000</td>\n",
              "    </tr>\n",
              "    <tr>\n",
              "      <th>50%</th>\n",
              "      <td>29201.410000</td>\n",
              "      <td>29335.685000</td>\n",
              "      <td>28996.500000</td>\n",
              "      <td>2020.000000</td>\n",
              "    </tr>\n",
              "    <tr>\n",
              "      <th>75%</th>\n",
              "      <td>33604.027500</td>\n",
              "      <td>33825.445000</td>\n",
              "      <td>33346.827500</td>\n",
              "      <td>2022.000000</td>\n",
              "    </tr>\n",
              "    <tr>\n",
              "      <th>max</th>\n",
              "      <td>36722.600000</td>\n",
              "      <td>36952.650000</td>\n",
              "      <td>36636.000000</td>\n",
              "      <td>2023.000000</td>\n",
              "    </tr>\n",
              "  </tbody>\n",
              "</table>\n",
              "</div>"
            ],
            "text/plain": [
              "               open          high           low         year\n",
              "count   1258.000000   1258.000000   1258.000000  1258.000000\n",
              "mean   29595.823045  29776.945739  29402.432226  2020.323529\n",
              "std     4006.078299   4009.007573   4004.949066     1.487504\n",
              "min    19028.360000  19121.010000  18213.650000  2018.000000\n",
              "25%    26041.267500  26163.155000  25877.872500  2019.000000\n",
              "50%    29201.410000  29335.685000  28996.500000  2020.000000\n",
              "75%    33604.027500  33825.445000  33346.827500  2022.000000\n",
              "max    36722.600000  36952.650000  36636.000000  2023.000000"
            ]
          },
          "execution_count": 26,
          "metadata": {},
          "output_type": "execute_result"
        }
      ],
      "source": [
        "data_stat = data[new_cols].describe()\n",
        "data_stat"
      ]
    },
    {
      "cell_type": "markdown",
      "metadata": {
        "id": "CUO8QDcjcATy"
      },
      "source": [
        "## Features and target variables selection"
      ]
    },
    {
      "cell_type": "code",
      "execution_count": 27,
      "metadata": {
        "id": "lYvUK8dgWhne"
      },
      "outputs": [],
      "source": [
        "# setting target variable\n",
        "y_col ='close'\n",
        "\n",
        "# getting numerical columns\n",
        "x_num = new_cols"
      ]
    },
    {
      "cell_type": "code",
      "execution_count": 28,
      "metadata": {
        "colab": {
          "base_uri": "https://localhost:8080/"
        },
        "id": "rbbic60Tdc_x",
        "outputId": "15e3e3a5-3c6b-45ef-9da1-6f2adb6e3ba3"
      },
      "outputs": [
        {
          "data": {
            "text/plain": [
              "Index(['wkday', 'month'], dtype='object')"
            ]
          },
          "execution_count": 28,
          "metadata": {},
          "output_type": "execute_result"
        }
      ],
      "source": [
        "# getting categorical columns\n",
        "x_cat = data.select_dtypes(exclude=np.number).columns\n",
        "x_cat"
      ]
    },
    {
      "cell_type": "code",
      "execution_count": 29,
      "metadata": {
        "id": "XDxqX-YidePM"
      },
      "outputs": [],
      "source": [
        "X_num = data[x_num]\n",
        "X_cat = data[x_cat]\n",
        "y = data[y_col]"
      ]
    },
    {
      "cell_type": "code",
      "execution_count": 30,
      "metadata": {
        "colab": {
          "base_uri": "https://localhost:8080/",
          "height": 206
        },
        "id": "GT34ocATVr1v",
        "outputId": "d21a71b2-719f-4965-a620-ebc42b6b9994"
      },
      "outputs": [
        {
          "data": {
            "text/html": [
              "<div>\n",
              "<style scoped>\n",
              "    .dataframe tbody tr th:only-of-type {\n",
              "        vertical-align: middle;\n",
              "    }\n",
              "\n",
              "    .dataframe tbody tr th {\n",
              "        vertical-align: top;\n",
              "    }\n",
              "\n",
              "    .dataframe thead th {\n",
              "        text-align: right;\n",
              "    }\n",
              "</style>\n",
              "<table border=\"1\" class=\"dataframe\">\n",
              "  <thead>\n",
              "    <tr style=\"text-align: right;\">\n",
              "      <th></th>\n",
              "      <th>open</th>\n",
              "      <th>high</th>\n",
              "      <th>low</th>\n",
              "      <th>year</th>\n",
              "    </tr>\n",
              "  </thead>\n",
              "  <tbody>\n",
              "    <tr>\n",
              "      <th>0</th>\n",
              "      <td>33797.43</td>\n",
              "      <td>34104.56</td>\n",
              "      <td>33728.40</td>\n",
              "      <td>2023</td>\n",
              "    </tr>\n",
              "    <tr>\n",
              "      <th>1</th>\n",
              "      <td>33381.66</td>\n",
              "      <td>33859.75</td>\n",
              "      <td>33374.65</td>\n",
              "      <td>2023</td>\n",
              "    </tr>\n",
              "    <tr>\n",
              "      <th>2</th>\n",
              "      <td>33596.34</td>\n",
              "      <td>33645.83</td>\n",
              "      <td>33235.85</td>\n",
              "      <td>2023</td>\n",
              "    </tr>\n",
              "    <tr>\n",
              "      <th>3</th>\n",
              "      <td>33828.34</td>\n",
              "      <td>33875.49</td>\n",
              "      <td>33525.39</td>\n",
              "      <td>2023</td>\n",
              "    </tr>\n",
              "    <tr>\n",
              "      <th>4</th>\n",
              "      <td>33805.04</td>\n",
              "      <td>33891.15</td>\n",
              "      <td>33726.09</td>\n",
              "      <td>2023</td>\n",
              "    </tr>\n",
              "  </tbody>\n",
              "</table>\n",
              "</div>"
            ],
            "text/plain": [
              "       open      high       low  year\n",
              "0  33797.43  34104.56  33728.40  2023\n",
              "1  33381.66  33859.75  33374.65  2023\n",
              "2  33596.34  33645.83  33235.85  2023\n",
              "3  33828.34  33875.49  33525.39  2023\n",
              "4  33805.04  33891.15  33726.09  2023"
            ]
          },
          "execution_count": 30,
          "metadata": {},
          "output_type": "execute_result"
        }
      ],
      "source": [
        "X_num.head()"
      ]
    },
    {
      "cell_type": "code",
      "execution_count": 36,
      "metadata": {
        "colab": {
          "base_uri": "https://localhost:8080/",
          "height": 407
        },
        "id": "FLtYb9byfxmE",
        "outputId": "4d75a076-b583-44fd-adb9-dbe2681ba06a"
      },
      "outputs": [
        {
          "data": {
            "image/png": "[encoded data removed]",
            "text/plain": [
              "<Figure size 1000x400 with 2 Axes>"
            ]
          },
          "metadata": {},
          "output_type": "display_data"
        }
      ],
      "source": [
        "# visualizing categorical features\n",
        "fig, ax = plt.subplots(1,2, figsize = (10,4))\n",
        "\n",
        "sns.countplot(x = 'wkday', data = data, ax = ax[0])\n",
        "sns.countplot(x = 'month', data = data, ax = ax[1])\n",
        "plt.xticks(rotation = 45)\n",
        "\n",
        "plt.tight_layout()\n",
        "plt.show()\n"
      ]
    },
    {
      "cell_type": "code",
      "execution_count": 37,
      "metadata": {
        "colab": {
          "base_uri": "https://localhost:8080/",
          "height": 226
        },
        "id": "wJ96QuM8T1b2",
        "outputId": "6bcf907d-b32d-45c0-ea18-19efe27d3b6f"
      },
      "outputs": [
        {
          "data": {
            "text/html": [
              "<div>\n",
              "<style scoped>\n",
              "    .dataframe tbody tr th:only-of-type {\n",
              "        vertical-align: middle;\n",
              "    }\n",
              "\n",
              "    .dataframe tbody tr th {\n",
              "        vertical-align: top;\n",
              "    }\n",
              "\n",
              "    .dataframe thead th {\n",
              "        text-align: right;\n",
              "    }\n",
              "</style>\n",
              "<table border=\"1\" class=\"dataframe\">\n",
              "  <thead>\n",
              "    <tr style=\"text-align: right;\">\n",
              "      <th></th>\n",
              "      <th>wkday_Monday</th>\n",
              "      <th>wkday_Thursday</th>\n",
              "      <th>wkday_Tuesday</th>\n",
              "      <th>wkday_Wednesday</th>\n",
              "      <th>month_August</th>\n",
              "      <th>month_December</th>\n",
              "      <th>month_February</th>\n",
              "      <th>month_January</th>\n",
              "      <th>month_July</th>\n",
              "      <th>month_June</th>\n",
              "      <th>month_March</th>\n",
              "      <th>month_May</th>\n",
              "      <th>month_November</th>\n",
              "      <th>month_October</th>\n",
              "      <th>month_September</th>\n",
              "    </tr>\n",
              "  </thead>\n",
              "  <tbody>\n",
              "    <tr>\n",
              "      <th>0</th>\n",
              "      <td>0</td>\n",
              "      <td>0</td>\n",
              "      <td>0</td>\n",
              "      <td>0</td>\n",
              "      <td>0</td>\n",
              "      <td>0</td>\n",
              "      <td>0</td>\n",
              "      <td>0</td>\n",
              "      <td>0</td>\n",
              "      <td>0</td>\n",
              "      <td>0</td>\n",
              "      <td>0</td>\n",
              "      <td>0</td>\n",
              "      <td>0</td>\n",
              "      <td>0</td>\n",
              "    </tr>\n",
              "    <tr>\n",
              "      <th>1</th>\n",
              "      <td>0</td>\n",
              "      <td>1</td>\n",
              "      <td>0</td>\n",
              "      <td>0</td>\n",
              "      <td>0</td>\n",
              "      <td>0</td>\n",
              "      <td>0</td>\n",
              "      <td>0</td>\n",
              "      <td>0</td>\n",
              "      <td>0</td>\n",
              "      <td>0</td>\n",
              "      <td>0</td>\n",
              "      <td>0</td>\n",
              "      <td>0</td>\n",
              "      <td>0</td>\n",
              "    </tr>\n",
              "    <tr>\n",
              "      <th>2</th>\n",
              "      <td>0</td>\n",
              "      <td>0</td>\n",
              "      <td>0</td>\n",
              "      <td>1</td>\n",
              "      <td>0</td>\n",
              "      <td>0</td>\n",
              "      <td>0</td>\n",
              "      <td>0</td>\n",
              "      <td>0</td>\n",
              "      <td>0</td>\n",
              "      <td>0</td>\n",
              "      <td>0</td>\n",
              "      <td>0</td>\n",
              "      <td>0</td>\n",
              "      <td>0</td>\n",
              "    </tr>\n",
              "    <tr>\n",
              "      <th>3</th>\n",
              "      <td>0</td>\n",
              "      <td>0</td>\n",
              "      <td>1</td>\n",
              "      <td>0</td>\n",
              "      <td>0</td>\n",
              "      <td>0</td>\n",
              "      <td>0</td>\n",
              "      <td>0</td>\n",
              "      <td>0</td>\n",
              "      <td>0</td>\n",
              "      <td>0</td>\n",
              "      <td>0</td>\n",
              "      <td>0</td>\n",
              "      <td>0</td>\n",
              "      <td>0</td>\n",
              "    </tr>\n",
              "    <tr>\n",
              "      <th>4</th>\n",
              "      <td>1</td>\n",
              "      <td>0</td>\n",
              "      <td>0</td>\n",
              "      <td>0</td>\n",
              "      <td>0</td>\n",
              "      <td>0</td>\n",
              "      <td>0</td>\n",
              "      <td>0</td>\n",
              "      <td>0</td>\n",
              "      <td>0</td>\n",
              "      <td>0</td>\n",
              "      <td>0</td>\n",
              "      <td>0</td>\n",
              "      <td>0</td>\n",
              "      <td>0</td>\n",
              "    </tr>\n",
              "  </tbody>\n",
              "</table>\n",
              "</div>"
            ],
            "text/plain": [
              "   wkday_Monday  wkday_Thursday  wkday_Tuesday  wkday_Wednesday  month_August  \\\n",
              "0             0               0              0                0             0   \n",
              "1             0               1              0                0             0   \n",
              "2             0               0              0                1             0   \n",
              "3             0               0              1                0             0   \n",
              "4             1               0              0                0             0   \n",
              "\n",
              "   month_December  month_February  month_January  month_July  month_June  \\\n",
              "0               0               0              0           0           0   \n",
              "1               0               0              0           0           0   \n",
              "2               0               0              0           0           0   \n",
              "3               0               0              0           0           0   \n",
              "4               0               0              0           0           0   \n",
              "\n",
              "   month_March  month_May  month_November  month_October  month_September  \n",
              "0            0          0               0              0                0  \n",
              "1            0          0               0              0                0  \n",
              "2            0          0               0              0                0  \n",
              "3            0          0               0              0                0  \n",
              "4            0          0               0              0                0  "
            ]
          },
          "execution_count": 37,
          "metadata": {},
          "output_type": "execute_result"
        }
      ],
      "source": [
        "# one hot encoding for categorical variables\n",
        "data_encode = pd.get_dummies(X_cat, drop_first = True).astype(int)\n",
        "data_encode.head()"
      ]
    },
    {
      "cell_type": "code",
      "execution_count": 38,
      "metadata": {
        "colab": {
          "base_uri": "https://localhost:8080/"
        },
        "id": "y01kpFpkVACU",
        "outputId": "129b2772-fe8a-48ea-f493-ea044b49b978"
      },
      "outputs": [
        {
          "data": {
            "text/plain": [
              "(1258, 15)"
            ]
          },
          "execution_count": 38,
          "metadata": {},
          "output_type": "execute_result"
        }
      ],
      "source": [
        "data_encode.shape"
      ]
    },
    {
      "cell_type": "code",
      "execution_count": 39,
      "metadata": {
        "colab": {
          "base_uri": "https://localhost:8080/",
          "height": 275
        },
        "id": "elZZd661ikc_",
        "outputId": "91e25780-9d87-4121-c29d-fe180b534d82"
      },
      "outputs": [
        {
          "data": {
            "image/png": "[encoded data removed]",
            "text/plain": [
              "<Figure size 1600x400 with 4 Axes>"
            ]
          },
          "metadata": {},
          "output_type": "display_data"
        }
      ],
      "source": [
        "# visualizing numerical features\n",
        "fig, ax = plt.subplots(1,4, figsize = (16,4))\n",
        "sns.histplot(x = 'open', data = data, ax = ax[0], kde = True)\n",
        "sns.histplot(x = 'high', data = data, ax = ax[1], kde = True)\n",
        "sns.histplot(x = 'low', data = data, ax = ax[2], kde = True)\n",
        "sns.histplot(x = 'volume', data = data, ax = ax[3], kde = True)\n",
        "# sns.histplot(x = 'adj_close', data = data, ax = ax[4], kde = True)\n",
        "\n",
        "plt.tight_layout()"
      ]
    },
    {
      "cell_type": "markdown",
      "metadata": {
        "id": "zGs_Z9MscgE3"
      },
      "source": [
        "## Data transformation"
      ]
    },
    {
      "cell_type": "code",
      "execution_count": 41,
      "metadata": {
        "colab": {
          "base_uri": "https://localhost:8080/",
          "height": 206
        },
        "id": "I8NZ80PYlH1a",
        "outputId": "b2f0efce-266d-446d-e63c-08c7ed2af386"
      },
      "outputs": [
        {
          "data": {
            "text/html": [
              "<div>\n",
              "<style scoped>\n",
              "    .dataframe tbody tr th:only-of-type {\n",
              "        vertical-align: middle;\n",
              "    }\n",
              "\n",
              "    .dataframe tbody tr th {\n",
              "        vertical-align: top;\n",
              "    }\n",
              "\n",
              "    .dataframe thead th {\n",
              "        text-align: right;\n",
              "    }\n",
              "</style>\n",
              "<table border=\"1\" class=\"dataframe\">\n",
              "  <thead>\n",
              "    <tr style=\"text-align: right;\">\n",
              "      <th></th>\n",
              "      <th>open</th>\n",
              "      <th>high</th>\n",
              "      <th>low</th>\n",
              "      <th>year</th>\n",
              "    </tr>\n",
              "  </thead>\n",
              "  <tbody>\n",
              "    <tr>\n",
              "      <th>0</th>\n",
              "      <td>10.428140</td>\n",
              "      <td>10.437186</td>\n",
              "      <td>10.426095</td>\n",
              "      <td>7.612337</td>\n",
              "    </tr>\n",
              "    <tr>\n",
              "      <th>1</th>\n",
              "      <td>10.415762</td>\n",
              "      <td>10.429982</td>\n",
              "      <td>10.415552</td>\n",
              "      <td>7.612337</td>\n",
              "    </tr>\n",
              "    <tr>\n",
              "      <th>2</th>\n",
              "      <td>10.422172</td>\n",
              "      <td>10.423644</td>\n",
              "      <td>10.411384</td>\n",
              "      <td>7.612337</td>\n",
              "    </tr>\n",
              "    <tr>\n",
              "      <th>3</th>\n",
              "      <td>10.429054</td>\n",
              "      <td>10.430447</td>\n",
              "      <td>10.420058</td>\n",
              "      <td>7.612337</td>\n",
              "    </tr>\n",
              "    <tr>\n",
              "      <th>4</th>\n",
              "      <td>10.428365</td>\n",
              "      <td>10.430909</td>\n",
              "      <td>10.426027</td>\n",
              "      <td>7.612337</td>\n",
              "    </tr>\n",
              "  </tbody>\n",
              "</table>\n",
              "</div>"
            ],
            "text/plain": [
              "        open       high        low      year\n",
              "0  10.428140  10.437186  10.426095  7.612337\n",
              "1  10.415762  10.429982  10.415552  7.612337\n",
              "2  10.422172  10.423644  10.411384  7.612337\n",
              "3  10.429054  10.430447  10.420058  7.612337\n",
              "4  10.428365  10.430909  10.426027  7.612337"
            ]
          },
          "execution_count": 41,
          "metadata": {},
          "output_type": "execute_result"
        }
      ],
      "source": [
        "# standard deviation of all the features is very high\n",
        "# to deal with this, we transform the data\n",
        "X_log = np.log(X_num)\n",
        "X_log.head()"
      ]
    },
    {
      "cell_type": "code",
      "execution_count": 42,
      "metadata": {
        "colab": {
          "base_uri": "https://localhost:8080/",
          "height": 300
        },
        "id": "hCnMwei3UfsU",
        "outputId": "b4d6d383-4257-47d0-d4e0-49095dac264f"
      },
      "outputs": [
        {
          "data": {
            "text/html": [
              "<div>\n",
              "<style scoped>\n",
              "    .dataframe tbody tr th:only-of-type {\n",
              "        vertical-align: middle;\n",
              "    }\n",
              "\n",
              "    .dataframe tbody tr th {\n",
              "        vertical-align: top;\n",
              "    }\n",
              "\n",
              "    .dataframe thead th {\n",
              "        text-align: right;\n",
              "    }\n",
              "</style>\n",
              "<table border=\"1\" class=\"dataframe\">\n",
              "  <thead>\n",
              "    <tr style=\"text-align: right;\">\n",
              "      <th></th>\n",
              "      <th>open</th>\n",
              "      <th>high</th>\n",
              "      <th>low</th>\n",
              "      <th>year</th>\n",
              "    </tr>\n",
              "  </thead>\n",
              "  <tbody>\n",
              "    <tr>\n",
              "      <th>count</th>\n",
              "      <td>1258.000000</td>\n",
              "      <td>1258.000000</td>\n",
              "      <td>1258.000000</td>\n",
              "      <td>1258.000000</td>\n",
              "    </tr>\n",
              "    <tr>\n",
              "      <th>mean</th>\n",
              "      <td>10.286096</td>\n",
              "      <td>10.292316</td>\n",
              "      <td>10.279395</td>\n",
              "      <td>7.611013</td>\n",
              "    </tr>\n",
              "    <tr>\n",
              "      <th>std</th>\n",
              "      <td>0.136967</td>\n",
              "      <td>0.135989</td>\n",
              "      <td>0.138158</td>\n",
              "      <td>0.000736</td>\n",
              "    </tr>\n",
              "    <tr>\n",
              "      <th>min</th>\n",
              "      <td>9.853686</td>\n",
              "      <td>9.858543</td>\n",
              "      <td>9.809927</td>\n",
              "      <td>7.609862</td>\n",
              "    </tr>\n",
              "    <tr>\n",
              "      <th>25%</th>\n",
              "      <td>10.167438</td>\n",
              "      <td>10.172107</td>\n",
              "      <td>10.161144</td>\n",
              "      <td>7.610358</td>\n",
              "    </tr>\n",
              "    <tr>\n",
              "      <th>50%</th>\n",
              "      <td>10.281972</td>\n",
              "      <td>10.286560</td>\n",
              "      <td>10.274930</td>\n",
              "      <td>7.610853</td>\n",
              "    </tr>\n",
              "    <tr>\n",
              "      <th>75%</th>\n",
              "      <td>10.422401</td>\n",
              "      <td>10.428969</td>\n",
              "      <td>10.414718</td>\n",
              "      <td>7.611842</td>\n",
              "    </tr>\n",
              "    <tr>\n",
              "      <th>max</th>\n",
              "      <td>10.511148</td>\n",
              "      <td>10.517393</td>\n",
              "      <td>10.508787</td>\n",
              "      <td>7.612337</td>\n",
              "    </tr>\n",
              "  </tbody>\n",
              "</table>\n",
              "</div>"
            ],
            "text/plain": [
              "              open         high          low         year\n",
              "count  1258.000000  1258.000000  1258.000000  1258.000000\n",
              "mean     10.286096    10.292316    10.279395     7.611013\n",
              "std       0.136967     0.135989     0.138158     0.000736\n",
              "min       9.853686     9.858543     9.809927     7.609862\n",
              "25%      10.167438    10.172107    10.161144     7.610358\n",
              "50%      10.281972    10.286560    10.274930     7.610853\n",
              "75%      10.422401    10.428969    10.414718     7.611842\n",
              "max      10.511148    10.517393    10.508787     7.612337"
            ]
          },
          "execution_count": 42,
          "metadata": {},
          "output_type": "execute_result"
        }
      ],
      "source": [
        "X_log.describe()"
      ]
    },
    {
      "cell_type": "code",
      "execution_count": 45,
      "metadata": {
        "colab": {
          "base_uri": "https://localhost:8080/",
          "height": 275
        },
        "id": "NHmH_qnkUiap",
        "outputId": "8895dbd9-f671-4c58-ea52-90e08754b75a"
      },
      "outputs": [
        {
          "data": {
            "image/png": "[encoded data removed]",
            "text/plain": [
              "<Figure size 1200x300 with 3 Axes>"
            ]
          },
          "metadata": {},
          "output_type": "display_data"
        }
      ],
      "source": [
        "fig, ax = plt.subplots(1,3, figsize = (12,3))\n",
        "sns.histplot(x = 'open', data = X_log, ax = ax[0], kde = True)\n",
        "sns.histplot(x = 'high', data = X_log, ax = ax[1], kde = True)\n",
        "sns.histplot(x = 'low', data = X_log, ax = ax[2], kde = True)\n",
        "\n",
        "plt.tight_layout()"
      ]
    },
    {
      "cell_type": "code",
      "execution_count": 47,
      "metadata": {
        "colab": {
          "base_uri": "https://localhost:8080/",
          "height": 226
        },
        "id": "kaxClBPZWCpC",
        "outputId": "13112581-09d9-414f-c246-97b45a91ea9b"
      },
      "outputs": [
        {
          "data": {
            "text/html": [
              "<div>\n",
              "<style scoped>\n",
              "    .dataframe tbody tr th:only-of-type {\n",
              "        vertical-align: middle;\n",
              "    }\n",
              "\n",
              "    .dataframe tbody tr th {\n",
              "        vertical-align: top;\n",
              "    }\n",
              "\n",
              "    .dataframe thead th {\n",
              "        text-align: right;\n",
              "    }\n",
              "</style>\n",
              "<table border=\"1\" class=\"dataframe\">\n",
              "  <thead>\n",
              "    <tr style=\"text-align: right;\">\n",
              "      <th></th>\n",
              "      <th>open</th>\n",
              "      <th>high</th>\n",
              "      <th>low</th>\n",
              "      <th>year</th>\n",
              "      <th>wkday_Monday</th>\n",
              "      <th>wkday_Thursday</th>\n",
              "      <th>wkday_Tuesday</th>\n",
              "      <th>wkday_Wednesday</th>\n",
              "      <th>month_August</th>\n",
              "      <th>month_December</th>\n",
              "      <th>month_February</th>\n",
              "      <th>month_January</th>\n",
              "      <th>month_July</th>\n",
              "      <th>month_June</th>\n",
              "      <th>month_March</th>\n",
              "      <th>month_May</th>\n",
              "      <th>month_November</th>\n",
              "      <th>month_October</th>\n",
              "      <th>month_September</th>\n",
              "    </tr>\n",
              "  </thead>\n",
              "  <tbody>\n",
              "    <tr>\n",
              "      <th>0</th>\n",
              "      <td>33797.43</td>\n",
              "      <td>34104.56</td>\n",
              "      <td>33728.40</td>\n",
              "      <td>2023</td>\n",
              "      <td>0</td>\n",
              "      <td>0</td>\n",
              "      <td>0</td>\n",
              "      <td>0</td>\n",
              "      <td>0</td>\n",
              "      <td>0</td>\n",
              "      <td>0</td>\n",
              "      <td>0</td>\n",
              "      <td>0</td>\n",
              "      <td>0</td>\n",
              "      <td>0</td>\n",
              "      <td>0</td>\n",
              "      <td>0</td>\n",
              "      <td>0</td>\n",
              "      <td>0</td>\n",
              "    </tr>\n",
              "    <tr>\n",
              "      <th>1</th>\n",
              "      <td>33381.66</td>\n",
              "      <td>33859.75</td>\n",
              "      <td>33374.65</td>\n",
              "      <td>2023</td>\n",
              "      <td>0</td>\n",
              "      <td>1</td>\n",
              "      <td>0</td>\n",
              "      <td>0</td>\n",
              "      <td>0</td>\n",
              "      <td>0</td>\n",
              "      <td>0</td>\n",
              "      <td>0</td>\n",
              "      <td>0</td>\n",
              "      <td>0</td>\n",
              "      <td>0</td>\n",
              "      <td>0</td>\n",
              "      <td>0</td>\n",
              "      <td>0</td>\n",
              "      <td>0</td>\n",
              "    </tr>\n",
              "    <tr>\n",
              "      <th>2</th>\n",
              "      <td>33596.34</td>\n",
              "      <td>33645.83</td>\n",
              "      <td>33235.85</td>\n",
              "      <td>2023</td>\n",
              "      <td>0</td>\n",
              "      <td>0</td>\n",
              "      <td>0</td>\n",
              "      <td>1</td>\n",
              "      <td>0</td>\n",
              "      <td>0</td>\n",
              "      <td>0</td>\n",
              "      <td>0</td>\n",
              "      <td>0</td>\n",
              "      <td>0</td>\n",
              "      <td>0</td>\n",
              "      <td>0</td>\n",
              "      <td>0</td>\n",
              "      <td>0</td>\n",
              "      <td>0</td>\n",
              "    </tr>\n",
              "    <tr>\n",
              "      <th>3</th>\n",
              "      <td>33828.34</td>\n",
              "      <td>33875.49</td>\n",
              "      <td>33525.39</td>\n",
              "      <td>2023</td>\n",
              "      <td>0</td>\n",
              "      <td>0</td>\n",
              "      <td>1</td>\n",
              "      <td>0</td>\n",
              "      <td>0</td>\n",
              "      <td>0</td>\n",
              "      <td>0</td>\n",
              "      <td>0</td>\n",
              "      <td>0</td>\n",
              "      <td>0</td>\n",
              "      <td>0</td>\n",
              "      <td>0</td>\n",
              "      <td>0</td>\n",
              "      <td>0</td>\n",
              "      <td>0</td>\n",
              "    </tr>\n",
              "    <tr>\n",
              "      <th>4</th>\n",
              "      <td>33805.04</td>\n",
              "      <td>33891.15</td>\n",
              "      <td>33726.09</td>\n",
              "      <td>2023</td>\n",
              "      <td>1</td>\n",
              "      <td>0</td>\n",
              "      <td>0</td>\n",
              "      <td>0</td>\n",
              "      <td>0</td>\n",
              "      <td>0</td>\n",
              "      <td>0</td>\n",
              "      <td>0</td>\n",
              "      <td>0</td>\n",
              "      <td>0</td>\n",
              "      <td>0</td>\n",
              "      <td>0</td>\n",
              "      <td>0</td>\n",
              "      <td>0</td>\n",
              "      <td>0</td>\n",
              "    </tr>\n",
              "  </tbody>\n",
              "</table>\n",
              "</div>"
            ],
            "text/plain": [
              "       open      high       low  year  wkday_Monday  wkday_Thursday  \\\n",
              "0  33797.43  34104.56  33728.40  2023             0               0   \n",
              "1  33381.66  33859.75  33374.65  2023             0               1   \n",
              "2  33596.34  33645.83  33235.85  2023             0               0   \n",
              "3  33828.34  33875.49  33525.39  2023             0               0   \n",
              "4  33805.04  33891.15  33726.09  2023             1               0   \n",
              "\n",
              "   wkday_Tuesday  wkday_Wednesday  month_August  month_December  \\\n",
              "0              0                0             0               0   \n",
              "1              0                0             0               0   \n",
              "2              0                1             0               0   \n",
              "3              1                0             0               0   \n",
              "4              0                0             0               0   \n",
              "\n",
              "   month_February  month_January  month_July  month_June  month_March  \\\n",
              "0               0              0           0           0            0   \n",
              "1               0              0           0           0            0   \n",
              "2               0              0           0           0            0   \n",
              "3               0              0           0           0            0   \n",
              "4               0              0           0           0            0   \n",
              "\n",
              "   month_May  month_November  month_October  month_September  \n",
              "0          0               0              0                0  \n",
              "1          0               0              0                0  \n",
              "2          0               0              0                0  \n",
              "3          0               0              0                0  \n",
              "4          0               0              0                0  "
            ]
          },
          "execution_count": 47,
          "metadata": {},
          "output_type": "execute_result"
        }
      ],
      "source": [
        "# creating a dataset without ay transformation for one of the further analysis\n",
        "X_new = pd.concat([X_num, data_encode], axis = 1)\n",
        "X_new.head()"
      ]
    },
    {
      "cell_type": "code",
      "execution_count": 48,
      "metadata": {
        "colab": {
          "base_uri": "https://localhost:8080/",
          "height": 226
        },
        "id": "O9L0Nn-GUso6",
        "outputId": "73dd742b-41ab-4eea-8217-482bcdd787e6"
      },
      "outputs": [
        {
          "data": {
            "text/html": [
              "<div>\n",
              "<style scoped>\n",
              "    .dataframe tbody tr th:only-of-type {\n",
              "        vertical-align: middle;\n",
              "    }\n",
              "\n",
              "    .dataframe tbody tr th {\n",
              "        vertical-align: top;\n",
              "    }\n",
              "\n",
              "    .dataframe thead th {\n",
              "        text-align: right;\n",
              "    }\n",
              "</style>\n",
              "<table border=\"1\" class=\"dataframe\">\n",
              "  <thead>\n",
              "    <tr style=\"text-align: right;\">\n",
              "      <th></th>\n",
              "      <th>open</th>\n",
              "      <th>high</th>\n",
              "      <th>low</th>\n",
              "      <th>year</th>\n",
              "      <th>wkday_Monday</th>\n",
              "      <th>wkday_Thursday</th>\n",
              "      <th>wkday_Tuesday</th>\n",
              "      <th>wkday_Wednesday</th>\n",
              "      <th>month_August</th>\n",
              "      <th>month_December</th>\n",
              "      <th>month_February</th>\n",
              "      <th>month_January</th>\n",
              "      <th>month_July</th>\n",
              "      <th>month_June</th>\n",
              "      <th>month_March</th>\n",
              "      <th>month_May</th>\n",
              "      <th>month_November</th>\n",
              "      <th>month_October</th>\n",
              "      <th>month_September</th>\n",
              "    </tr>\n",
              "  </thead>\n",
              "  <tbody>\n",
              "    <tr>\n",
              "      <th>0</th>\n",
              "      <td>10.428140</td>\n",
              "      <td>10.437186</td>\n",
              "      <td>10.426095</td>\n",
              "      <td>7.612337</td>\n",
              "      <td>0</td>\n",
              "      <td>0</td>\n",
              "      <td>0</td>\n",
              "      <td>0</td>\n",
              "      <td>0</td>\n",
              "      <td>0</td>\n",
              "      <td>0</td>\n",
              "      <td>0</td>\n",
              "      <td>0</td>\n",
              "      <td>0</td>\n",
              "      <td>0</td>\n",
              "      <td>0</td>\n",
              "      <td>0</td>\n",
              "      <td>0</td>\n",
              "      <td>0</td>\n",
              "    </tr>\n",
              "    <tr>\n",
              "      <th>1</th>\n",
              "      <td>10.415762</td>\n",
              "      <td>10.429982</td>\n",
              "      <td>10.415552</td>\n",
              "      <td>7.612337</td>\n",
              "      <td>0</td>\n",
              "      <td>1</td>\n",
              "      <td>0</td>\n",
              "      <td>0</td>\n",
              "      <td>0</td>\n",
              "      <td>0</td>\n",
              "      <td>0</td>\n",
              "      <td>0</td>\n",
              "      <td>0</td>\n",
              "      <td>0</td>\n",
              "      <td>0</td>\n",
              "      <td>0</td>\n",
              "      <td>0</td>\n",
              "      <td>0</td>\n",
              "      <td>0</td>\n",
              "    </tr>\n",
              "    <tr>\n",
              "      <th>2</th>\n",
              "      <td>10.422172</td>\n",
              "      <td>10.423644</td>\n",
              "      <td>10.411384</td>\n",
              "      <td>7.612337</td>\n",
              "      <td>0</td>\n",
              "      <td>0</td>\n",
              "      <td>0</td>\n",
              "      <td>1</td>\n",
              "      <td>0</td>\n",
              "      <td>0</td>\n",
              "      <td>0</td>\n",
              "      <td>0</td>\n",
              "      <td>0</td>\n",
              "      <td>0</td>\n",
              "      <td>0</td>\n",
              "      <td>0</td>\n",
              "      <td>0</td>\n",
              "      <td>0</td>\n",
              "      <td>0</td>\n",
              "    </tr>\n",
              "    <tr>\n",
              "      <th>3</th>\n",
              "      <td>10.429054</td>\n",
              "      <td>10.430447</td>\n",
              "      <td>10.420058</td>\n",
              "      <td>7.612337</td>\n",
              "      <td>0</td>\n",
              "      <td>0</td>\n",
              "      <td>1</td>\n",
              "      <td>0</td>\n",
              "      <td>0</td>\n",
              "      <td>0</td>\n",
              "      <td>0</td>\n",
              "      <td>0</td>\n",
              "      <td>0</td>\n",
              "      <td>0</td>\n",
              "      <td>0</td>\n",
              "      <td>0</td>\n",
              "      <td>0</td>\n",
              "      <td>0</td>\n",
              "      <td>0</td>\n",
              "    </tr>\n",
              "    <tr>\n",
              "      <th>4</th>\n",
              "      <td>10.428365</td>\n",
              "      <td>10.430909</td>\n",
              "      <td>10.426027</td>\n",
              "      <td>7.612337</td>\n",
              "      <td>1</td>\n",
              "      <td>0</td>\n",
              "      <td>0</td>\n",
              "      <td>0</td>\n",
              "      <td>0</td>\n",
              "      <td>0</td>\n",
              "      <td>0</td>\n",
              "      <td>0</td>\n",
              "      <td>0</td>\n",
              "      <td>0</td>\n",
              "      <td>0</td>\n",
              "      <td>0</td>\n",
              "      <td>0</td>\n",
              "      <td>0</td>\n",
              "      <td>0</td>\n",
              "    </tr>\n",
              "  </tbody>\n",
              "</table>\n",
              "</div>"
            ],
            "text/plain": [
              "        open       high        low      year  wkday_Monday  wkday_Thursday  \\\n",
              "0  10.428140  10.437186  10.426095  7.612337             0               0   \n",
              "1  10.415762  10.429982  10.415552  7.612337             0               1   \n",
              "2  10.422172  10.423644  10.411384  7.612337             0               0   \n",
              "3  10.429054  10.430447  10.420058  7.612337             0               0   \n",
              "4  10.428365  10.430909  10.426027  7.612337             1               0   \n",
              "\n",
              "   wkday_Tuesday  wkday_Wednesday  month_August  month_December  \\\n",
              "0              0                0             0               0   \n",
              "1              0                0             0               0   \n",
              "2              0                1             0               0   \n",
              "3              1                0             0               0   \n",
              "4              0                0             0               0   \n",
              "\n",
              "   month_February  month_January  month_July  month_June  month_March  \\\n",
              "0               0              0           0           0            0   \n",
              "1               0              0           0           0            0   \n",
              "2               0              0           0           0            0   \n",
              "3               0              0           0           0            0   \n",
              "4               0              0           0           0            0   \n",
              "\n",
              "   month_May  month_November  month_October  month_September  \n",
              "0          0               0              0                0  \n",
              "1          0               0              0                0  \n",
              "2          0               0              0                0  \n",
              "3          0               0              0                0  \n",
              "4          0               0              0                0  "
            ]
          },
          "execution_count": 48,
          "metadata": {},
          "output_type": "execute_result"
        }
      ],
      "source": [
        "# creating a feature datase with log transformation\n",
        "X_new_log = pd.concat([X_log, data_encode], axis = 1)\n",
        "X_new_log.head()"
      ]
    },
    {
      "cell_type": "code",
      "execution_count": 49,
      "metadata": {
        "colab": {
          "base_uri": "https://localhost:8080/",
          "height": 335
        },
        "id": "wbO6CqHmV3nr",
        "outputId": "1999f584-9c94-49aa-ad34-b435634aa8c1"
      },
      "outputs": [
        {
          "data": {
            "text/plain": [
              "count     1258.000000\n",
              "mean     29599.361677\n",
              "std       4007.468822\n",
              "min      18591.930000\n",
              "25%      26027.120000\n",
              "50%      29199.460000\n",
              "75%      33600.342500\n",
              "max      36799.650000\n",
              "Name: close, dtype: float64"
            ]
          },
          "execution_count": 49,
          "metadata": {},
          "output_type": "execute_result"
        }
      ],
      "source": [
        "y.describe()"
      ]
    },
    {
      "cell_type": "code",
      "execution_count": 50,
      "metadata": {
        "id": "qhShxdc8WVll"
      },
      "outputs": [
        {
          "name": "stdout",
          "output_type": "stream",
          "text": [
            "0.6678215798232667\n"
          ]
        },
        {
          "data": {
            "text/plain": [
              "array([1592.16046308, 1583.65945251, 1567.20907442, ..., 1256.54071225,\n",
              "       1256.35919623, 1262.46356127], shape=(1258,))"
            ]
          },
          "execution_count": 50,
          "metadata": {},
          "output_type": "execute_result"
        }
      ],
      "source": [
        "# boxcox transformation for target variable to make it closer to normal distribution\n",
        "y_bc, y_lam = boxcox(y)\n",
        "print(y_lam)\n",
        "y_bc"
      ]
    },
    {
      "cell_type": "markdown",
      "metadata": {
        "id": "bFVEku-aeLq6"
      },
      "source": [
        "## Linear Regression model"
      ]
    },
    {
      "cell_type": "markdown",
      "metadata": {
        "id": "NeRMzrzBaFql"
      },
      "source": [
        "The main objective of this project is to compare the coefficients and errors using different transformation and regularization methods. So, for this analysis, I will use the dataset: X_new_log and y_bc, which is log transformation of features (X_new_log) and bixcox_transformation of target variable (y_bc).\n",
        "\n",
        "Case 1: Use standard scaler.\n",
        "\n",
        "Case 2: Use standard scaler with Polynomial features of degree 2.\n",
        "\n",
        "Case 3: Use standard scaler, polynomial feature with Lasso regularization (using cross validation method to find the best value of alpha)\n",
        "\n",
        "Case 4: Use standard scaler, polymonial feature with Ridge regularization (using cross validation method to find the best value of alpha)\n",
        "\n"
      ]
    },
    {
      "cell_type": "code",
      "execution_count": 51,
      "metadata": {
        "id": "oU5cOKUQW-nZ"
      },
      "outputs": [],
      "source": [
        "# creating instances of linear regression model, and scaling and polynomial features\n",
        "lr = LinearRegression()\n",
        "std = StandardScaler()\n",
        "poly = PolynomialFeatures(degree = 2, include_bias = False)"
      ]
    },
    {
      "cell_type": "code",
      "execution_count": 52,
      "metadata": {
        "id": "h7fwx4nvdOv9"
      },
      "outputs": [],
      "source": [
        "# creating instances for Lasso and Ridge Regression\n",
        "lasso = Lasso()\n",
        "ridge = Ridge()"
      ]
    },
    {
      "cell_type": "code",
      "execution_count": 53,
      "metadata": {
        "id": "oUZnmLiKXUVI"
      },
      "outputs": [],
      "source": [
        "# splitting dataset into training and testing sets with test-size = 0.2\n",
        "X_train, X_test, y_train, y_test = train_test_split(X_new_log, y_bc, test_size = 0.2, random_state = 42)"
      ]
    },
    {
      "cell_type": "code",
      "execution_count": 54,
      "metadata": {
        "colab": {
          "base_uri": "https://localhost:8080/",
          "height": 244
        },
        "id": "d3uH-MqxbrlQ",
        "outputId": "0f26d00d-c58d-4923-c0af-b6125fa4b259"
      },
      "outputs": [
        {
          "name": "stdout",
          "output_type": "stream",
          "text": [
            "Train MSE:  42.70518175875085\n",
            "Test MSE:  37.604463043226914\n",
            "Train R2:  0.9975146179756945\n",
            "Test R2:  0.9978407160078392\n"
          ]
        },
        {
          "data": {
            "text/html": [
              "<div>\n",
              "<style scoped>\n",
              "    .dataframe tbody tr th:only-of-type {\n",
              "        vertical-align: middle;\n",
              "    }\n",
              "\n",
              "    .dataframe tbody tr th {\n",
              "        vertical-align: top;\n",
              "    }\n",
              "\n",
              "    .dataframe thead th {\n",
              "        text-align: right;\n",
              "    }\n",
              "</style>\n",
              "<table border=\"1\" class=\"dataframe\">\n",
              "  <thead>\n",
              "    <tr style=\"text-align: right;\">\n",
              "      <th></th>\n",
              "      <th>standard_scaler</th>\n",
              "    </tr>\n",
              "  </thead>\n",
              "  <tbody>\n",
              "    <tr>\n",
              "      <th>Train MSE</th>\n",
              "      <td>42.705182</td>\n",
              "    </tr>\n",
              "    <tr>\n",
              "      <th>Test MSE</th>\n",
              "      <td>37.604463</td>\n",
              "    </tr>\n",
              "    <tr>\n",
              "      <th>Train R2</th>\n",
              "      <td>0.997515</td>\n",
              "    </tr>\n",
              "    <tr>\n",
              "      <th>Test R2</th>\n",
              "      <td>0.997841</td>\n",
              "    </tr>\n",
              "  </tbody>\n",
              "</table>\n",
              "</div>"
            ],
            "text/plain": [
              "           standard_scaler\n",
              "Train MSE        42.705182\n",
              "Test MSE         37.604463\n",
              "Train R2          0.997515\n",
              "Test R2           0.997841"
            ]
          },
          "execution_count": 54,
          "metadata": {},
          "output_type": "execute_result"
        }
      ],
      "source": [
        "# case 1: using standard scaler\n",
        "X_train_std = std.fit_transform(X_train)\n",
        "X_test_std = std.transform(X_test)\n",
        "\n",
        "lr.fit(X_train, y_train)\n",
        "y_pred_test = lr.predict(X_test)\n",
        "y_pred_train = lr.predict(X_train)\n",
        "\n",
        "mse_train = mean_squared_error(y_train, y_pred_train)\n",
        "mse_test = mean_squared_error(y_test, y_pred_test)\n",
        "\n",
        "r2_train = r2_score(y_train, y_pred_train)\n",
        "r2_test = r2_score(y_test, y_pred_test)\n",
        "\n",
        "print('Train MSE: ', mse_train)\n",
        "print('Test MSE: ', mse_test )\n",
        "\n",
        "print('Train R2: ', r2_train)\n",
        "print('Test R2: ', r2_test)\n",
        "\n",
        "index_val = ['Train MSE', 'Test MSE', 'Train R2', 'Test R2']\n",
        "\n",
        "error_df = pd.DataFrame({'standard_scaler': [mse_train, mse_test, r2_train, r2_test]}, index = index_val)\n",
        "error_df.head()"
      ]
    },
    {
      "cell_type": "code",
      "execution_count": 55,
      "metadata": {
        "colab": {
          "base_uri": "https://localhost:8080/",
          "height": 206
        },
        "id": "ZXP_L--4ThwX",
        "outputId": "089492fe-21cf-425c-c973-b105051d6314"
      },
      "outputs": [
        {
          "data": {
            "text/html": [
              "<div>\n",
              "<style scoped>\n",
              "    .dataframe tbody tr th:only-of-type {\n",
              "        vertical-align: middle;\n",
              "    }\n",
              "\n",
              "    .dataframe tbody tr th {\n",
              "        vertical-align: top;\n",
              "    }\n",
              "\n",
              "    .dataframe thead th {\n",
              "        text-align: right;\n",
              "    }\n",
              "</style>\n",
              "<table border=\"1\" class=\"dataframe\">\n",
              "  <thead>\n",
              "    <tr style=\"text-align: right;\">\n",
              "      <th></th>\n",
              "      <th>coef</th>\n",
              "    </tr>\n",
              "  </thead>\n",
              "  <tbody>\n",
              "    <tr>\n",
              "      <th>high</th>\n",
              "      <td>1111.653756</td>\n",
              "    </tr>\n",
              "    <tr>\n",
              "      <th>low</th>\n",
              "      <td>504.765089</td>\n",
              "    </tr>\n",
              "    <tr>\n",
              "      <th>wkday_Monday</th>\n",
              "      <td>-0.144883</td>\n",
              "    </tr>\n",
              "    <tr>\n",
              "      <th>wkday_Thursday</th>\n",
              "      <td>-0.287790</td>\n",
              "    </tr>\n",
              "    <tr>\n",
              "      <th>month_May</th>\n",
              "      <td>-0.400012</td>\n",
              "    </tr>\n",
              "  </tbody>\n",
              "</table>\n",
              "</div>"
            ],
            "text/plain": [
              "                       coef\n",
              "high            1111.653756\n",
              "low              504.765089\n",
              "wkday_Monday      -0.144883\n",
              "wkday_Thursday    -0.287790\n",
              "month_May         -0.400012"
            ]
          },
          "execution_count": 55,
          "metadata": {},
          "output_type": "execute_result"
        }
      ],
      "source": [
        "# fetching coefficients of linear regression model\n",
        "coef_lr = lr.coef_\n",
        "\n",
        "# creating a dataframe , 'coef_df', of coefficients\n",
        "coef_df = pd.DataFrame(coef_lr, index = X_new_log.columns, columns = ['coef'])\n",
        "coef_df.sort_values(by = 'coef', ascending = False).head()"
      ]
    },
    {
      "cell_type": "code",
      "execution_count": 56,
      "metadata": {
        "colab": {
          "base_uri": "https://localhost:8080/",
          "height": 244
        },
        "id": "9ZOkCWRPcTK9",
        "outputId": "14c50108-8e1a-470a-818c-8aaea452bf58"
      },
      "outputs": [
        {
          "name": "stdout",
          "output_type": "stream",
          "text": [
            "Train MSE:  14.827167409956184\n",
            "Test MSE:  18.324069924388823\n",
            "Train R2:  0.999137079533808\n",
            "Test R2:  0.9989478144970855\n"
          ]
        },
        {
          "data": {
            "text/html": [
              "<div>\n",
              "<style scoped>\n",
              "    .dataframe tbody tr th:only-of-type {\n",
              "        vertical-align: middle;\n",
              "    }\n",
              "\n",
              "    .dataframe tbody tr th {\n",
              "        vertical-align: top;\n",
              "    }\n",
              "\n",
              "    .dataframe thead th {\n",
              "        text-align: right;\n",
              "    }\n",
              "</style>\n",
              "<table border=\"1\" class=\"dataframe\">\n",
              "  <thead>\n",
              "    <tr style=\"text-align: right;\">\n",
              "      <th></th>\n",
              "      <th>standard_scaler</th>\n",
              "      <th>scaling_and_polynomial</th>\n",
              "    </tr>\n",
              "  </thead>\n",
              "  <tbody>\n",
              "    <tr>\n",
              "      <th>Train MSE</th>\n",
              "      <td>42.705182</td>\n",
              "      <td>14.827167</td>\n",
              "    </tr>\n",
              "    <tr>\n",
              "      <th>Test MSE</th>\n",
              "      <td>37.604463</td>\n",
              "      <td>18.324070</td>\n",
              "    </tr>\n",
              "    <tr>\n",
              "      <th>Train R2</th>\n",
              "      <td>0.997515</td>\n",
              "      <td>0.999137</td>\n",
              "    </tr>\n",
              "    <tr>\n",
              "      <th>Test R2</th>\n",
              "      <td>0.997841</td>\n",
              "      <td>0.998948</td>\n",
              "    </tr>\n",
              "  </tbody>\n",
              "</table>\n",
              "</div>"
            ],
            "text/plain": [
              "           standard_scaler  scaling_and_polynomial\n",
              "Train MSE        42.705182               14.827167\n",
              "Test MSE         37.604463               18.324070\n",
              "Train R2          0.997515                0.999137\n",
              "Test R2           0.997841                0.998948"
            ]
          },
          "execution_count": 56,
          "metadata": {},
          "output_type": "execute_result"
        }
      ],
      "source": [
        "# case 2: using standard scaler and polynomial feature\n",
        "X_train_poly = poly.fit_transform(X_train_std)\n",
        "X_test_poly = poly.transform(X_test_std)\n",
        "\n",
        "X_train_std = std.fit_transform(X_train_poly)\n",
        "X_test_std = std.transform(X_test_poly)\n",
        "\n",
        "lr.fit(X_train_std, y_train)\n",
        "y_pred_test = lr.predict(X_test_std)\n",
        "y_pred_train = lr.predict(X_train_std)\n",
        "\n",
        "mse_train = mean_squared_error(y_train, y_pred_train)\n",
        "mse_test = mean_squared_error(y_test, y_pred_test)\n",
        "\n",
        "r2_train = r2_score(y_train, y_pred_train)\n",
        "r2_test = r2_score(y_test, y_pred_test)\n",
        "\n",
        "print('Train MSE: ', mse_train)\n",
        "print('Test MSE: ', mse_test )\n",
        "\n",
        "print('Train R2: ', r2_train)\n",
        "print('Test R2: ', r2_test)\n",
        "\n",
        "error_df['scaling_and_polynomial'] =  [mse_train, mse_test, r2_train, r2_test]\n",
        "\n",
        "error_df"
      ]
    },
    {
      "cell_type": "code",
      "execution_count": 57,
      "metadata": {
        "colab": {
          "base_uri": "https://localhost:8080/",
          "height": 206
        },
        "id": "I0EM5RqXUCaD",
        "outputId": "9e7fe290-8382-4d9b-c2b3-4ea9fc9a24da"
      },
      "outputs": [
        {
          "data": {
            "text/html": [
              "<div>\n",
              "<style scoped>\n",
              "    .dataframe tbody tr th:only-of-type {\n",
              "        vertical-align: middle;\n",
              "    }\n",
              "\n",
              "    .dataframe tbody tr th {\n",
              "        vertical-align: top;\n",
              "    }\n",
              "\n",
              "    .dataframe thead th {\n",
              "        text-align: right;\n",
              "    }\n",
              "</style>\n",
              "<table border=\"1\" class=\"dataframe\">\n",
              "  <thead>\n",
              "    <tr style=\"text-align: right;\">\n",
              "      <th></th>\n",
              "      <th>coef_poly</th>\n",
              "    </tr>\n",
              "  </thead>\n",
              "  <tbody>\n",
              "    <tr>\n",
              "      <th>high^2</th>\n",
              "      <td>185.986165</td>\n",
              "    </tr>\n",
              "    <tr>\n",
              "      <th>open^2</th>\n",
              "      <td>175.849065</td>\n",
              "    </tr>\n",
              "    <tr>\n",
              "      <th>low</th>\n",
              "      <td>106.424674</td>\n",
              "    </tr>\n",
              "    <tr>\n",
              "      <th>high</th>\n",
              "      <td>95.038611</td>\n",
              "    </tr>\n",
              "    <tr>\n",
              "      <th>open low</th>\n",
              "      <td>68.793957</td>\n",
              "    </tr>\n",
              "  </tbody>\n",
              "</table>\n",
              "</div>"
            ],
            "text/plain": [
              "           coef_poly\n",
              "high^2    185.986165\n",
              "open^2    175.849065\n",
              "low       106.424674\n",
              "high       95.038611\n",
              "open low   68.793957"
            ]
          },
          "execution_count": 57,
          "metadata": {},
          "output_type": "execute_result"
        }
      ],
      "source": [
        "# get column names after applying polynomial features\n",
        "poly_cols = poly.get_feature_names_out(X_new_log.columns)\n",
        "coef_poly = lr.coef_\n",
        "\n",
        "# creating a dataframe for coefficients\n",
        "coef_comparison = pd.DataFrame({'coef_poly': coef_poly}, index = poly_cols)\n",
        "coef_comparison.sort_values(by = 'coef_poly', ascending = False).head()"
      ]
    },
    {
      "cell_type": "code",
      "execution_count": 58,
      "metadata": {
        "colab": {
          "base_uri": "https://localhost:8080/"
        },
        "id": "o4Js0rghd6OC",
        "outputId": "922e7193-9789-496a-ae40-20eb7a6490bb"
      },
      "outputs": [
        {
          "name": "stdout",
          "output_type": "stream",
          "text": [
            "Best alpha for Lasso: 0.0001\n"
          ]
        }
      ],
      "source": [
        "# case 3: standard scaler, polynomial feature with Lasso\n",
        "lasso = Lasso()\n",
        "\n",
        "# Define parameter grid for cross validation\n",
        "param_grid = {'alpha': [0.0001, 0.001, 0.01, 0.1, 1, 10, 100]}\n",
        "\n",
        "# Grid Search\n",
        "grid = GridSearchCV(lasso, param_grid, scoring='neg_mean_squared_error', cv=5)\n",
        "grid.fit(X_train, y_train)\n",
        "\n",
        "# finding best alpha value for Lasso\n",
        "best_alpha = grid.best_params_['alpha']\n",
        "print(\"Best alpha for Lasso:\", best_alpha)"
      ]
    },
    {
      "cell_type": "code",
      "execution_count": 59,
      "metadata": {
        "colab": {
          "base_uri": "https://localhost:8080/"
        },
        "id": "KIFZ-NkOdBCv",
        "outputId": "0b9da440-cd45-4e1b-eadc-7879e3f8b73a"
      },
      "outputs": [
        {
          "name": "stdout",
          "output_type": "stream",
          "text": [
            "Train MSE:  19.428781792744616\n",
            "Test MSE:  24.31675818330427\n",
            "Train R2:  0.9988692719938618\n",
            "Test R2:  0.9986037086442081\n"
          ]
        }
      ],
      "source": [
        "# using best alpha value to predict target variable\n",
        "lasso = Lasso(alpha = best_alpha)\n",
        "lasso.fit(X_train_std, y_train)\n",
        "\n",
        "y_pred_test = lasso.predict(X_test_std)\n",
        "y_pred_train = lasso.predict(X_train_std)\n",
        "\n",
        "mse_train = mean_squared_error(y_train, y_pred_train)\n",
        "mse_test = mean_squared_error(y_test, y_pred_test)\n",
        "\n",
        "r2_train = r2_score(y_train, y_pred_train)\n",
        "r2_test = r2_score(y_test, y_pred_test)\n",
        "\n",
        "print('Train MSE: ', mse_train)\n",
        "print('Test MSE: ', mse_test )\n",
        "\n",
        "print('Train R2: ', r2_train)\n",
        "print('Test R2: ', r2_test)\n",
        "\n",
        "error_df['lasso'] =  [mse_train, mse_test, r2_train, r2_test]"
      ]
    },
    {
      "cell_type": "code",
      "execution_count": 62,
      "metadata": {
        "colab": {
          "base_uri": "https://localhost:8080/",
          "height": 206
        },
        "id": "KWQ_q-7LVhIS",
        "outputId": "a5c5c736-c3c0-4f0c-e5e5-24e90cc8cc97"
      },
      "outputs": [],
      "source": [
        "# fetching coefficients for lasso regression\n",
        "coef_lasso = lasso.coef_\n",
        "\n",
        "# adding lasso coefficients to coef_comparison dataframe\n",
        "coef_comparison['coef_lasso'] = coef_lasso"
      ]
    },
    {
      "cell_type": "code",
      "execution_count": 63,
      "metadata": {
        "colab": {
          "base_uri": "https://localhost:8080/"
        },
        "id": "1EZR4i3jeoPv",
        "outputId": "05303fdd-75bd-48e9-d407-a930c5dba7af"
      },
      "outputs": [
        {
          "name": "stdout",
          "output_type": "stream",
          "text": [
            "Best alpha for Ridge: 0.0001\n"
          ]
        }
      ],
      "source": [
        "# case 4: standard sclaer, polynomial feature with Ridge\n",
        "ridge = Ridge()\n",
        "\n",
        "# Define parameter grid\n",
        "param_grid = {'alpha': [0.0001, 0.001, 0.01, 0.1, 1, 10, 100]}\n",
        "\n",
        "# Grid Search\n",
        "grid = GridSearchCV(ridge, param_grid, scoring='neg_mean_squared_error', cv=5)\n",
        "grid.fit(X_train, y_train)\n",
        "\n",
        "# finding best alpha value for Ridge\n",
        "best_alpha = grid.best_params_['alpha']\n",
        "print(\"Best alpha for Ridge:\", best_alpha)"
      ]
    },
    {
      "cell_type": "code",
      "execution_count": 65,
      "metadata": {
        "colab": {
          "base_uri": "https://localhost:8080/"
        },
        "id": "mbVVjYk7d4GJ",
        "outputId": "9d428cdc-e42e-45d1-9285-4c08b159922d"
      },
      "outputs": [
        {
          "name": "stdout",
          "output_type": "stream",
          "text": [
            "Train MSE:  14.828690348446154\n",
            "Test MSE:  18.308215659744818\n",
            "Train R2:  0.9991369909009117\n",
            "Test R2:  0.9989487248640229\n"
          ]
        }
      ],
      "source": [
        "# using best alpha value to predict target variable\n",
        "ridge = Ridge(alpha = best_alpha)\n",
        "ridge.fit(X_train_std, y_train)\n",
        "\n",
        "y_pred_test = ridge.predict(X_test_std)\n",
        "y_pred_train = ridge.predict(X_train_std)\n",
        "\n",
        "mse_train = mean_squared_error(y_train, y_pred_train)\n",
        "mse_test = mean_squared_error(y_test, y_pred_test)\n",
        "\n",
        "r2_train = r2_score(y_train, y_pred_train)\n",
        "r2_test = r2_score(y_test, y_pred_test)\n",
        "\n",
        "print('Train MSE: ', mse_train)\n",
        "print('Test MSE: ', mse_test )\n",
        "\n",
        "print('Train R2: ', r2_train)\n",
        "print('Test R2: ', r2_test)\n",
        "\n",
        "error_df['ridge'] =  [mse_train, mse_test, r2_train, r2_test]"
      ]
    },
    {
      "cell_type": "code",
      "execution_count": 66,
      "metadata": {
        "id": "rVUX7M7OV-Qm"
      },
      "outputs": [],
      "source": [
        "# fetching coefficients for Ridge regression\n",
        "coef_ridge = ridge.coef_\n",
        "\n",
        "# adding ridge coefficient to coef_comparison dataframe\n",
        "coef_comparison['coef_ridge'] = coef_ridge"
      ]
    },
    {
      "cell_type": "markdown",
      "metadata": {
        "id": "oXaDjWIOnNNw"
      },
      "source": [
        "## Analysis comparison"
      ]
    },
    {
      "cell_type": "code",
      "execution_count": 70,
      "metadata": {
        "colab": {
          "base_uri": "https://localhost:8080/",
          "height": 206
        },
        "id": "OHp4W_60StiB",
        "outputId": "13bd96a1-4b34-4d90-d4c5-b3f08820bfa2"
      },
      "outputs": [
        {
          "data": {
            "text/html": [
              "<div>\n",
              "<style scoped>\n",
              "    .dataframe tbody tr th:only-of-type {\n",
              "        vertical-align: middle;\n",
              "    }\n",
              "\n",
              "    .dataframe tbody tr th {\n",
              "        vertical-align: top;\n",
              "    }\n",
              "\n",
              "    .dataframe thead th {\n",
              "        text-align: right;\n",
              "    }\n",
              "</style>\n",
              "<table border=\"1\" class=\"dataframe\">\n",
              "  <thead>\n",
              "    <tr style=\"text-align: right;\">\n",
              "      <th></th>\n",
              "      <th>coef_poly</th>\n",
              "      <th>coef_lasso</th>\n",
              "      <th>coef_ridge</th>\n",
              "    </tr>\n",
              "  </thead>\n",
              "  <tbody>\n",
              "    <tr>\n",
              "      <th>high^2</th>\n",
              "      <td>185.986165</td>\n",
              "      <td>0.658667</td>\n",
              "      <td>174.484615</td>\n",
              "    </tr>\n",
              "    <tr>\n",
              "      <th>open^2</th>\n",
              "      <td>175.849065</td>\n",
              "      <td>16.685322</td>\n",
              "      <td>160.049590</td>\n",
              "    </tr>\n",
              "    <tr>\n",
              "      <th>low</th>\n",
              "      <td>106.424674</td>\n",
              "      <td>65.343380</td>\n",
              "      <td>106.236219</td>\n",
              "    </tr>\n",
              "    <tr>\n",
              "      <th>high</th>\n",
              "      <td>95.038611</td>\n",
              "      <td>89.681809</td>\n",
              "      <td>95.588900</td>\n",
              "    </tr>\n",
              "    <tr>\n",
              "      <th>open low</th>\n",
              "      <td>68.793957</td>\n",
              "      <td>6.406676</td>\n",
              "      <td>72.762212</td>\n",
              "    </tr>\n",
              "  </tbody>\n",
              "</table>\n",
              "</div>"
            ],
            "text/plain": [
              "           coef_poly  coef_lasso  coef_ridge\n",
              "high^2    185.986165    0.658667  174.484615\n",
              "open^2    175.849065   16.685322  160.049590\n",
              "low       106.424674   65.343380  106.236219\n",
              "high       95.038611   89.681809   95.588900\n",
              "open low   68.793957    6.406676   72.762212"
            ]
          },
          "execution_count": 70,
          "metadata": {},
          "output_type": "execute_result"
        }
      ],
      "source": [
        "# comparison of coefficients of different models with their absolute values\n",
        "coef_comparison.sort_values(by = 'coef_poly', ascending = False).abs().head()"
      ]
    },
    {
      "cell_type": "code",
      "execution_count": 75,
      "metadata": {
        "colab": {
          "base_uri": "https://localhost:8080/",
          "height": 175
        },
        "id": "nQ0__lb3kkq0",
        "outputId": "48d955db-e34f-45c7-91f7-44927c8baa36"
      },
      "outputs": [
        {
          "data": {
            "text/html": [
              "<div>\n",
              "<style scoped>\n",
              "    .dataframe tbody tr th:only-of-type {\n",
              "        vertical-align: middle;\n",
              "    }\n",
              "\n",
              "    .dataframe tbody tr th {\n",
              "        vertical-align: top;\n",
              "    }\n",
              "\n",
              "    .dataframe thead th {\n",
              "        text-align: right;\n",
              "    }\n",
              "</style>\n",
              "<table border=\"1\" class=\"dataframe\">\n",
              "  <thead>\n",
              "    <tr style=\"text-align: right;\">\n",
              "      <th></th>\n",
              "      <th>standard_scaler</th>\n",
              "      <th>scaling_and_polynomial</th>\n",
              "      <th>lasso</th>\n",
              "      <th>ridge</th>\n",
              "    </tr>\n",
              "  </thead>\n",
              "  <tbody>\n",
              "    <tr>\n",
              "      <th>Train MSE</th>\n",
              "      <td>42.705182</td>\n",
              "      <td>14.827167</td>\n",
              "      <td>19.428782</td>\n",
              "      <td>14.828690</td>\n",
              "    </tr>\n",
              "    <tr>\n",
              "      <th>Test MSE</th>\n",
              "      <td>37.604463</td>\n",
              "      <td>18.324070</td>\n",
              "      <td>24.316758</td>\n",
              "      <td>18.308216</td>\n",
              "    </tr>\n",
              "    <tr>\n",
              "      <th>Train R2</th>\n",
              "      <td>0.997515</td>\n",
              "      <td>0.999137</td>\n",
              "      <td>0.998869</td>\n",
              "      <td>0.999137</td>\n",
              "    </tr>\n",
              "    <tr>\n",
              "      <th>Test R2</th>\n",
              "      <td>0.997841</td>\n",
              "      <td>0.998948</td>\n",
              "      <td>0.998604</td>\n",
              "      <td>0.998949</td>\n",
              "    </tr>\n",
              "  </tbody>\n",
              "</table>\n",
              "</div>"
            ],
            "text/plain": [
              "           standard_scaler  scaling_and_polynomial      lasso      ridge\n",
              "Train MSE        42.705182               14.827167  19.428782  14.828690\n",
              "Test MSE         37.604463               18.324070  24.316758  18.308216\n",
              "Train R2          0.997515                0.999137   0.998869   0.999137\n",
              "Test R2           0.997841                0.998948   0.998604   0.998949"
            ]
          },
          "execution_count": 75,
          "metadata": {},
          "output_type": "execute_result"
        }
      ],
      "source": [
        "# comparison of error dataframe\n",
        "error_df"
      ]
    },
    {
      "cell_type": "code",
      "execution_count": 72,
      "metadata": {
        "colab": {
          "base_uri": "https://localhost:8080/",
          "height": 316
        },
        "id": "5veHInYjWWl1",
        "outputId": "0a9ffb22-cefd-46ed-f2e0-7c9c33647883"
      },
      "outputs": [
        {
          "data": {
            "image/png": "[encoded data removed]",
            "text/plain": [
              "<Figure size 1200x300 with 4 Axes>"
            ]
          },
          "metadata": {},
          "output_type": "display_data"
        }
      ],
      "source": [
        "fig, ax = plt.subplots(1,4, figsize = (12,3))\n",
        "\n",
        "x_val_lr = np.linspace(coef_lr.min(), coef_lr.max(), len(coef_lr))\n",
        "ax[0].plot(x_val_lr, coef_lr)\n",
        "plt.title('Linear Regression')\n",
        "\n",
        "x_val_poly = np.linspace(coef_poly.min(), coef_poly.max(), len(coef_poly))\n",
        "ax[1].plot(x_val_poly, coef_poly)\n",
        "plt.title('Polynoimal features')\n",
        "\n",
        "x_val_lasso = np.linspace(coef_lasso.min(), coef_lasso.max(), len(coef_lasso))\n",
        "ax[2].plot(x_val_lasso, coef_lasso)\n",
        "plt.title('Lasso Regression')\n",
        "\n",
        "x_val_ridge = np.linspace(coef_ridge.min(), coef_ridge.max(), len(coef_ridge))\n",
        "ax[3].plot(x_val_ridge, coef_ridge)\n",
        "plt.title('Ridge Regression')\n",
        "\n",
        "fig.suptitle('Coefficients comparison')\n",
        "plt.tight_layout()"
      ]
    },
    {
      "cell_type": "code",
      "execution_count": 73,
      "metadata": {},
      "outputs": [
        {
          "data": {
            "text/plain": [
              "[<matplotlib.lines.Line2D at 0x264e798ad90>]"
            ]
          },
          "execution_count": 73,
          "metadata": {},
          "output_type": "execute_result"
        },
        {
          "data": {
            "image/png": "[encoded data removed]",
            "text/plain": [
              "<Figure size 640x480 with 1 Axes>"
            ]
          },
          "metadata": {},
          "output_type": "display_data"
        }
      ],
      "source": [
        "# residual plot\n",
        "residual = y_test - y_pred_test\n",
        "plt.plot(residual)"
      ]
    },
    {
      "cell_type": "code",
      "execution_count": null,
      "metadata": {},
      "outputs": [],
      "source": []
    }
  ],
  "metadata": {
    "colab": {
      "provenance": []
    },
    "kernelspec": {
      "display_name": "Python 3",
      "name": "python3"
    },
    "language_info": {
      "codemirror_mode": {
        "name": "ipython",
        "version": 3
      },
      "file_extension": ".py",
      "mimetype": "text/x-python",
      "name": "python",
      "nbconvert_exporter": "python",
      "pygments_lexer": "ipython3",
      "version": "3.11.9"
    }
  },
  "nbformat": 4,
  "nbformat_minor": 0
}
